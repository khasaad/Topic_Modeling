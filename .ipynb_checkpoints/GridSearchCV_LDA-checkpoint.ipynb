{
 "cells": [
  {
   "cell_type": "code",
   "execution_count": null,
   "metadata": {
    "id": "3HtT7phMbNZD"
   },
   "outputs": [],
   "source": [
    "# Run in terminal or command prompt\n",
    "# ! python3 -m spacy download en"
   ]
  },
  {
   "cell_type": "code",
   "execution_count": 1,
   "metadata": {
    "executionInfo": {
     "elapsed": 1739,
     "status": "ok",
     "timestamp": 1651146128140,
     "user": {
      "displayName": "Rim EL CHAMI",
      "userId": "00253556728687326190"
     },
     "user_tz": -120
    },
    "id": "3fxjeA1jbLOo"
   },
   "outputs": [],
   "source": [
    "import numpy as np\n",
    "import pandas as pd\n",
    "import re, nltk, spacy, gensim\n",
    "import joblib  \n",
    "# Sklearn\n",
    "from sklearn.decomposition import LatentDirichletAllocation, TruncatedSVD\n",
    "from sklearn.feature_extraction.text import CountVectorizer, TfidfVectorizer\n",
    "from sklearn.model_selection import GridSearchCV\n",
    "from pprint import pprint\n",
    "from sklearn.manifold import TSNE\n",
    "# Plotting tools\n",
    "import matplotlib.pyplot as plt\n",
    "\n",
    "%matplotlib inline"
   ]
  },
  {
   "cell_type": "markdown",
   "metadata": {
    "id": "Lix7SFeLblPT"
   },
   "source": [
    "### Read data"
   ]
  },
  {
   "cell_type": "code",
   "execution_count": 6,
   "metadata": {
    "executionInfo": {
     "elapsed": 1477,
     "status": "ok",
     "timestamp": 1651146148356,
     "user": {
      "displayName": "Rim EL CHAMI",
      "userId": "00253556728687326190"
     },
     "user_tz": -120
    },
    "id": "4GA23XRxv3yS"
   },
   "outputs": [],
   "source": [
    "data_lemmatized = pd.read_csv('/content/drive/MyDrive/Khaled/Data/data_npr_cleaning.csv', parse_dates=[0], infer_datetime_format=True)"
   ]
  },
  {
   "cell_type": "code",
   "execution_count": 4,
   "metadata": {
    "executionInfo": {
     "elapsed": 3,
     "status": "ok",
     "timestamp": 1651146141651,
     "user": {
      "displayName": "Rim EL CHAMI",
      "userId": "00253556728687326190"
     },
     "user_tz": -120
    },
    "id": "K47rDEqXwMbf"
   },
   "outputs": [],
   "source": [
    "# English stop words\n",
    "list_stopWords = ['year', 'time', 'know', 'come', 'use', 'tell', 'want', 'day', 'say', 'says', 'ha', 'wa', 'like', 'think', 'make', 'new', 'song', 'time', 'i', 'me', 'my', 'myself', 'we', 'our', 'ours', 'ourselves', 'you', \"you're\", \"you've\", \"you'll\", \"you'd\", 'your', 'yours', 'yourself', 'yourselves', 'he', 'him', 'his', 'himself', 'she', \"she's\", 'her', 'hers', 'herself', 'it', \"it's\", 'its', 'itself', 'they', 'them', 'their', 'theirs', 'themselves', 'what', 'which', 'who', 'whom', 'this', 'that', \"that'll\", 'these', 'those', 'am', 'is', 'are', 'was', 'were', 'be', 'been', 'being', 'have', 'has', 'had', 'having', 'do', 'does', 'did', 'doing', 'a', 'an', 'the', 'and', 'but', 'if', 'or', 'because', 'as', 'until', 'while', 'of', 'at', 'by', 'for', 'with', 'about', 'against', 'between', 'into', 'through', 'during', 'before', 'after', 'above', 'below', 'to', 'from', 'up', 'down', 'in', 'out', 'on', 'off', 'over', 'under', 'again', 'further', 'then', 'once', 'here', 'there', 'when', 'where', 'why', 'how', 'all', 'any', 'both', 'each', 'few', 'more', 'most', 'other', 'some', 'such', 'no', 'nor', 'not', 'only', 'own', 'same', 'so', 'than', 'too', 'very', 's', 't', 'can', 'will', 'just', 'don', \"don't\", 'should', \"should've\", 'now', 'd', 'll', 'm', 'o', 're', 've', 'y', 'ain', 'aren', \"aren't\", 'couldn', \"couldn't\", 'didn', \"didn't\", 'doesn', \"doesn't\", 'hadn', \"hadn't\", 'hasn', \"hasn't\", 'haven', \"haven't\", 'isn', \"isn't\", 'ma', 'mightn', \"mightn't\", 'mustn', \"mustn't\", 'needn', \"needn't\", 'shan', \"shan't\", 'shouldn', \"shouldn't\", 'wasn', \"wasn't\", 'weren', \"weren't\", 'won', \"won't\", 'wouldn', \"wouldn't\", 'A', 'a', 'B', 'b', 'C', 'c', 'D', 'd', 'E', 'e', 'F', 'f', 'G', 'g', 'H', 'h', 'I', 'i', 'J', 'j', 'K', 'k', 'L', 'l', 'M', 'm', 'N', 'n', 'O', 'o', 'P', 'p', 'Q', 'q', 'R', 'r', 'S', 's', 'T', 't', 'U', 'u', 'V', 'v', 'W', 'w', 'X', 'x', 'Y', 'y', 'Z', 'z']"
   ]
  },
  {
   "cell_type": "code",
   "execution_count": 5,
   "metadata": {
    "executionInfo": {
     "elapsed": 2,
     "status": "ok",
     "timestamp": 1651146143410,
     "user": {
      "displayName": "Rim EL CHAMI",
      "userId": "00253556728687326190"
     },
     "user_tz": -120
    },
    "id": "QgGi-8tpwT3K"
   },
   "outputs": [],
   "source": [
    "def stop_words(txt: str):\n",
    "    \n",
    "    string_txt = \" \" \n",
    "    list_words = []\n",
    "    \n",
    "    sentence = txt.split()\n",
    "\n",
    "    for val in sentence:\n",
    "        if val not in list_stopWords:\n",
    "            list_words.append(val)\n",
    "\n",
    "    return string_txt.join(list_words)"
   ]
  },
  {
   "cell_type": "code",
   "execution_count": 7,
   "metadata": {
    "executionInfo": {
     "elapsed": 276,
     "status": "ok",
     "timestamp": 1651146151687,
     "user": {
      "displayName": "Rim EL CHAMI",
      "userId": "00253556728687326190"
     },
     "user_tz": -120
    },
    "id": "DuVOUPz2fY-O"
   },
   "outputs": [],
   "source": [
    "data_lemmatized = data_lemmatized.loc[:, ~data_lemmatized.columns.str.contains('^Unnamed')]"
   ]
  },
  {
   "cell_type": "code",
   "execution_count": 8,
   "metadata": {
    "executionInfo": {
     "elapsed": 17142,
     "status": "ok",
     "timestamp": 1651146171730,
     "user": {
      "displayName": "Rim EL CHAMI",
      "userId": "00253556728687326190"
     },
     "user_tz": -120
    },
    "id": "xDHq9Ljowapw"
   },
   "outputs": [],
   "source": [
    "data_lemmatized['Article'] = data_lemmatized['Article'].apply(lambda x: stop_words(x))   "
   ]
  },
  {
   "cell_type": "code",
   "execution_count": 9,
   "metadata": {
    "colab": {
     "base_uri": "https://localhost:8080/",
     "height": 206
    },
    "executionInfo": {
     "elapsed": 17,
     "status": "ok",
     "timestamp": 1651146171731,
     "user": {
      "displayName": "Rim EL CHAMI",
      "userId": "00253556728687326190"
     },
     "user_tz": -120
    },
    "id": "vUJliY-SfmKs",
    "outputId": "adc66c7d-cee3-4572-e0d0-e6bfe94783a6"
   },
   "outputs": [
    {
     "data": {
      "text/html": [
       "\n",
       "  <div id=\"df-92167cfe-9689-4063-90f5-87d7a2f2628f\">\n",
       "    <div class=\"colab-df-container\">\n",
       "      <div>\n",
       "<style scoped>\n",
       "    .dataframe tbody tr th:only-of-type {\n",
       "        vertical-align: middle;\n",
       "    }\n",
       "\n",
       "    .dataframe tbody tr th {\n",
       "        vertical-align: top;\n",
       "    }\n",
       "\n",
       "    .dataframe thead th {\n",
       "        text-align: right;\n",
       "    }\n",
       "</style>\n",
       "<table border=\"1\" class=\"dataframe\">\n",
       "  <thead>\n",
       "    <tr style=\"text-align: right;\">\n",
       "      <th></th>\n",
       "      <th>Article</th>\n",
       "    </tr>\n",
       "  </thead>\n",
       "  <tbody>\n",
       "    <tr>\n",
       "      <th>0</th>\n",
       "      <td>In Washington policy bipartisan politics And s...</td>\n",
       "    </tr>\n",
       "    <tr>\n",
       "      <th>1</th>\n",
       "      <td>Donald Trump Twitter preferred mean communicat...</td>\n",
       "    </tr>\n",
       "    <tr>\n",
       "      <th>2</th>\n",
       "      <td>Donald Trump unabashedly praising Russian Pres...</td>\n",
       "    </tr>\n",
       "    <tr>\n",
       "      <th>3</th>\n",
       "      <td>Updated ET Russian President Vladimir Putin Ru...</td>\n",
       "    </tr>\n",
       "    <tr>\n",
       "      <th>4</th>\n",
       "      <td>From photography illustration video data visua...</td>\n",
       "    </tr>\n",
       "  </tbody>\n",
       "</table>\n",
       "</div>\n",
       "      <button class=\"colab-df-convert\" onclick=\"convertToInteractive('df-92167cfe-9689-4063-90f5-87d7a2f2628f')\"\n",
       "              title=\"Convert this dataframe to an interactive table.\"\n",
       "              style=\"display:none;\">\n",
       "        \n",
       "  <svg xmlns=\"http://www.w3.org/2000/svg\" height=\"24px\"viewBox=\"0 0 24 24\"\n",
       "       width=\"24px\">\n",
       "    <path d=\"M0 0h24v24H0V0z\" fill=\"none\"/>\n",
       "    <path d=\"M18.56 5.44l.94 2.06.94-2.06 2.06-.94-2.06-.94-.94-2.06-.94 2.06-2.06.94zm-11 1L8.5 8.5l.94-2.06 2.06-.94-2.06-.94L8.5 2.5l-.94 2.06-2.06.94zm10 10l.94 2.06.94-2.06 2.06-.94-2.06-.94-.94-2.06-.94 2.06-2.06.94z\"/><path d=\"M17.41 7.96l-1.37-1.37c-.4-.4-.92-.59-1.43-.59-.52 0-1.04.2-1.43.59L10.3 9.45l-7.72 7.72c-.78.78-.78 2.05 0 2.83L4 21.41c.39.39.9.59 1.41.59.51 0 1.02-.2 1.41-.59l7.78-7.78 2.81-2.81c.8-.78.8-2.07 0-2.86zM5.41 20L4 18.59l7.72-7.72 1.47 1.35L5.41 20z\"/>\n",
       "  </svg>\n",
       "      </button>\n",
       "      \n",
       "  <style>\n",
       "    .colab-df-container {\n",
       "      display:flex;\n",
       "      flex-wrap:wrap;\n",
       "      gap: 12px;\n",
       "    }\n",
       "\n",
       "    .colab-df-convert {\n",
       "      background-color: #E8F0FE;\n",
       "      border: none;\n",
       "      border-radius: 50%;\n",
       "      cursor: pointer;\n",
       "      display: none;\n",
       "      fill: #1967D2;\n",
       "      height: 32px;\n",
       "      padding: 0 0 0 0;\n",
       "      width: 32px;\n",
       "    }\n",
       "\n",
       "    .colab-df-convert:hover {\n",
       "      background-color: #E2EBFA;\n",
       "      box-shadow: 0px 1px 2px rgba(60, 64, 67, 0.3), 0px 1px 3px 1px rgba(60, 64, 67, 0.15);\n",
       "      fill: #174EA6;\n",
       "    }\n",
       "\n",
       "    [theme=dark] .colab-df-convert {\n",
       "      background-color: #3B4455;\n",
       "      fill: #D2E3FC;\n",
       "    }\n",
       "\n",
       "    [theme=dark] .colab-df-convert:hover {\n",
       "      background-color: #434B5C;\n",
       "      box-shadow: 0px 1px 3px 1px rgba(0, 0, 0, 0.15);\n",
       "      filter: drop-shadow(0px 1px 2px rgba(0, 0, 0, 0.3));\n",
       "      fill: #FFFFFF;\n",
       "    }\n",
       "  </style>\n",
       "\n",
       "      <script>\n",
       "        const buttonEl =\n",
       "          document.querySelector('#df-92167cfe-9689-4063-90f5-87d7a2f2628f button.colab-df-convert');\n",
       "        buttonEl.style.display =\n",
       "          google.colab.kernel.accessAllowed ? 'block' : 'none';\n",
       "\n",
       "        async function convertToInteractive(key) {\n",
       "          const element = document.querySelector('#df-92167cfe-9689-4063-90f5-87d7a2f2628f');\n",
       "          const dataTable =\n",
       "            await google.colab.kernel.invokeFunction('convertToInteractive',\n",
       "                                                     [key], {});\n",
       "          if (!dataTable) return;\n",
       "\n",
       "          const docLinkHtml = 'Like what you see? Visit the ' +\n",
       "            '<a target=\"_blank\" href=https://colab.research.google.com/notebooks/data_table.ipynb>data table notebook</a>'\n",
       "            + ' to learn more about interactive tables.';\n",
       "          element.innerHTML = '';\n",
       "          dataTable['output_type'] = 'display_data';\n",
       "          await google.colab.output.renderOutput(dataTable, element);\n",
       "          const docLink = document.createElement('div');\n",
       "          docLink.innerHTML = docLinkHtml;\n",
       "          element.appendChild(docLink);\n",
       "        }\n",
       "      </script>\n",
       "    </div>\n",
       "  </div>\n",
       "  "
      ],
      "text/plain": [
       "                                             Article\n",
       "0  In Washington policy bipartisan politics And s...\n",
       "1  Donald Trump Twitter preferred mean communicat...\n",
       "2  Donald Trump unabashedly praising Russian Pres...\n",
       "3  Updated ET Russian President Vladimir Putin Ru...\n",
       "4  From photography illustration video data visua..."
      ]
     },
     "execution_count": 9,
     "metadata": {},
     "output_type": "execute_result"
    }
   ],
   "source": [
    "data_lemmatized.head()"
   ]
  },
  {
   "cell_type": "markdown",
   "metadata": {
    "id": "uoVd7oIHf4LY"
   },
   "source": [
    "### Create the Document-Word matrix"
   ]
  },
  {
   "cell_type": "code",
   "execution_count": 10,
   "metadata": {
    "executionInfo": {
     "elapsed": 5645,
     "status": "ok",
     "timestamp": 1651146194796,
     "user": {
      "displayName": "Rim EL CHAMI",
      "userId": "00253556728687326190"
     },
     "user_tz": -120
    },
    "id": "T3Gj4FNLf5Ob"
   },
   "outputs": [],
   "source": [
    "vectorizer = CountVectorizer(analyzer='word', min_df=10, stop_words='english',             \n",
    "                             lowercase=True, token_pattern='[a-zA-Z0-9]{3,}',\n",
    "                             max_features=50000,)\n",
    "\n",
    "data_vectorized = vectorizer.fit_transform(data_lemmatized['Article'])"
   ]
  },
  {
   "cell_type": "markdown",
   "metadata": {
    "id": "4VP2QaBsgPy0"
   },
   "source": [
    "### Build LDA model with sklearn"
   ]
  },
  {
   "cell_type": "code",
   "execution_count": 11,
   "metadata": {
    "executionInfo": {
     "elapsed": 129909,
     "status": "ok",
     "timestamp": 1651146324699,
     "user": {
      "displayName": "Rim EL CHAMI",
      "userId": "00253556728687326190"
     },
     "user_tz": -120
    },
    "id": "FNvOFDTEgO3Q"
   },
   "outputs": [],
   "source": [
    "# Build LDA Model\n",
    "lda_model = LatentDirichletAllocation(n_components=10, max_iter=10, \n",
    "                                      learning_method='online', random_state=100,\n",
    "                                      batch_size=128, evaluate_every = -1,\n",
    "                                      n_jobs = -1,)\n",
    "\n",
    "lda_output = lda_model.fit_transform(data_vectorized)"
   ]
  },
  {
   "cell_type": "code",
   "execution_count": 23,
   "metadata": {
    "colab": {
     "base_uri": "https://localhost:8080/"
    },
    "executionInfo": {
     "elapsed": 428,
     "status": "ok",
     "timestamp": 1651142897634,
     "user": {
      "displayName": "Rim EL CHAMI",
      "userId": "00253556728687326190"
     },
     "user_tz": -120
    },
    "id": "y32vDCpQgmFN",
    "outputId": "ad1c303c-8c1b-4528-b5d6-9e816eab1a70"
   },
   "outputs": [
    {
     "data": {
      "text/plain": [
       "LatentDirichletAllocation(learning_method='online', n_jobs=-1, random_state=100)"
      ]
     },
     "execution_count": 23,
     "metadata": {},
     "output_type": "execute_result"
    }
   ],
   "source": [
    "lda_model"
   ]
  },
  {
   "cell_type": "code",
   "execution_count": 12,
   "metadata": {
    "colab": {
     "base_uri": "https://localhost:8080/"
    },
    "executionInfo": {
     "elapsed": 20,
     "status": "ok",
     "timestamp": 1651146324699,
     "user": {
      "displayName": "Rim EL CHAMI",
      "userId": "00253556728687326190"
     },
     "user_tz": -120
    },
    "id": "mwzNEUTNgqVU",
    "outputId": "279409e8-0241-40ef-d21e-84930a48f946"
   },
   "outputs": [
    {
     "data": {
      "text/plain": [
       "LatentDirichletAllocation(learning_method='online', n_jobs=-1, random_state=100)"
      ]
     },
     "execution_count": 12,
     "metadata": {},
     "output_type": "execute_result"
    }
   ],
   "source": [
    "LatentDirichletAllocation(batch_size=128, doc_topic_prior=None,\n",
    " evaluate_every=-1, learning_decay=0.7,\n",
    " learning_method='online', learning_offset=10.0,\n",
    " max_doc_update_iter=100, max_iter=10, mean_change_tol=0.001,\n",
    " n_components=10, n_jobs=-1, perp_tol=0.1,\n",
    " random_state=100, topic_word_prior=None,\n",
    " total_samples=1000000.0, verbose=0)"
   ]
  },
  {
   "cell_type": "markdown",
   "metadata": {
    "id": "FZ0jryyWhdNr"
   },
   "source": [
    "### Diagnose model performance with perplexity and log-likelihood"
   ]
  },
  {
   "cell_type": "code",
   "execution_count": 13,
   "metadata": {
    "colab": {
     "base_uri": "https://localhost:8080/"
    },
    "executionInfo": {
     "elapsed": 25168,
     "status": "ok",
     "timestamp": 1651146349857,
     "user": {
      "displayName": "Rim EL CHAMI",
      "userId": "00253556728687326190"
     },
     "user_tz": -120
    },
    "id": "bFJkbeeTheXK",
    "outputId": "736f17f0-978e-471d-d5bd-703f71cf4c37"
   },
   "outputs": [
    {
     "name": "stdout",
     "output_type": "stream",
     "text": [
      "Log Likelihood:  -30691470.67004064\n",
      "Perplexity:  3110.4088018313846\n",
      "{'batch_size': 128,\n",
      " 'doc_topic_prior': None,\n",
      " 'evaluate_every': -1,\n",
      " 'learning_decay': 0.7,\n",
      " 'learning_method': 'online',\n",
      " 'learning_offset': 10.0,\n",
      " 'max_doc_update_iter': 100,\n",
      " 'max_iter': 10,\n",
      " 'mean_change_tol': 0.001,\n",
      " 'n_components': 10,\n",
      " 'n_jobs': -1,\n",
      " 'perp_tol': 0.1,\n",
      " 'random_state': 100,\n",
      " 'topic_word_prior': None,\n",
      " 'total_samples': 1000000.0,\n",
      " 'verbose': 0}\n"
     ]
    }
   ],
   "source": [
    "# Log Likelyhood: Higher the better\n",
    "print(\"Log Likelihood: \", lda_model.score(data_vectorized))\n",
    "# Perplexity: Lower the better. Perplexity = exp(-1. * log-likelihood per word)\n",
    "print(\"Perplexity: \", lda_model.perplexity(data_vectorized))\n",
    "# See model parameters\n",
    "pprint(lda_model.get_params())"
   ]
  },
  {
   "cell_type": "markdown",
   "metadata": {
    "id": "WOr_1QYnhrBa"
   },
   "source": [
    "### Use GridSearch to determine the best LDA model"
   ]
  },
  {
   "cell_type": "code",
   "execution_count": 14,
   "metadata": {
    "colab": {
     "base_uri": "https://localhost:8080/"
    },
    "executionInfo": {
     "elapsed": 15697901,
     "status": "ok",
     "timestamp": 1651162059890,
     "user": {
      "displayName": "Rim EL CHAMI",
      "userId": "00253556728687326190"
     },
     "user_tz": -120
    },
    "id": "2VzdARx-h0WK",
    "outputId": "3e82707f-8d27-4a73-d71e-62f38ab99838"
   },
   "outputs": [
    {
     "data": {
      "text/plain": [
       "GridSearchCV(error_score='raise',\n",
       "             estimator=LatentDirichletAllocation(learning_method=None,\n",
       "                                                 n_jobs=1),\n",
       "             n_jobs=1,\n",
       "             param_grid={'learning_decay': [0.5, 0.7, 0.9],\n",
       "                         'n_topics': [4, 6, 8, 10, 12, 14, 16, 18, 20, 22, 24,\n",
       "                                      26, 28, 30]},\n",
       "             return_train_score='warn')"
      ]
     },
     "execution_count": 14,
     "metadata": {},
     "output_type": "execute_result"
    }
   ],
   "source": [
    "# Define Search Param\n",
    "search_params = {'n_components': [4, 6, 8, 10, 12, 14, 16, 18, 20, 22, 24, 26,\n",
    "                                  28, 30], \n",
    "                 'learning_decay': [.5, .7, .9]}\n",
    "\n",
    "# Init the Model\n",
    "lda = LatentDirichletAllocation(max_iter=5, learning_method='online', \n",
    "                                learning_offset=50.,random_state=0)\n",
    "\n",
    "# Init Grid Search Class\n",
    "model = GridSearchCV(lda, param_grid=search_params)\n",
    "\n",
    "# Do the Grid Search\n",
    "model.fit(data_vectorized)\n",
    "\n",
    "GridSearchCV(cv=None, error_score='raise',\n",
    "    estimator=LatentDirichletAllocation(batch_size=128, doc_topic_prior=None,\n",
    "          evaluate_every=-1, learning_decay=0.7, learning_method=None,\n",
    "          learning_offset=10.0, max_doc_update_iter=100, max_iter=10,\n",
    "          mean_change_tol=0.001, n_components=10, n_jobs=1, perp_tol=0.1, \n",
    "          random_state=None,\n",
    "          topic_word_prior=None, total_samples=1000000.0, verbose=0), n_jobs=1,\n",
    "    param_grid={'n_topics': [4, 6, 8, 10, 12, 14, 16, 18, 20, 22, 24, 26,\n",
    "                                  28, 30], \n",
    "                'learning_decay': [0.5, 0.7, 0.9]},\n",
    "    pre_dispatch='2*n_jobs', refit=True, return_train_score='warn', \n",
    "    scoring=None, verbose=0)"
   ]
  },
  {
   "cell_type": "code",
   "execution_count": 15,
   "metadata": {
    "colab": {
     "base_uri": "https://localhost:8080/",
     "height": 304
    },
    "executionInfo": {
     "elapsed": 1700,
     "status": "error",
     "timestamp": 1651162061575,
     "user": {
      "displayName": "Rim EL CHAMI",
      "userId": "00253556728687326190"
     },
     "user_tz": -120
    },
    "id": "KAOuQO-IjPQk",
    "outputId": "af959fd2-0503-43ac-d23e-363d4e99b15a"
   },
   "outputs": [
    {
     "ename": "FileNotFoundError",
     "evalue": "ignored",
     "output_type": "error",
     "traceback": [
      "\u001b[0;31m---------------------------------------------------------------------------\u001b[0m",
      "\u001b[0;31mFileNotFoundError\u001b[0m                         Traceback (most recent call last)",
      "\u001b[0;32m<ipython-input-15-aa1f4902be08>\u001b[0m in \u001b[0;36m<module>\u001b[0;34m()\u001b[0m\n\u001b[0;32m----> 1\u001b[0;31m \u001b[0mjoblib\u001b[0m\u001b[0;34m.\u001b[0m\u001b[0mdump\u001b[0m\u001b[0;34m(\u001b[0m\u001b[0mmodel\u001b[0m\u001b[0;34m,\u001b[0m \u001b[0;34m'/content/drive/MyDrive/Colab Notebooks/Alternance/Fil rouge project/data/best_model_lda_BOW_GSCV.pkl'\u001b[0m\u001b[0;34m)\u001b[0m\u001b[0;34m\u001b[0m\u001b[0;34m\u001b[0m\u001b[0m\n\u001b[0m",
      "\u001b[0;32m/usr/local/lib/python3.7/dist-packages/joblib/numpy_pickle.py\u001b[0m in \u001b[0;36mdump\u001b[0;34m(value, filename, compress, protocol, cache_size)\u001b[0m\n\u001b[1;32m    479\u001b[0m             \u001b[0mNumpyPickler\u001b[0m\u001b[0;34m(\u001b[0m\u001b[0mf\u001b[0m\u001b[0;34m,\u001b[0m \u001b[0mprotocol\u001b[0m\u001b[0;34m=\u001b[0m\u001b[0mprotocol\u001b[0m\u001b[0;34m)\u001b[0m\u001b[0;34m.\u001b[0m\u001b[0mdump\u001b[0m\u001b[0;34m(\u001b[0m\u001b[0mvalue\u001b[0m\u001b[0;34m)\u001b[0m\u001b[0;34m\u001b[0m\u001b[0;34m\u001b[0m\u001b[0m\n\u001b[1;32m    480\u001b[0m     \u001b[0;32melif\u001b[0m \u001b[0mis_filename\u001b[0m\u001b[0;34m:\u001b[0m\u001b[0;34m\u001b[0m\u001b[0;34m\u001b[0m\u001b[0m\n\u001b[0;32m--> 481\u001b[0;31m         \u001b[0;32mwith\u001b[0m \u001b[0mopen\u001b[0m\u001b[0;34m(\u001b[0m\u001b[0mfilename\u001b[0m\u001b[0;34m,\u001b[0m \u001b[0;34m'wb'\u001b[0m\u001b[0;34m)\u001b[0m \u001b[0;32mas\u001b[0m \u001b[0mf\u001b[0m\u001b[0;34m:\u001b[0m\u001b[0;34m\u001b[0m\u001b[0;34m\u001b[0m\u001b[0m\n\u001b[0m\u001b[1;32m    482\u001b[0m             \u001b[0mNumpyPickler\u001b[0m\u001b[0;34m(\u001b[0m\u001b[0mf\u001b[0m\u001b[0;34m,\u001b[0m \u001b[0mprotocol\u001b[0m\u001b[0;34m=\u001b[0m\u001b[0mprotocol\u001b[0m\u001b[0;34m)\u001b[0m\u001b[0;34m.\u001b[0m\u001b[0mdump\u001b[0m\u001b[0;34m(\u001b[0m\u001b[0mvalue\u001b[0m\u001b[0;34m)\u001b[0m\u001b[0;34m\u001b[0m\u001b[0;34m\u001b[0m\u001b[0m\n\u001b[1;32m    483\u001b[0m     \u001b[0;32melse\u001b[0m\u001b[0;34m:\u001b[0m\u001b[0;34m\u001b[0m\u001b[0;34m\u001b[0m\u001b[0m\n",
      "\u001b[0;31mFileNotFoundError\u001b[0m: [Errno 2] No such file or directory: '/content/drive/MyDrive/Colab Notebooks/Alternance/Fil rouge project/data/best_model_lda_BOW_GSCV.pkl'"
     ]
    }
   ],
   "source": [
    "joblib.dump(model, '/content/drive/MyDrive/Colab Notebooks/Alternance/Fil rouge project/data/best_model_lda_BOW_GSCV.pkl') "
   ]
  },
  {
   "cell_type": "code",
   "execution_count": null,
   "metadata": {
    "id": "55Um6aOXo_oN"
   },
   "outputs": [],
   "source": [
    "BOW_model = joblib.load(\"/content/drive/MyDrive/Khaled/Data/model_lda_BOW_GSCV.pkl\")  "
   ]
  },
  {
   "cell_type": "code",
   "execution_count": null,
   "metadata": {
    "colab": {
     "base_uri": "https://localhost:8080/"
    },
    "executionInfo": {
     "elapsed": 425,
     "status": "ok",
     "timestamp": 1649631096451,
     "user": {
      "displayName": "Rim EL CHAMI",
      "userId": "00253556728687326190"
     },
     "user_tz": -120
    },
    "id": "VDIYs8VW5VK0",
    "outputId": "287725c0-b05e-46a2-d768-130597e79063"
   },
   "outputs": [
    {
     "data": {
      "text/plain": [
       "GridSearchCV(estimator=LatentDirichletAllocation(learning_method='online',\n",
       "                                                 learning_offset=50.0,\n",
       "                                                 max_iter=5, random_state=0),\n",
       "             param_grid={'learning_decay': [0.5, 0.7, 0.9],\n",
       "                         'n_components': [5, 10, 15, 20, 25, 30]})"
      ]
     },
     "execution_count": 4,
     "metadata": {},
     "output_type": "execute_result"
    }
   ],
   "source": [
    "BOW_model         "
   ]
  },
  {
   "cell_type": "code",
   "execution_count": null,
   "metadata": {
    "id": "nkMaMYuB5ese"
   },
   "outputs": [],
   "source": [
    "# Best Model\n",
    "best_lda_model = BOW_model.best_estimator_"
   ]
  },
  {
   "cell_type": "code",
   "execution_count": null,
   "metadata": {
    "colab": {
     "base_uri": "https://localhost:8080/"
    },
    "executionInfo": {
     "elapsed": 553,
     "status": "ok",
     "timestamp": 1649605758407,
     "user": {
      "displayName": "Khaled SAAD",
      "userId": "01813135692060672401"
     },
     "user_tz": -120
    },
    "id": "lz_2XPE6fcFd",
    "outputId": "b39f3f37-206b-4440-ae97-42f3cc63f0ff"
   },
   "outputs": [
    {
     "name": "stdout",
     "output_type": "stream",
     "text": [
      "Best Model's Params:  {'learning_decay': 0.5, 'n_components': 20}\n"
     ]
    }
   ],
   "source": [
    "# Model Parameters\n",
    "print(\"Best Model's Params: \", BOW_model.best_params_)"
   ]
  },
  {
   "cell_type": "code",
   "execution_count": null,
   "metadata": {
    "colab": {
     "base_uri": "https://localhost:8080/"
    },
    "executionInfo": {
     "elapsed": 516,
     "status": "ok",
     "timestamp": 1649594583967,
     "user": {
      "displayName": "Khaled SAAD",
      "userId": "01813135692060672401"
     },
     "user_tz": -120
    },
    "id": "DDM-KkdvfkoS",
    "outputId": "2b972776-7328-46ca-8941-2799fb583139"
   },
   "outputs": [
    {
     "name": "stdout",
     "output_type": "stream",
     "text": [
      "Best Log Likelihood Score:  -4237577.873489391\n"
     ]
    }
   ],
   "source": [
    "# Log Likelihood Score\n",
    "print(\"Best Log Likelihood Score: \", BOW_model.best_score_)"
   ]
  },
  {
   "cell_type": "code",
   "execution_count": null,
   "metadata": {
    "colab": {
     "base_uri": "https://localhost:8080/"
    },
    "executionInfo": {
     "elapsed": 11235,
     "status": "ok",
     "timestamp": 1649594606741,
     "user": {
      "displayName": "Khaled SAAD",
      "userId": "01813135692060672401"
     },
     "user_tz": -120
    },
    "id": "zZkXYaqEf-2s",
    "outputId": "f0926e54-9b31-4d7a-a667-20e265e1e8fc"
   },
   "outputs": [
    {
     "name": "stdout",
     "output_type": "stream",
     "text": [
      "Model Perplexity:  1438.6565716400605\n"
     ]
    }
   ],
   "source": [
    "# Perplexity\n",
    "print(\"Model Perplexity: \", best_lda_model.perplexity(data_vectorized))"
   ]
  },
  {
   "cell_type": "code",
   "execution_count": null,
   "metadata": {
    "id": "24EiBNWcp3Bg"
   },
   "outputs": [],
   "source": [
    "BOW_model.cv_results_"
   ]
  },
  {
   "cell_type": "code",
   "execution_count": null,
   "metadata": {
    "colab": {
     "base_uri": "https://localhost:8080/",
     "height": 513
    },
    "executionInfo": {
     "elapsed": 947,
     "status": "ok",
     "timestamp": 1649597630425,
     "user": {
      "displayName": "Khaled SAAD",
      "userId": "01813135692060672401"
     },
     "user_tz": -120
    },
    "id": "pxW9UqFpqHHx",
    "outputId": "a3f2557b-af18-43ea-c07b-cd057b425320"
   },
   "outputs": [
    {
     "data": {
      "image/png": "[encoded data removed]",
      "text/plain": [
       "<Figure size 864x576 with 1 Axes>"
      ]
     },
     "metadata": {
      "needs_background": "light"
     },
     "output_type": "display_data"
    }
   ],
   "source": [
    "# Get Log Likelyhoods from Grid Search Output\n",
    "nub_topics = [5, 10, 15, 20, 25, 30]\n",
    "mean = 'mean_test_score'\n",
    "log_likelyhoods_5 = [round(BOW_model.cv_results_[mean][i]) for i, gscore in enumerate(BOW_model.cv_results_['params']) if gscore['learning_decay']==0.5]\n",
    "log_likelyhoods_7 = [round(BOW_model.cv_results_[mean][i]) for i, gscore in enumerate(BOW_model.cv_results_['params']) if gscore['learning_decay']==0.7]\n",
    "log_likelyhoods_9 = [round(BOW_model.cv_results_[mean][i]) for i, gscore in enumerate(BOW_model.cv_results_['params']) if gscore['learning_decay']==0.9]\n",
    "\n",
    "# Show graph\n",
    "plt.figure(figsize=(12, 8))\n",
    "plt.plot(nub_topics, log_likelyhoods_5, label='0.5')\n",
    "plt.plot(nub_topics, log_likelyhoods_7, label='0.7')\n",
    "plt.plot(nub_topics, log_likelyhoods_9, label='0.9')\n",
    "plt.title(\"Choosing Optimal LDA Model\")\n",
    "plt.xlabel(\"Num Topics\")\n",
    "plt.ylabel(\"Log Likelyhood Scores\")\n",
    "plt.legend(title='Learning decay', loc='best')\n",
    "plt.show()"
   ]
  },
  {
   "cell_type": "code",
   "execution_count": null,
   "metadata": {
    "id": "NE-l8p96tTh_"
   },
   "outputs": [],
   "source": [
    "def get_keys(topic_matrix):\n",
    "    '''\n",
    "    returns an integer list of predicted topic \n",
    "    categories for a given topic matrix\n",
    "    '''\n",
    "    keys = topic_matrix.argmax(axis=1).tolist()\n",
    "    return keys"
   ]
  },
  {
   "cell_type": "code",
   "execution_count": null,
   "metadata": {
    "id": "8nBhGhdUwwU_"
   },
   "outputs": [],
   "source": [
    "lda_output_GSCV = best_lda_model.transform(data_vectorized)"
   ]
  },
  {
   "cell_type": "code",
   "execution_count": null,
   "metadata": {
    "id": "yEzzjRmzuhXf"
   },
   "outputs": [],
   "source": [
    "lda_keys = get_keys(lda_output_GSCV)"
   ]
  },
  {
   "cell_type": "code",
   "execution_count": null,
   "metadata": {
    "id": "3UEDU_nz2Pn7"
   },
   "outputs": [],
   "source": [
    "n__topics = 20"
   ]
  },
  {
   "cell_type": "code",
   "execution_count": null,
   "metadata": {
    "id": "FmY8yn2tupCH"
   },
   "outputs": [],
   "source": [
    "def get_top_n_words(n, keys, document_term_matrix, count_vectorizer):\n",
    "    '''\n",
    "    returns a list of n_topic strings, where each string contains the n most common \n",
    "    words in a predicted category, in order\n",
    "    '''\n",
    "    top_word_indices = []\n",
    "    for topic in range(n__topics):\n",
    "        temp_vector_sum = 0\n",
    "        for i in range(len(keys)):\n",
    "            if keys[i] == topic:\n",
    "                temp_vector_sum += document_term_matrix[i]\n",
    "        temp_vector_sum = temp_vector_sum.toarray()\n",
    "        top_n_word_indices = np.flip(np.argsort(temp_vector_sum)[0][-n:],0)\n",
    "        top_word_indices.append(top_n_word_indices)   \n",
    "    top_words = []\n",
    "    for topic in top_word_indices:\n",
    "        topic_words = []\n",
    "        for index in topic:\n",
    "            temp_word_vector = np.zeros((1,document_term_matrix.shape[1]))\n",
    "            temp_word_vector[:,index] = 1\n",
    "            the_word = count_vectorizer.inverse_transform(temp_word_vector)[0][0]\n",
    "            topic_words.append(the_word.encode('ascii').decode('utf-8'))\n",
    "        top_words.append(\" \".join(topic_words))         \n",
    "    return top_words"
   ]
  },
  {
   "cell_type": "code",
   "execution_count": null,
   "metadata": {
    "colab": {
     "base_uri": "https://localhost:8080/"
    },
    "executionInfo": {
     "elapsed": 4933,
     "status": "ok",
     "timestamp": 1649631189964,
     "user": {
      "displayName": "Rim EL CHAMI",
      "userId": "00253556728687326190"
     },
     "user_tz": -120
    },
    "id": "VNs-j_6fuyu4",
    "outputId": "b9f401b2-6084-4a08-ead6-2944458bf388"
   },
   "outputs": [
    {
     "name": "stdout",
     "output_type": "stream",
     "text": [
      "Topic 1:  say police attack report officer people kill tell man shoot\n",
      "Topic 2:  say trump report campaign tell investigation election email make president\n",
      "Topic 3:  say people country year make trump think come time know\n",
      "Topic 4:  say food make year eat people use come time grow\n",
      "Topic 5:  music song band say desk play record album year hear\n",
      "Topic 6:  school student say education year child teacher state program college\n",
      "Topic 7:  say make year time people come know music way story\n",
      "Topic 8:  say team woman game win player year play man time\n",
      "Topic 9:  say people study health year disease woman patient use make\n",
      "Topic 10:  say year make animal time use scientist know think science\n",
      "Topic 11:  say people year water report time city make tell come\n",
      "Topic 12:  say trump campaign state vote make win president year candidate\n",
      "Topic 13:  say health people year care percent plan insurance state pay\n",
      "Topic 14:  say drug people use patient treatment doctor addiction study health\n",
      "Topic 15:  say company make people use year work think time want\n",
      "Topic 16:  say gas coal climate oil change power year plant energy\n",
      "Topic 17:  say law state report government rule administration make trump year\n",
      "Topic 18:  sander vote state voter say win percent election candidate trump\n",
      "Topic 19:  say case court year state report law people judge prison\n",
      "Topic 20:  say people think know make time year want thing come\n"
     ]
    }
   ],
   "source": [
    "top_n_words_lda = get_top_n_words(10, lda_keys, data_vectorized, vectorizer)\n",
    "\n",
    "for i in range(len(top_n_words_lda)):\n",
    "    print(\"Topic {}: \".format(i+1), top_n_words_lda[i])"
   ]
  },
  {
   "cell_type": "code",
   "execution_count": null,
   "metadata": {
    "colab": {
     "base_uri": "https://localhost:8080/"
    },
    "executionInfo": {
     "elapsed": 171929,
     "status": "ok",
     "timestamp": 1649631364914,
     "user": {
      "displayName": "Rim EL CHAMI",
      "userId": "00253556728687326190"
     },
     "user_tz": -120
    },
    "id": "EKs-I0VlyR-A",
    "outputId": "17b5c051-aa93-4050-b383-73a10289dedf"
   },
   "outputs": [
    {
     "name": "stderr",
     "output_type": "stream",
     "text": [
      "/usr/local/lib/python3.7/dist-packages/sklearn/manifold/_t_sne.py:783: FutureWarning: The default initialization in TSNE will change from 'random' to 'pca' in 1.2.\n",
      "  FutureWarning,\n"
     ]
    },
    {
     "name": "stdout",
     "output_type": "stream",
     "text": [
      "[t-SNE] Computing 151 nearest neighbors...\n",
      "[t-SNE] Indexed 11992 samples in 0.000s...\n",
      "[t-SNE] Computed neighbors for 11992 samples in 2.926s...\n",
      "[t-SNE] Computed conditional probabilities for sample 1000 / 11992\n",
      "[t-SNE] Computed conditional probabilities for sample 2000 / 11992\n",
      "[t-SNE] Computed conditional probabilities for sample 3000 / 11992\n",
      "[t-SNE] Computed conditional probabilities for sample 4000 / 11992\n",
      "[t-SNE] Computed conditional probabilities for sample 5000 / 11992\n",
      "[t-SNE] Computed conditional probabilities for sample 6000 / 11992\n",
      "[t-SNE] Computed conditional probabilities for sample 7000 / 11992\n",
      "[t-SNE] Computed conditional probabilities for sample 8000 / 11992\n",
      "[t-SNE] Computed conditional probabilities for sample 9000 / 11992\n",
      "[t-SNE] Computed conditional probabilities for sample 10000 / 11992\n",
      "[t-SNE] Computed conditional probabilities for sample 11000 / 11992\n",
      "[t-SNE] Computed conditional probabilities for sample 11992 / 11992\n",
      "[t-SNE] Mean sigma: 0.094537\n",
      "[t-SNE] KL divergence after 250 iterations with early exaggeration: 84.908760\n",
      "[t-SNE] KL divergence after 2000 iterations: 1.722314\n"
     ]
    }
   ],
   "source": [
    "tsne_lda_model = TSNE(n_components=2, perplexity=50, learning_rate=100, \n",
    "                        n_iter=2000, verbose=1, random_state=0, angle=0.75)\n",
    "tsne_lda_vectors = tsne_lda_model.fit_transform(lda_output_GSCV)"
   ]
  },
  {
   "cell_type": "code",
   "execution_count": null,
   "metadata": {
    "colab": {
     "base_uri": "https://localhost:8080/"
    },
    "executionInfo": {
     "elapsed": 403,
     "status": "ok",
     "timestamp": 1649631391394,
     "user": {
      "displayName": "Rim EL CHAMI",
      "userId": "00253556728687326190"
     },
     "user_tz": -120
    },
    "id": "0MHWetHsLiLP",
    "outputId": "e3c1738b-d82f-473a-a899-3904e974cdca"
   },
   "outputs": [
    {
     "data": {
      "text/plain": [
       "array([[-47.61254   ,  -0.47060633],\n",
       "       [-42.308975  ,  -1.2315851 ],\n",
       "       [-46.58393   ,  -0.27159584],\n",
       "       ...,\n",
       "       [ 34.21995   ,   2.0547872 ],\n",
       "       [-33.39321   , -14.962929  ],\n",
       "       [-16.55428   ,  -0.597952  ]], dtype=float32)"
      ]
     },
     "execution_count": 21,
     "metadata": {},
     "output_type": "execute_result"
    }
   ],
   "source": [
    "tsne_lda_vectors"
   ]
  },
  {
   "cell_type": "code",
   "execution_count": null,
   "metadata": {
    "id": "zw3vmfNvyzuQ"
   },
   "outputs": [],
   "source": [
    "def get_mean_topic_vectors(keys, two_dim_vectors):\n",
    "    '''\n",
    "    returns a list of centroid vectors from each predicted topic category\n",
    "    '''\n",
    "    mean_topic_vectors = []\n",
    "    for t in range(n__topics):\n",
    "        articles_in_that_topic = []\n",
    "        for i in range(len(keys)):\n",
    "            if keys[i] == t:\n",
    "                articles_in_that_topic.append(two_dim_vectors[i])    \n",
    "        \n",
    "        articles_in_that_topic = np.vstack(articles_in_that_topic)\n",
    "        mean_article_in_that_topic = np.mean(articles_in_that_topic, axis=0)\n",
    "        mean_topic_vectors.append(mean_article_in_that_topic)\n",
    "    return mean_topic_vectors"
   ]
  },
  {
   "cell_type": "code",
   "execution_count": null,
   "metadata": {
    "id": "4BtY2kOBy2ro"
   },
   "outputs": [],
   "source": [
    "colormap = np.array([\n",
    "    \"#1f77b4\", \"#aec7e8\", \"#ff7f0e\", \"#ffbb78\", \"#2ca02c\",\n",
    "    \"#98df8a\", \"#d62728\", \"#ff9896\", \"#9467bd\", \"#c5b0d5\",\n",
    "    \"#8c564b\", \"#c49c94\", \"#e377c2\", \"#f7b6d2\", \"#7f7f7f\",\n",
    "    \"#c7c7c7\", \"#bcbd22\", \"#dbdb8d\", \"#17becf\", \"#9edae5\",])\n",
    "colormap = colormap[:n__topics]"
   ]
  },
  {
   "cell_type": "code",
   "execution_count": null,
   "metadata": {
    "id": "Zf9f-Ny_pcyv"
   },
   "outputs": [],
   "source": [
    "# !pip install bokeh"
   ]
  },
  {
   "cell_type": "code",
   "execution_count": null,
   "metadata": {
    "id": "sJ1DiHqzMT1_"
   },
   "outputs": [],
   "source": [
    "from bokeh.models import Label\n",
    "from bokeh.plotting import figure, show\n",
    "\n",
    "top_3_words_lda = get_top_n_words(3, lda_keys, data_vectorized, vectorizer)\n",
    "lda_mean_topic_vectors = get_mean_topic_vectors(lda_keys, tsne_lda_vectors)\n",
    "\n",
    "plot = figure(title=\"t-SNE Clustering of LDA Topics\".format(20), plot_width=700, plot_height=700)\n",
    "plot.scatter(x=tsne_lda_vectors[:,0].tolist(), y=tsne_lda_vectors[:,1].tolist(), color=colormap[lda_keys])\n",
    "\n",
    "for t in range(20):\n",
    "    label = Label(x=lda_mean_topic_vectors[t][0], y=lda_mean_topic_vectors[t][1], \n",
    "                  text=top_3_words_lda[t], text_color=colormap[t])\n",
    "    plot.add_layout(label)\n",
    "    \n",
    "show(plot) "
   ]
  },
  {
   "cell_type": "code",
   "execution_count": null,
   "metadata": {
    "colab": {
     "base_uri": "https://localhost:8080/"
    },
    "executionInfo": {
     "elapsed": 342,
     "status": "ok",
     "timestamp": 1649626800114,
     "user": {
      "displayName": "Khaled SAAD",
      "userId": "01813135692060672401"
     },
     "user_tz": -120
    },
    "id": "taF8yHn_Ls-1",
    "outputId": "05e95d4d-dc49-4282-8d04-e3c4b3c90b24"
   },
   "outputs": [
    {
     "data": {
      "text/plain": [
       "['say police attack',\n",
       " 'say trump report',\n",
       " 'say people country',\n",
       " 'say food make',\n",
       " 'music song band',\n",
       " 'school student say',\n",
       " 'say make year',\n",
       " 'say team woman',\n",
       " 'say people study',\n",
       " 'say year make',\n",
       " 'say people year',\n",
       " 'say trump campaign',\n",
       " 'say health people',\n",
       " 'say drug people',\n",
       " 'say company make',\n",
       " 'say gas coal',\n",
       " 'say law state',\n",
       " 'sander vote state',\n",
       " 'say case court',\n",
       " 'say people think']"
      ]
     },
     "execution_count": 33,
     "metadata": {},
     "output_type": "execute_result"
    }
   ],
   "source": [
    "top_3_words_lda"
   ]
  },
  {
   "cell_type": "code",
   "execution_count": null,
   "metadata": {
    "colab": {
     "base_uri": "https://localhost:8080/"
    },
    "executionInfo": {
     "elapsed": 353,
     "status": "ok",
     "timestamp": 1649626808571,
     "user": {
      "displayName": "Khaled SAAD",
      "userId": "01813135692060672401"
     },
     "user_tz": -120
    },
    "id": "5qx344aHL3Bm",
    "outputId": "101dc9da-ceb3-49b4-a363-0ea376c19019"
   },
   "outputs": [
    {
     "data": {
      "text/plain": [
       "[array([-16.285362,  46.828823], dtype=float32),\n",
       " array([-44.74038 ,  10.288537], dtype=float32),\n",
       " array([-22.176954 ,   0.9624081], dtype=float32),\n",
       " array([56.968185, -8.758577], dtype=float32),\n",
       " array([ 29.022923, -48.13513 ], dtype=float32),\n",
       " array([-11.971657, -56.354084], dtype=float32),\n",
       " array([ 12.473306, -33.064766], dtype=float32),\n",
       " array([  1.1984769, -14.562233 ], dtype=float32),\n",
       " array([47.697205, 16.857096], dtype=float32),\n",
       " array([29.945007, 25.662989], dtype=float32),\n",
       " array([ 6.7701416, 38.248104 ], dtype=float32),\n",
       " array([-42.598328, -12.122665], dtype=float32),\n",
       " array([-22.947138, -28.071632], dtype=float32),\n",
       " array([33.130966, 20.321217], dtype=float32),\n",
       " array([-0.9901074,  9.029241 ], dtype=float32),\n",
       " array([-14.487671,  20.92303 ], dtype=float32),\n",
       " array([-21.90169 ,  15.449482], dtype=float32),\n",
       " array([-50.349564, -21.816246], dtype=float32),\n",
       " array([-35.8069 ,  36.10019], dtype=float32),\n",
       " array([ 16.63348 , -11.727286], dtype=float32)]"
      ]
     },
     "execution_count": 34,
     "metadata": {},
     "output_type": "execute_result"
    }
   ],
   "source": [
    "lda_mean_topic_vectors"
   ]
  },
  {
   "cell_type": "markdown",
   "metadata": {
    "id": "P2Rm6HZpgD8Y"
   },
   "source": [
    "### Dominant topic"
   ]
  },
  {
   "cell_type": "code",
   "execution_count": null,
   "metadata": {
    "colab": {
     "base_uri": "https://localhost:8080/",
     "height": 540
    },
    "executionInfo": {
     "elapsed": 10045,
     "status": "ok",
     "timestamp": 1649599119441,
     "user": {
      "displayName": "Khaled SAAD",
      "userId": "01813135692060672401"
     },
     "user_tz": -120
    },
    "id": "cEDse91ugGzp",
    "outputId": "2806147b-1c1e-47eb-e261-12d66107bb59"
   },
   "outputs": [
    {
     "data": {
      "text/html": [
       "<style type=\"text/css\">\n",
       "#T_b08be_row0_col0, #T_b08be_row0_col2, #T_b08be_row0_col3, #T_b08be_row0_col4, #T_b08be_row0_col5, #T_b08be_row0_col6, #T_b08be_row0_col7, #T_b08be_row0_col8, #T_b08be_row0_col9, #T_b08be_row0_col10, #T_b08be_row0_col12, #T_b08be_row0_col13, #T_b08be_row0_col14, #T_b08be_row0_col15, #T_b08be_row0_col16, #T_b08be_row0_col17, #T_b08be_row0_col18, #T_b08be_row0_col19, #T_b08be_row1_col0, #T_b08be_row1_col3, #T_b08be_row1_col4, #T_b08be_row1_col5, #T_b08be_row1_col6, #T_b08be_row1_col7, #T_b08be_row1_col8, #T_b08be_row1_col9, #T_b08be_row1_col12, #T_b08be_row1_col13, #T_b08be_row1_col14, #T_b08be_row1_col15, #T_b08be_row1_col17, #T_b08be_row1_col18, #T_b08be_row1_col19, #T_b08be_row2_col0, #T_b08be_row2_col3, #T_b08be_row2_col4, #T_b08be_row2_col5, #T_b08be_row2_col6, #T_b08be_row2_col7, #T_b08be_row2_col8, #T_b08be_row2_col9, #T_b08be_row2_col10, #T_b08be_row2_col12, #T_b08be_row2_col13, #T_b08be_row2_col14, #T_b08be_row2_col15, #T_b08be_row2_col16, #T_b08be_row2_col17, #T_b08be_row2_col18, #T_b08be_row2_col19, #T_b08be_row3_col0, #T_b08be_row3_col3, #T_b08be_row3_col4, #T_b08be_row3_col5, #T_b08be_row3_col6, #T_b08be_row3_col7, #T_b08be_row3_col8, #T_b08be_row3_col9, #T_b08be_row3_col10, #T_b08be_row3_col11, #T_b08be_row3_col12, #T_b08be_row3_col13, #T_b08be_row3_col14, #T_b08be_row3_col15, #T_b08be_row3_col17, #T_b08be_row3_col18, #T_b08be_row3_col19, #T_b08be_row4_col0, #T_b08be_row4_col1, #T_b08be_row4_col3, #T_b08be_row4_col4, #T_b08be_row4_col5, #T_b08be_row4_col7, #T_b08be_row4_col8, #T_b08be_row4_col9, #T_b08be_row4_col10, #T_b08be_row4_col11, #T_b08be_row4_col12, #T_b08be_row4_col13, #T_b08be_row4_col14, #T_b08be_row4_col15, #T_b08be_row4_col16, #T_b08be_row4_col17, #T_b08be_row4_col18, #T_b08be_row4_col19, #T_b08be_row5_col0, #T_b08be_row5_col1, #T_b08be_row5_col2, #T_b08be_row5_col3, #T_b08be_row5_col4, #T_b08be_row5_col5, #T_b08be_row5_col6, #T_b08be_row5_col7, #T_b08be_row5_col9, #T_b08be_row5_col10, #T_b08be_row5_col11, #T_b08be_row5_col12, #T_b08be_row5_col14, #T_b08be_row5_col15, #T_b08be_row5_col16, #T_b08be_row5_col17, #T_b08be_row5_col18, #T_b08be_row6_col0, #T_b08be_row6_col1, #T_b08be_row6_col2, #T_b08be_row6_col3, #T_b08be_row6_col4, #T_b08be_row6_col5, #T_b08be_row6_col6, #T_b08be_row6_col7, #T_b08be_row6_col9, #T_b08be_row6_col10, #T_b08be_row6_col11, #T_b08be_row6_col12, #T_b08be_row6_col14, #T_b08be_row6_col15, #T_b08be_row6_col16, #T_b08be_row6_col17, #T_b08be_row6_col18, #T_b08be_row6_col19, #T_b08be_row7_col0, #T_b08be_row7_col1, #T_b08be_row7_col3, #T_b08be_row7_col4, #T_b08be_row7_col5, #T_b08be_row7_col6, #T_b08be_row7_col7, #T_b08be_row7_col8, #T_b08be_row7_col9, #T_b08be_row7_col11, #T_b08be_row7_col12, #T_b08be_row7_col13, #T_b08be_row7_col14, #T_b08be_row7_col15, #T_b08be_row7_col16, #T_b08be_row7_col17, #T_b08be_row7_col18, #T_b08be_row8_col0, #T_b08be_row8_col1, #T_b08be_row8_col3, #T_b08be_row8_col5, #T_b08be_row8_col6, #T_b08be_row8_col7, #T_b08be_row8_col10, #T_b08be_row8_col11, #T_b08be_row8_col12, #T_b08be_row8_col13, #T_b08be_row8_col14, #T_b08be_row8_col15, #T_b08be_row8_col16, #T_b08be_row8_col17, #T_b08be_row8_col18, #T_b08be_row9_col0, #T_b08be_row9_col1, #T_b08be_row9_col2, #T_b08be_row9_col4, #T_b08be_row9_col5, #T_b08be_row9_col6, #T_b08be_row9_col7, #T_b08be_row9_col8, #T_b08be_row9_col9, #T_b08be_row9_col11, #T_b08be_row9_col12, #T_b08be_row9_col13, #T_b08be_row9_col14, #T_b08be_row9_col15, #T_b08be_row9_col16, #T_b08be_row9_col17, #T_b08be_row9_col18, #T_b08be_row10_col0, #T_b08be_row10_col1, #T_b08be_row10_col2, #T_b08be_row10_col3, #T_b08be_row10_col4, #T_b08be_row10_col5, #T_b08be_row10_col7, #T_b08be_row10_col8, #T_b08be_row10_col9, #T_b08be_row10_col11, #T_b08be_row10_col12, #T_b08be_row10_col13, #T_b08be_row10_col14, #T_b08be_row10_col15, #T_b08be_row10_col16, #T_b08be_row10_col17, #T_b08be_row10_col18, #T_b08be_row11_col0, #T_b08be_row11_col1, #T_b08be_row11_col2, #T_b08be_row11_col3, #T_b08be_row11_col4, #T_b08be_row11_col5, #T_b08be_row11_col7, #T_b08be_row11_col8, #T_b08be_row11_col11, #T_b08be_row11_col12, #T_b08be_row11_col13, #T_b08be_row11_col14, #T_b08be_row11_col15, #T_b08be_row11_col16, #T_b08be_row11_col17, #T_b08be_row11_col18, #T_b08be_row11_col19, #T_b08be_row12_col0, #T_b08be_row12_col1, #T_b08be_row12_col2, #T_b08be_row12_col3, #T_b08be_row12_col4, #T_b08be_row12_col5, #T_b08be_row12_col6, #T_b08be_row12_col7, #T_b08be_row12_col8, #T_b08be_row12_col9, #T_b08be_row12_col11, #T_b08be_row12_col12, #T_b08be_row12_col13, #T_b08be_row12_col15, #T_b08be_row12_col16, #T_b08be_row12_col17, #T_b08be_row12_col18, #T_b08be_row13_col0, #T_b08be_row13_col1, #T_b08be_row13_col2, #T_b08be_row13_col4, #T_b08be_row13_col5, #T_b08be_row13_col7, #T_b08be_row13_col8, #T_b08be_row13_col9, #T_b08be_row13_col10, #T_b08be_row13_col11, #T_b08be_row13_col12, #T_b08be_row13_col13, #T_b08be_row13_col14, #T_b08be_row13_col15, #T_b08be_row13_col16, #T_b08be_row13_col17, #T_b08be_row13_col18, #T_b08be_row13_col19, #T_b08be_row14_col0, #T_b08be_row14_col1, #T_b08be_row14_col2, #T_b08be_row14_col4, #T_b08be_row14_col5, #T_b08be_row14_col6, #T_b08be_row14_col7, #T_b08be_row14_col9, #T_b08be_row14_col10, #T_b08be_row14_col11, #T_b08be_row14_col12, #T_b08be_row14_col14, #T_b08be_row14_col15, #T_b08be_row14_col16, #T_b08be_row14_col17, #T_b08be_row14_col18 {\n",
       "  color: black;\n",
       "  font-weight: 400;\n",
       "}\n",
       "#T_b08be_row0_col1, #T_b08be_row0_col11, #T_b08be_row0_col20, #T_b08be_row1_col1, #T_b08be_row1_col2, #T_b08be_row1_col10, #T_b08be_row1_col11, #T_b08be_row1_col16, #T_b08be_row1_col20, #T_b08be_row2_col1, #T_b08be_row2_col2, #T_b08be_row2_col11, #T_b08be_row2_col20, #T_b08be_row3_col1, #T_b08be_row3_col2, #T_b08be_row3_col16, #T_b08be_row3_col20, #T_b08be_row4_col2, #T_b08be_row4_col6, #T_b08be_row4_col20, #T_b08be_row5_col8, #T_b08be_row5_col13, #T_b08be_row5_col19, #T_b08be_row5_col20, #T_b08be_row6_col8, #T_b08be_row6_col13, #T_b08be_row6_col20, #T_b08be_row7_col2, #T_b08be_row7_col10, #T_b08be_row7_col19, #T_b08be_row7_col20, #T_b08be_row8_col2, #T_b08be_row8_col4, #T_b08be_row8_col8, #T_b08be_row8_col9, #T_b08be_row8_col19, #T_b08be_row8_col20, #T_b08be_row9_col3, #T_b08be_row9_col10, #T_b08be_row9_col19, #T_b08be_row9_col20, #T_b08be_row10_col6, #T_b08be_row10_col10, #T_b08be_row10_col19, #T_b08be_row10_col20, #T_b08be_row11_col6, #T_b08be_row11_col9, #T_b08be_row11_col10, #T_b08be_row11_col20, #T_b08be_row12_col10, #T_b08be_row12_col14, #T_b08be_row12_col19, #T_b08be_row12_col20, #T_b08be_row13_col3, #T_b08be_row13_col6, #T_b08be_row13_col20, #T_b08be_row14_col3, #T_b08be_row14_col8, #T_b08be_row14_col13, #T_b08be_row14_col19, #T_b08be_row14_col20 {\n",
       "  color: red;\n",
       "  font-weight: 700;\n",
       "}\n",
       "</style>\n",
       "<table id=\"T_b08be_\" class=\"dataframe\">\n",
       "  <thead>\n",
       "    <tr>\n",
       "      <th class=\"blank level0\" >&nbsp;</th>\n",
       "      <th class=\"col_heading level0 col0\" >Topic0</th>\n",
       "      <th class=\"col_heading level0 col1\" >Topic1</th>\n",
       "      <th class=\"col_heading level0 col2\" >Topic2</th>\n",
       "      <th class=\"col_heading level0 col3\" >Topic3</th>\n",
       "      <th class=\"col_heading level0 col4\" >Topic4</th>\n",
       "      <th class=\"col_heading level0 col5\" >Topic5</th>\n",
       "      <th class=\"col_heading level0 col6\" >Topic6</th>\n",
       "      <th class=\"col_heading level0 col7\" >Topic7</th>\n",
       "      <th class=\"col_heading level0 col8\" >Topic8</th>\n",
       "      <th class=\"col_heading level0 col9\" >Topic9</th>\n",
       "      <th class=\"col_heading level0 col10\" >Topic10</th>\n",
       "      <th class=\"col_heading level0 col11\" >Topic11</th>\n",
       "      <th class=\"col_heading level0 col12\" >Topic12</th>\n",
       "      <th class=\"col_heading level0 col13\" >Topic13</th>\n",
       "      <th class=\"col_heading level0 col14\" >Topic14</th>\n",
       "      <th class=\"col_heading level0 col15\" >Topic15</th>\n",
       "      <th class=\"col_heading level0 col16\" >Topic16</th>\n",
       "      <th class=\"col_heading level0 col17\" >Topic17</th>\n",
       "      <th class=\"col_heading level0 col18\" >Topic18</th>\n",
       "      <th class=\"col_heading level0 col19\" >Topic19</th>\n",
       "      <th class=\"col_heading level0 col20\" >dominant_topic</th>\n",
       "    </tr>\n",
       "  </thead>\n",
       "  <tbody>\n",
       "    <tr>\n",
       "      <th id=\"T_b08be_level0_row0\" class=\"row_heading level0 row0\" >Doc0</th>\n",
       "      <td id=\"T_b08be_row0_col0\" class=\"data row0 col0\" >0.020000</td>\n",
       "      <td id=\"T_b08be_row0_col1\" class=\"data row0 col1\" >0.370000</td>\n",
       "      <td id=\"T_b08be_row0_col2\" class=\"data row0 col2\" >0.100000</td>\n",
       "      <td id=\"T_b08be_row0_col3\" class=\"data row0 col3\" >0.000000</td>\n",
       "      <td id=\"T_b08be_row0_col4\" class=\"data row0 col4\" >0.000000</td>\n",
       "      <td id=\"T_b08be_row0_col5\" class=\"data row0 col5\" >0.000000</td>\n",
       "      <td id=\"T_b08be_row0_col6\" class=\"data row0 col6\" >0.010000</td>\n",
       "      <td id=\"T_b08be_row0_col7\" class=\"data row0 col7\" >0.000000</td>\n",
       "      <td id=\"T_b08be_row0_col8\" class=\"data row0 col8\" >0.000000</td>\n",
       "      <td id=\"T_b08be_row0_col9\" class=\"data row0 col9\" >0.000000</td>\n",
       "      <td id=\"T_b08be_row0_col10\" class=\"data row0 col10\" >0.010000</td>\n",
       "      <td id=\"T_b08be_row0_col11\" class=\"data row0 col11\" >0.310000</td>\n",
       "      <td id=\"T_b08be_row0_col12\" class=\"data row0 col12\" >0.010000</td>\n",
       "      <td id=\"T_b08be_row0_col13\" class=\"data row0 col13\" >0.000000</td>\n",
       "      <td id=\"T_b08be_row0_col14\" class=\"data row0 col14\" >0.000000</td>\n",
       "      <td id=\"T_b08be_row0_col15\" class=\"data row0 col15\" >0.020000</td>\n",
       "      <td id=\"T_b08be_row0_col16\" class=\"data row0 col16\" >0.080000</td>\n",
       "      <td id=\"T_b08be_row0_col17\" class=\"data row0 col17\" >0.000000</td>\n",
       "      <td id=\"T_b08be_row0_col18\" class=\"data row0 col18\" >0.000000</td>\n",
       "      <td id=\"T_b08be_row0_col19\" class=\"data row0 col19\" >0.050000</td>\n",
       "      <td id=\"T_b08be_row0_col20\" class=\"data row0 col20\" >1</td>\n",
       "    </tr>\n",
       "    <tr>\n",
       "      <th id=\"T_b08be_level0_row1\" class=\"row_heading level0 row1\" >Doc1</th>\n",
       "      <td id=\"T_b08be_row1_col0\" class=\"data row1 col0\" >0.000000</td>\n",
       "      <td id=\"T_b08be_row1_col1\" class=\"data row1 col1\" >0.270000</td>\n",
       "      <td id=\"T_b08be_row1_col2\" class=\"data row1 col2\" >0.120000</td>\n",
       "      <td id=\"T_b08be_row1_col3\" class=\"data row1 col3\" >0.000000</td>\n",
       "      <td id=\"T_b08be_row1_col4\" class=\"data row1 col4\" >0.000000</td>\n",
       "      <td id=\"T_b08be_row1_col5\" class=\"data row1 col5\" >0.000000</td>\n",
       "      <td id=\"T_b08be_row1_col6\" class=\"data row1 col6\" >0.000000</td>\n",
       "      <td id=\"T_b08be_row1_col7\" class=\"data row1 col7\" >0.000000</td>\n",
       "      <td id=\"T_b08be_row1_col8\" class=\"data row1 col8\" >0.000000</td>\n",
       "      <td id=\"T_b08be_row1_col9\" class=\"data row1 col9\" >0.000000</td>\n",
       "      <td id=\"T_b08be_row1_col10\" class=\"data row1 col10\" >0.130000</td>\n",
       "      <td id=\"T_b08be_row1_col11\" class=\"data row1 col11\" >0.230000</td>\n",
       "      <td id=\"T_b08be_row1_col12\" class=\"data row1 col12\" >0.000000</td>\n",
       "      <td id=\"T_b08be_row1_col13\" class=\"data row1 col13\" >0.000000</td>\n",
       "      <td id=\"T_b08be_row1_col14\" class=\"data row1 col14\" >0.030000</td>\n",
       "      <td id=\"T_b08be_row1_col15\" class=\"data row1 col15\" >0.000000</td>\n",
       "      <td id=\"T_b08be_row1_col16\" class=\"data row1 col16\" >0.170000</td>\n",
       "      <td id=\"T_b08be_row1_col17\" class=\"data row1 col17\" >0.000000</td>\n",
       "      <td id=\"T_b08be_row1_col18\" class=\"data row1 col18\" >0.000000</td>\n",
       "      <td id=\"T_b08be_row1_col19\" class=\"data row1 col19\" >0.050000</td>\n",
       "      <td id=\"T_b08be_row1_col20\" class=\"data row1 col20\" >1</td>\n",
       "    </tr>\n",
       "    <tr>\n",
       "      <th id=\"T_b08be_level0_row2\" class=\"row_heading level0 row2\" >Doc2</th>\n",
       "      <td id=\"T_b08be_row2_col0\" class=\"data row2 col0\" >0.010000</td>\n",
       "      <td id=\"T_b08be_row2_col1\" class=\"data row2 col1\" >0.350000</td>\n",
       "      <td id=\"T_b08be_row2_col2\" class=\"data row2 col2\" >0.190000</td>\n",
       "      <td id=\"T_b08be_row2_col3\" class=\"data row2 col3\" >0.000000</td>\n",
       "      <td id=\"T_b08be_row2_col4\" class=\"data row2 col4\" >0.000000</td>\n",
       "      <td id=\"T_b08be_row2_col5\" class=\"data row2 col5\" >0.000000</td>\n",
       "      <td id=\"T_b08be_row2_col6\" class=\"data row2 col6\" >0.020000</td>\n",
       "      <td id=\"T_b08be_row2_col7\" class=\"data row2 col7\" >0.030000</td>\n",
       "      <td id=\"T_b08be_row2_col8\" class=\"data row2 col8\" >0.000000</td>\n",
       "      <td id=\"T_b08be_row2_col9\" class=\"data row2 col9\" >0.000000</td>\n",
       "      <td id=\"T_b08be_row2_col10\" class=\"data row2 col10\" >0.040000</td>\n",
       "      <td id=\"T_b08be_row2_col11\" class=\"data row2 col11\" >0.330000</td>\n",
       "      <td id=\"T_b08be_row2_col12\" class=\"data row2 col12\" >0.000000</td>\n",
       "      <td id=\"T_b08be_row2_col13\" class=\"data row2 col13\" >0.000000</td>\n",
       "      <td id=\"T_b08be_row2_col14\" class=\"data row2 col14\" >0.000000</td>\n",
       "      <td id=\"T_b08be_row2_col15\" class=\"data row2 col15\" >0.000000</td>\n",
       "      <td id=\"T_b08be_row2_col16\" class=\"data row2 col16\" >0.030000</td>\n",
       "      <td id=\"T_b08be_row2_col17\" class=\"data row2 col17\" >0.000000</td>\n",
       "      <td id=\"T_b08be_row2_col18\" class=\"data row2 col18\" >0.000000</td>\n",
       "      <td id=\"T_b08be_row2_col19\" class=\"data row2 col19\" >0.000000</td>\n",
       "      <td id=\"T_b08be_row2_col20\" class=\"data row2 col20\" >1</td>\n",
       "    </tr>\n",
       "    <tr>\n",
       "      <th id=\"T_b08be_level0_row3\" class=\"row_heading level0 row3\" >Doc3</th>\n",
       "      <td id=\"T_b08be_row3_col0\" class=\"data row3 col0\" >0.000000</td>\n",
       "      <td id=\"T_b08be_row3_col1\" class=\"data row3 col1\" >0.290000</td>\n",
       "      <td id=\"T_b08be_row3_col2\" class=\"data row3 col2\" >0.300000</td>\n",
       "      <td id=\"T_b08be_row3_col3\" class=\"data row3 col3\" >0.000000</td>\n",
       "      <td id=\"T_b08be_row3_col4\" class=\"data row3 col4\" >0.000000</td>\n",
       "      <td id=\"T_b08be_row3_col5\" class=\"data row3 col5\" >0.000000</td>\n",
       "      <td id=\"T_b08be_row3_col6\" class=\"data row3 col6\" >0.000000</td>\n",
       "      <td id=\"T_b08be_row3_col7\" class=\"data row3 col7\" >0.000000</td>\n",
       "      <td id=\"T_b08be_row3_col8\" class=\"data row3 col8\" >0.000000</td>\n",
       "      <td id=\"T_b08be_row3_col9\" class=\"data row3 col9\" >0.000000</td>\n",
       "      <td id=\"T_b08be_row3_col10\" class=\"data row3 col10\" >0.080000</td>\n",
       "      <td id=\"T_b08be_row3_col11\" class=\"data row3 col11\" >0.000000</td>\n",
       "      <td id=\"T_b08be_row3_col12\" class=\"data row3 col12\" >0.000000</td>\n",
       "      <td id=\"T_b08be_row3_col13\" class=\"data row3 col13\" >0.000000</td>\n",
       "      <td id=\"T_b08be_row3_col14\" class=\"data row3 col14\" >0.050000</td>\n",
       "      <td id=\"T_b08be_row3_col15\" class=\"data row3 col15\" >0.000000</td>\n",
       "      <td id=\"T_b08be_row3_col16\" class=\"data row3 col16\" >0.230000</td>\n",
       "      <td id=\"T_b08be_row3_col17\" class=\"data row3 col17\" >0.020000</td>\n",
       "      <td id=\"T_b08be_row3_col18\" class=\"data row3 col18\" >0.000000</td>\n",
       "      <td id=\"T_b08be_row3_col19\" class=\"data row3 col19\" >0.030000</td>\n",
       "      <td id=\"T_b08be_row3_col20\" class=\"data row3 col20\" >2</td>\n",
       "    </tr>\n",
       "    <tr>\n",
       "      <th id=\"T_b08be_level0_row4\" class=\"row_heading level0 row4\" >Doc4</th>\n",
       "      <td id=\"T_b08be_row4_col0\" class=\"data row4 col0\" >0.080000</td>\n",
       "      <td id=\"T_b08be_row4_col1\" class=\"data row4 col1\" >0.030000</td>\n",
       "      <td id=\"T_b08be_row4_col2\" class=\"data row4 col2\" >0.110000</td>\n",
       "      <td id=\"T_b08be_row4_col3\" class=\"data row4 col3\" >0.020000</td>\n",
       "      <td id=\"T_b08be_row4_col4\" class=\"data row4 col4\" >0.030000</td>\n",
       "      <td id=\"T_b08be_row4_col5\" class=\"data row4 col5\" >0.080000</td>\n",
       "      <td id=\"T_b08be_row4_col6\" class=\"data row4 col6\" >0.170000</td>\n",
       "      <td id=\"T_b08be_row4_col7\" class=\"data row4 col7\" >0.050000</td>\n",
       "      <td id=\"T_b08be_row4_col8\" class=\"data row4 col8\" >0.010000</td>\n",
       "      <td id=\"T_b08be_row4_col9\" class=\"data row4 col9\" >0.000000</td>\n",
       "      <td id=\"T_b08be_row4_col10\" class=\"data row4 col10\" >0.070000</td>\n",
       "      <td id=\"T_b08be_row4_col11\" class=\"data row4 col11\" >0.030000</td>\n",
       "      <td id=\"T_b08be_row4_col12\" class=\"data row4 col12\" >0.050000</td>\n",
       "      <td id=\"T_b08be_row4_col13\" class=\"data row4 col13\" >0.020000</td>\n",
       "      <td id=\"T_b08be_row4_col14\" class=\"data row4 col14\" >0.080000</td>\n",
       "      <td id=\"T_b08be_row4_col15\" class=\"data row4 col15\" >0.050000</td>\n",
       "      <td id=\"T_b08be_row4_col16\" class=\"data row4 col16\" >0.060000</td>\n",
       "      <td id=\"T_b08be_row4_col17\" class=\"data row4 col17\" >0.000000</td>\n",
       "      <td id=\"T_b08be_row4_col18\" class=\"data row4 col18\" >0.020000</td>\n",
       "      <td id=\"T_b08be_row4_col19\" class=\"data row4 col19\" >0.050000</td>\n",
       "      <td id=\"T_b08be_row4_col20\" class=\"data row4 col20\" >6</td>\n",
       "    </tr>\n",
       "    <tr>\n",
       "      <th id=\"T_b08be_level0_row5\" class=\"row_heading level0 row5\" >Doc5</th>\n",
       "      <td id=\"T_b08be_row5_col0\" class=\"data row5 col0\" >0.000000</td>\n",
       "      <td id=\"T_b08be_row5_col1\" class=\"data row5 col1\" >0.000000</td>\n",
       "      <td id=\"T_b08be_row5_col2\" class=\"data row5 col2\" >0.030000</td>\n",
       "      <td id=\"T_b08be_row5_col3\" class=\"data row5 col3\" >0.010000</td>\n",
       "      <td id=\"T_b08be_row5_col4\" class=\"data row5 col4\" >0.000000</td>\n",
       "      <td id=\"T_b08be_row5_col5\" class=\"data row5 col5\" >0.030000</td>\n",
       "      <td id=\"T_b08be_row5_col6\" class=\"data row5 col6\" >0.060000</td>\n",
       "      <td id=\"T_b08be_row5_col7\" class=\"data row5 col7\" >0.000000</td>\n",
       "      <td id=\"T_b08be_row5_col8\" class=\"data row5 col8\" >0.190000</td>\n",
       "      <td id=\"T_b08be_row5_col9\" class=\"data row5 col9\" >0.040000</td>\n",
       "      <td id=\"T_b08be_row5_col10\" class=\"data row5 col10\" >0.090000</td>\n",
       "      <td id=\"T_b08be_row5_col11\" class=\"data row5 col11\" >0.010000</td>\n",
       "      <td id=\"T_b08be_row5_col12\" class=\"data row5 col12\" >0.000000</td>\n",
       "      <td id=\"T_b08be_row5_col13\" class=\"data row5 col13\" >0.220000</td>\n",
       "      <td id=\"T_b08be_row5_col14\" class=\"data row5 col14\" >0.000000</td>\n",
       "      <td id=\"T_b08be_row5_col15\" class=\"data row5 col15\" >0.000000</td>\n",
       "      <td id=\"T_b08be_row5_col16\" class=\"data row5 col16\" >0.020000</td>\n",
       "      <td id=\"T_b08be_row5_col17\" class=\"data row5 col17\" >0.000000</td>\n",
       "      <td id=\"T_b08be_row5_col18\" class=\"data row5 col18\" >0.000000</td>\n",
       "      <td id=\"T_b08be_row5_col19\" class=\"data row5 col19\" >0.290000</td>\n",
       "      <td id=\"T_b08be_row5_col20\" class=\"data row5 col20\" >19</td>\n",
       "    </tr>\n",
       "    <tr>\n",
       "      <th id=\"T_b08be_level0_row6\" class=\"row_heading level0 row6\" >Doc6</th>\n",
       "      <td id=\"T_b08be_row6_col0\" class=\"data row6 col0\" >0.000000</td>\n",
       "      <td id=\"T_b08be_row6_col1\" class=\"data row6 col1\" >0.000000</td>\n",
       "      <td id=\"T_b08be_row6_col2\" class=\"data row6 col2\" >0.000000</td>\n",
       "      <td id=\"T_b08be_row6_col3\" class=\"data row6 col3\" >0.010000</td>\n",
       "      <td id=\"T_b08be_row6_col4\" class=\"data row6 col4\" >0.020000</td>\n",
       "      <td id=\"T_b08be_row6_col5\" class=\"data row6 col5\" >0.000000</td>\n",
       "      <td id=\"T_b08be_row6_col6\" class=\"data row6 col6\" >0.020000</td>\n",
       "      <td id=\"T_b08be_row6_col7\" class=\"data row6 col7\" >0.000000</td>\n",
       "      <td id=\"T_b08be_row6_col8\" class=\"data row6 col8\" >0.540000</td>\n",
       "      <td id=\"T_b08be_row6_col9\" class=\"data row6 col9\" >0.050000</td>\n",
       "      <td id=\"T_b08be_row6_col10\" class=\"data row6 col10\" >0.020000</td>\n",
       "      <td id=\"T_b08be_row6_col11\" class=\"data row6 col11\" >0.040000</td>\n",
       "      <td id=\"T_b08be_row6_col12\" class=\"data row6 col12\" >0.000000</td>\n",
       "      <td id=\"T_b08be_row6_col13\" class=\"data row6 col13\" >0.150000</td>\n",
       "      <td id=\"T_b08be_row6_col14\" class=\"data row6 col14\" >0.020000</td>\n",
       "      <td id=\"T_b08be_row6_col15\" class=\"data row6 col15\" >0.010000</td>\n",
       "      <td id=\"T_b08be_row6_col16\" class=\"data row6 col16\" >0.010000</td>\n",
       "      <td id=\"T_b08be_row6_col17\" class=\"data row6 col17\" >0.000000</td>\n",
       "      <td id=\"T_b08be_row6_col18\" class=\"data row6 col18\" >0.000000</td>\n",
       "      <td id=\"T_b08be_row6_col19\" class=\"data row6 col19\" >0.100000</td>\n",
       "      <td id=\"T_b08be_row6_col20\" class=\"data row6 col20\" >8</td>\n",
       "    </tr>\n",
       "    <tr>\n",
       "      <th id=\"T_b08be_level0_row7\" class=\"row_heading level0 row7\" >Doc7</th>\n",
       "      <td id=\"T_b08be_row7_col0\" class=\"data row7 col0\" >0.000000</td>\n",
       "      <td id=\"T_b08be_row7_col1\" class=\"data row7 col1\" >0.000000</td>\n",
       "      <td id=\"T_b08be_row7_col2\" class=\"data row7 col2\" >0.130000</td>\n",
       "      <td id=\"T_b08be_row7_col3\" class=\"data row7 col3\" >0.090000</td>\n",
       "      <td id=\"T_b08be_row7_col4\" class=\"data row7 col4\" >0.000000</td>\n",
       "      <td id=\"T_b08be_row7_col5\" class=\"data row7 col5\" >0.030000</td>\n",
       "      <td id=\"T_b08be_row7_col6\" class=\"data row7 col6\" >0.000000</td>\n",
       "      <td id=\"T_b08be_row7_col7\" class=\"data row7 col7\" >0.000000</td>\n",
       "      <td id=\"T_b08be_row7_col8\" class=\"data row7 col8\" >0.000000</td>\n",
       "      <td id=\"T_b08be_row7_col9\" class=\"data row7 col9\" >0.000000</td>\n",
       "      <td id=\"T_b08be_row7_col10\" class=\"data row7 col10\" >0.230000</td>\n",
       "      <td id=\"T_b08be_row7_col11\" class=\"data row7 col11\" >0.000000</td>\n",
       "      <td id=\"T_b08be_row7_col12\" class=\"data row7 col12\" >0.000000</td>\n",
       "      <td id=\"T_b08be_row7_col13\" class=\"data row7 col13\" >0.000000</td>\n",
       "      <td id=\"T_b08be_row7_col14\" class=\"data row7 col14\" >0.060000</td>\n",
       "      <td id=\"T_b08be_row7_col15\" class=\"data row7 col15\" >0.010000</td>\n",
       "      <td id=\"T_b08be_row7_col16\" class=\"data row7 col16\" >0.000000</td>\n",
       "      <td id=\"T_b08be_row7_col17\" class=\"data row7 col17\" >0.000000</td>\n",
       "      <td id=\"T_b08be_row7_col18\" class=\"data row7 col18\" >0.000000</td>\n",
       "      <td id=\"T_b08be_row7_col19\" class=\"data row7 col19\" >0.450000</td>\n",
       "      <td id=\"T_b08be_row7_col20\" class=\"data row7 col20\" >19</td>\n",
       "    </tr>\n",
       "    <tr>\n",
       "      <th id=\"T_b08be_level0_row8\" class=\"row_heading level0 row8\" >Doc8</th>\n",
       "      <td id=\"T_b08be_row8_col0\" class=\"data row8 col0\" >0.000000</td>\n",
       "      <td id=\"T_b08be_row8_col1\" class=\"data row8 col1\" >0.080000</td>\n",
       "      <td id=\"T_b08be_row8_col2\" class=\"data row8 col2\" >0.140000</td>\n",
       "      <td id=\"T_b08be_row8_col3\" class=\"data row8 col3\" >0.040000</td>\n",
       "      <td id=\"T_b08be_row8_col4\" class=\"data row8 col4\" >0.150000</td>\n",
       "      <td id=\"T_b08be_row8_col5\" class=\"data row8 col5\" >0.000000</td>\n",
       "      <td id=\"T_b08be_row8_col6\" class=\"data row8 col6\" >0.010000</td>\n",
       "      <td id=\"T_b08be_row8_col7\" class=\"data row8 col7\" >0.000000</td>\n",
       "      <td id=\"T_b08be_row8_col8\" class=\"data row8 col8\" >0.150000</td>\n",
       "      <td id=\"T_b08be_row8_col9\" class=\"data row8 col9\" >0.300000</td>\n",
       "      <td id=\"T_b08be_row8_col10\" class=\"data row8 col10\" >0.010000</td>\n",
       "      <td id=\"T_b08be_row8_col11\" class=\"data row8 col11\" >0.000000</td>\n",
       "      <td id=\"T_b08be_row8_col12\" class=\"data row8 col12\" >0.000000</td>\n",
       "      <td id=\"T_b08be_row8_col13\" class=\"data row8 col13\" >0.000000</td>\n",
       "      <td id=\"T_b08be_row8_col14\" class=\"data row8 col14\" >0.000000</td>\n",
       "      <td id=\"T_b08be_row8_col15\" class=\"data row8 col15\" >0.000000</td>\n",
       "      <td id=\"T_b08be_row8_col16\" class=\"data row8 col16\" >0.000000</td>\n",
       "      <td id=\"T_b08be_row8_col17\" class=\"data row8 col17\" >0.000000</td>\n",
       "      <td id=\"T_b08be_row8_col18\" class=\"data row8 col18\" >0.000000</td>\n",
       "      <td id=\"T_b08be_row8_col19\" class=\"data row8 col19\" >0.110000</td>\n",
       "      <td id=\"T_b08be_row8_col20\" class=\"data row8 col20\" >9</td>\n",
       "    </tr>\n",
       "    <tr>\n",
       "      <th id=\"T_b08be_level0_row9\" class=\"row_heading level0 row9\" >Doc9</th>\n",
       "      <td id=\"T_b08be_row9_col0\" class=\"data row9 col0\" >0.000000</td>\n",
       "      <td id=\"T_b08be_row9_col1\" class=\"data row9 col1\" >0.000000</td>\n",
       "      <td id=\"T_b08be_row9_col2\" class=\"data row9 col2\" >0.010000</td>\n",
       "      <td id=\"T_b08be_row9_col3\" class=\"data row9 col3\" >0.180000</td>\n",
       "      <td id=\"T_b08be_row9_col4\" class=\"data row9 col4\" >0.010000</td>\n",
       "      <td id=\"T_b08be_row9_col5\" class=\"data row9 col5\" >0.000000</td>\n",
       "      <td id=\"T_b08be_row9_col6\" class=\"data row9 col6\" >0.030000</td>\n",
       "      <td id=\"T_b08be_row9_col7\" class=\"data row9 col7\" >0.000000</td>\n",
       "      <td id=\"T_b08be_row9_col8\" class=\"data row9 col8\" >0.000000</td>\n",
       "      <td id=\"T_b08be_row9_col9\" class=\"data row9 col9\" >0.060000</td>\n",
       "      <td id=\"T_b08be_row9_col10\" class=\"data row9 col10\" >0.180000</td>\n",
       "      <td id=\"T_b08be_row9_col11\" class=\"data row9 col11\" >0.000000</td>\n",
       "      <td id=\"T_b08be_row9_col12\" class=\"data row9 col12\" >0.000000</td>\n",
       "      <td id=\"T_b08be_row9_col13\" class=\"data row9 col13\" >0.000000</td>\n",
       "      <td id=\"T_b08be_row9_col14\" class=\"data row9 col14\" >0.020000</td>\n",
       "      <td id=\"T_b08be_row9_col15\" class=\"data row9 col15\" >0.030000</td>\n",
       "      <td id=\"T_b08be_row9_col16\" class=\"data row9 col16\" >0.000000</td>\n",
       "      <td id=\"T_b08be_row9_col17\" class=\"data row9 col17\" >0.000000</td>\n",
       "      <td id=\"T_b08be_row9_col18\" class=\"data row9 col18\" >0.000000</td>\n",
       "      <td id=\"T_b08be_row9_col19\" class=\"data row9 col19\" >0.490000</td>\n",
       "      <td id=\"T_b08be_row9_col20\" class=\"data row9 col20\" >19</td>\n",
       "    </tr>\n",
       "    <tr>\n",
       "      <th id=\"T_b08be_level0_row10\" class=\"row_heading level0 row10\" >Doc10</th>\n",
       "      <td id=\"T_b08be_row10_col0\" class=\"data row10 col0\" >0.030000</td>\n",
       "      <td id=\"T_b08be_row10_col1\" class=\"data row10 col1\" >0.000000</td>\n",
       "      <td id=\"T_b08be_row10_col2\" class=\"data row10 col2\" >0.000000</td>\n",
       "      <td id=\"T_b08be_row10_col3\" class=\"data row10 col3\" >0.030000</td>\n",
       "      <td id=\"T_b08be_row10_col4\" class=\"data row10 col4\" >0.000000</td>\n",
       "      <td id=\"T_b08be_row10_col5\" class=\"data row10 col5\" >0.000000</td>\n",
       "      <td id=\"T_b08be_row10_col6\" class=\"data row10 col6\" >0.440000</td>\n",
       "      <td id=\"T_b08be_row10_col7\" class=\"data row10 col7\" >0.020000</td>\n",
       "      <td id=\"T_b08be_row10_col8\" class=\"data row10 col8\" >0.000000</td>\n",
       "      <td id=\"T_b08be_row10_col9\" class=\"data row10 col9\" >0.000000</td>\n",
       "      <td id=\"T_b08be_row10_col10\" class=\"data row10 col10\" >0.160000</td>\n",
       "      <td id=\"T_b08be_row10_col11\" class=\"data row10 col11\" >0.000000</td>\n",
       "      <td id=\"T_b08be_row10_col12\" class=\"data row10 col12\" >0.000000</td>\n",
       "      <td id=\"T_b08be_row10_col13\" class=\"data row10 col13\" >0.000000</td>\n",
       "      <td id=\"T_b08be_row10_col14\" class=\"data row10 col14\" >0.000000</td>\n",
       "      <td id=\"T_b08be_row10_col15\" class=\"data row10 col15\" >0.000000</td>\n",
       "      <td id=\"T_b08be_row10_col16\" class=\"data row10 col16\" >0.000000</td>\n",
       "      <td id=\"T_b08be_row10_col17\" class=\"data row10 col17\" >0.000000</td>\n",
       "      <td id=\"T_b08be_row10_col18\" class=\"data row10 col18\" >0.000000</td>\n",
       "      <td id=\"T_b08be_row10_col19\" class=\"data row10 col19\" >0.320000</td>\n",
       "      <td id=\"T_b08be_row10_col20\" class=\"data row10 col20\" >6</td>\n",
       "    </tr>\n",
       "    <tr>\n",
       "      <th id=\"T_b08be_level0_row11\" class=\"row_heading level0 row11\" >Doc11</th>\n",
       "      <td id=\"T_b08be_row11_col0\" class=\"data row11 col0\" >0.000000</td>\n",
       "      <td id=\"T_b08be_row11_col1\" class=\"data row11 col1\" >0.000000</td>\n",
       "      <td id=\"T_b08be_row11_col2\" class=\"data row11 col2\" >0.010000</td>\n",
       "      <td id=\"T_b08be_row11_col3\" class=\"data row11 col3\" >0.040000</td>\n",
       "      <td id=\"T_b08be_row11_col4\" class=\"data row11 col4\" >0.010000</td>\n",
       "      <td id=\"T_b08be_row11_col5\" class=\"data row11 col5\" >0.000000</td>\n",
       "      <td id=\"T_b08be_row11_col6\" class=\"data row11 col6\" >0.460000</td>\n",
       "      <td id=\"T_b08be_row11_col7\" class=\"data row11 col7\" >0.070000</td>\n",
       "      <td id=\"T_b08be_row11_col8\" class=\"data row11 col8\" >0.060000</td>\n",
       "      <td id=\"T_b08be_row11_col9\" class=\"data row11 col9\" >0.130000</td>\n",
       "      <td id=\"T_b08be_row11_col10\" class=\"data row11 col10\" >0.120000</td>\n",
       "      <td id=\"T_b08be_row11_col11\" class=\"data row11 col11\" >0.000000</td>\n",
       "      <td id=\"T_b08be_row11_col12\" class=\"data row11 col12\" >0.000000</td>\n",
       "      <td id=\"T_b08be_row11_col13\" class=\"data row11 col13\" >0.000000</td>\n",
       "      <td id=\"T_b08be_row11_col14\" class=\"data row11 col14\" >0.000000</td>\n",
       "      <td id=\"T_b08be_row11_col15\" class=\"data row11 col15\" >0.010000</td>\n",
       "      <td id=\"T_b08be_row11_col16\" class=\"data row11 col16\" >0.000000</td>\n",
       "      <td id=\"T_b08be_row11_col17\" class=\"data row11 col17\" >0.010000</td>\n",
       "      <td id=\"T_b08be_row11_col18\" class=\"data row11 col18\" >0.000000</td>\n",
       "      <td id=\"T_b08be_row11_col19\" class=\"data row11 col19\" >0.070000</td>\n",
       "      <td id=\"T_b08be_row11_col20\" class=\"data row11 col20\" >6</td>\n",
       "    </tr>\n",
       "    <tr>\n",
       "      <th id=\"T_b08be_level0_row12\" class=\"row_heading level0 row12\" >Doc12</th>\n",
       "      <td id=\"T_b08be_row12_col0\" class=\"data row12 col0\" >0.000000</td>\n",
       "      <td id=\"T_b08be_row12_col1\" class=\"data row12 col1\" >0.000000</td>\n",
       "      <td id=\"T_b08be_row12_col2\" class=\"data row12 col2\" >0.050000</td>\n",
       "      <td id=\"T_b08be_row12_col3\" class=\"data row12 col3\" >0.030000</td>\n",
       "      <td id=\"T_b08be_row12_col4\" class=\"data row12 col4\" >0.000000</td>\n",
       "      <td id=\"T_b08be_row12_col5\" class=\"data row12 col5\" >0.000000</td>\n",
       "      <td id=\"T_b08be_row12_col6\" class=\"data row12 col6\" >0.000000</td>\n",
       "      <td id=\"T_b08be_row12_col7\" class=\"data row12 col7\" >0.000000</td>\n",
       "      <td id=\"T_b08be_row12_col8\" class=\"data row12 col8\" >0.020000</td>\n",
       "      <td id=\"T_b08be_row12_col9\" class=\"data row12 col9\" >0.000000</td>\n",
       "      <td id=\"T_b08be_row12_col10\" class=\"data row12 col10\" >0.460000</td>\n",
       "      <td id=\"T_b08be_row12_col11\" class=\"data row12 col11\" >0.000000</td>\n",
       "      <td id=\"T_b08be_row12_col12\" class=\"data row12 col12\" >0.050000</td>\n",
       "      <td id=\"T_b08be_row12_col13\" class=\"data row12 col13\" >0.000000</td>\n",
       "      <td id=\"T_b08be_row12_col14\" class=\"data row12 col14\" >0.160000</td>\n",
       "      <td id=\"T_b08be_row12_col15\" class=\"data row12 col15\" >0.040000</td>\n",
       "      <td id=\"T_b08be_row12_col16\" class=\"data row12 col16\" >0.030000</td>\n",
       "      <td id=\"T_b08be_row12_col17\" class=\"data row12 col17\" >0.020000</td>\n",
       "      <td id=\"T_b08be_row12_col18\" class=\"data row12 col18\" >0.000000</td>\n",
       "      <td id=\"T_b08be_row12_col19\" class=\"data row12 col19\" >0.130000</td>\n",
       "      <td id=\"T_b08be_row12_col20\" class=\"data row12 col20\" >10</td>\n",
       "    </tr>\n",
       "    <tr>\n",
       "      <th id=\"T_b08be_level0_row13\" class=\"row_heading level0 row13\" >Doc13</th>\n",
       "      <td id=\"T_b08be_row13_col0\" class=\"data row13 col0\" >0.000000</td>\n",
       "      <td id=\"T_b08be_row13_col1\" class=\"data row13 col1\" >0.000000</td>\n",
       "      <td id=\"T_b08be_row13_col2\" class=\"data row13 col2\" >0.000000</td>\n",
       "      <td id=\"T_b08be_row13_col3\" class=\"data row13 col3\" >0.660000</td>\n",
       "      <td id=\"T_b08be_row13_col4\" class=\"data row13 col4\" >0.000000</td>\n",
       "      <td id=\"T_b08be_row13_col5\" class=\"data row13 col5\" >0.000000</td>\n",
       "      <td id=\"T_b08be_row13_col6\" class=\"data row13 col6\" >0.330000</td>\n",
       "      <td id=\"T_b08be_row13_col7\" class=\"data row13 col7\" >0.000000</td>\n",
       "      <td id=\"T_b08be_row13_col8\" class=\"data row13 col8\" >0.000000</td>\n",
       "      <td id=\"T_b08be_row13_col9\" class=\"data row13 col9\" >0.000000</td>\n",
       "      <td id=\"T_b08be_row13_col10\" class=\"data row13 col10\" >0.000000</td>\n",
       "      <td id=\"T_b08be_row13_col11\" class=\"data row13 col11\" >0.000000</td>\n",
       "      <td id=\"T_b08be_row13_col12\" class=\"data row13 col12\" >0.000000</td>\n",
       "      <td id=\"T_b08be_row13_col13\" class=\"data row13 col13\" >0.000000</td>\n",
       "      <td id=\"T_b08be_row13_col14\" class=\"data row13 col14\" >0.000000</td>\n",
       "      <td id=\"T_b08be_row13_col15\" class=\"data row13 col15\" >0.000000</td>\n",
       "      <td id=\"T_b08be_row13_col16\" class=\"data row13 col16\" >0.000000</td>\n",
       "      <td id=\"T_b08be_row13_col17\" class=\"data row13 col17\" >0.000000</td>\n",
       "      <td id=\"T_b08be_row13_col18\" class=\"data row13 col18\" >0.000000</td>\n",
       "      <td id=\"T_b08be_row13_col19\" class=\"data row13 col19\" >0.000000</td>\n",
       "      <td id=\"T_b08be_row13_col20\" class=\"data row13 col20\" >3</td>\n",
       "    </tr>\n",
       "    <tr>\n",
       "      <th id=\"T_b08be_level0_row14\" class=\"row_heading level0 row14\" >Doc14</th>\n",
       "      <td id=\"T_b08be_row14_col0\" class=\"data row14 col0\" >0.000000</td>\n",
       "      <td id=\"T_b08be_row14_col1\" class=\"data row14 col1\" >0.010000</td>\n",
       "      <td id=\"T_b08be_row14_col2\" class=\"data row14 col2\" >0.000000</td>\n",
       "      <td id=\"T_b08be_row14_col3\" class=\"data row14 col3\" >0.110000</td>\n",
       "      <td id=\"T_b08be_row14_col4\" class=\"data row14 col4\" >0.000000</td>\n",
       "      <td id=\"T_b08be_row14_col5\" class=\"data row14 col5\" >0.020000</td>\n",
       "      <td id=\"T_b08be_row14_col6\" class=\"data row14 col6\" >0.010000</td>\n",
       "      <td id=\"T_b08be_row14_col7\" class=\"data row14 col7\" >0.000000</td>\n",
       "      <td id=\"T_b08be_row14_col8\" class=\"data row14 col8\" >0.450000</td>\n",
       "      <td id=\"T_b08be_row14_col9\" class=\"data row14 col9\" >0.070000</td>\n",
       "      <td id=\"T_b08be_row14_col10\" class=\"data row14 col10\" >0.000000</td>\n",
       "      <td id=\"T_b08be_row14_col11\" class=\"data row14 col11\" >0.000000</td>\n",
       "      <td id=\"T_b08be_row14_col12\" class=\"data row14 col12\" >0.000000</td>\n",
       "      <td id=\"T_b08be_row14_col13\" class=\"data row14 col13\" >0.170000</td>\n",
       "      <td id=\"T_b08be_row14_col14\" class=\"data row14 col14\" >0.000000</td>\n",
       "      <td id=\"T_b08be_row14_col15\" class=\"data row14 col15\" >0.000000</td>\n",
       "      <td id=\"T_b08be_row14_col16\" class=\"data row14 col16\" >0.000000</td>\n",
       "      <td id=\"T_b08be_row14_col17\" class=\"data row14 col17\" >0.000000</td>\n",
       "      <td id=\"T_b08be_row14_col18\" class=\"data row14 col18\" >0.000000</td>\n",
       "      <td id=\"T_b08be_row14_col19\" class=\"data row14 col19\" >0.140000</td>\n",
       "      <td id=\"T_b08be_row14_col20\" class=\"data row14 col20\" >8</td>\n",
       "    </tr>\n",
       "  </tbody>\n",
       "</table>\n"
      ],
      "text/plain": [
       "<pandas.io.formats.style.Styler at 0x7fc4e3cc4d50>"
      ]
     },
     "execution_count": 96,
     "metadata": {},
     "output_type": "execute_result"
    }
   ],
   "source": [
    "# Create Document — Topic Matrix\n",
    "lda_output_GS = best_lda_model.transform(data_vectorized)\n",
    "# column names\n",
    "topicnames = ['Topic' + str(i) for i in range(best_lda_model.n_components)]\n",
    "# index names\n",
    "docnames = ['Doc' + str(i) for i in range(len(data))]\n",
    "# Make the pandas dataframe\n",
    "df_document_topic = pd.DataFrame(np.round(lda_output_GS, 2), columns=topicnames, index=docnames)\n",
    "# Get dominant topic for each document\n",
    "dominant_topic = np.argmax(df_document_topic.values, axis=1)\n",
    "df_document_topic['dominant_topic'] = dominant_topic\n",
    "# Styling\n",
    "def color_green(val):\n",
    " color = 'red' if val > .1 else 'black'\n",
    " return 'color: {col}'.format(col=color)\n",
    "def make_bold(val):\n",
    " weight = 700 if val > .1 else 400\n",
    " return 'font-weight: {weight}'.format(weight=weight)\n",
    "# Apply Style\n",
    "df_document_topics = df_document_topic.head(15).style.applymap(color_green).applymap(make_bold)\n",
    "df_document_topics"
   ]
  },
  {
   "cell_type": "code",
   "execution_count": null,
   "metadata": {
    "colab": {
     "base_uri": "https://localhost:8080/",
     "height": 334
    },
    "executionInfo": {
     "elapsed": 372,
     "status": "ok",
     "timestamp": 1649594765113,
     "user": {
      "displayName": "Khaled SAAD",
      "userId": "01813135692060672401"
     },
     "user_tz": -120
    },
    "id": "2WcR_THzgnpJ",
    "outputId": "8a789438-902c-4ab4-c35b-e7db649939ec"
   },
   "outputs": [
    {
     "name": "stderr",
     "output_type": "stream",
     "text": [
      "/usr/local/lib/python3.7/dist-packages/sklearn/utils/deprecation.py:87: FutureWarning: Function get_feature_names is deprecated; get_feature_names is deprecated in 1.0 and will be removed in 1.2. Please use get_feature_names_out instead.\n",
      "  warnings.warn(msg, category=FutureWarning)\n"
     ]
    },
    {
     "data": {
      "text/html": [
       "\n",
       "  <div id=\"df-02e9af4a-9991-491f-b79a-d7c0237ea063\">\n",
       "    <div class=\"colab-df-container\">\n",
       "      <div>\n",
       "<style scoped>\n",
       "    .dataframe tbody tr th:only-of-type {\n",
       "        vertical-align: middle;\n",
       "    }\n",
       "\n",
       "    .dataframe tbody tr th {\n",
       "        vertical-align: top;\n",
       "    }\n",
       "\n",
       "    .dataframe thead th {\n",
       "        text-align: right;\n",
       "    }\n",
       "</style>\n",
       "<table border=\"1\" class=\"dataframe\">\n",
       "  <thead>\n",
       "    <tr style=\"text-align: right;\">\n",
       "      <th></th>\n",
       "      <th>abandon</th>\n",
       "      <th>abandonment</th>\n",
       "      <th>abduct</th>\n",
       "      <th>abduction</th>\n",
       "      <th>abide</th>\n",
       "      <th>ability</th>\n",
       "      <th>abnormality</th>\n",
       "      <th>abolish</th>\n",
       "      <th>abolition</th>\n",
       "      <th>abolitionist</th>\n",
       "      <th>...</th>\n",
       "      <th>youtube</th>\n",
       "      <th>zero</th>\n",
       "      <th>zinc</th>\n",
       "      <th>zip</th>\n",
       "      <th>zombie</th>\n",
       "      <th>zone</th>\n",
       "      <th>zoo</th>\n",
       "      <th>zoom</th>\n",
       "      <th>zucchini</th>\n",
       "      <th>zucker</th>\n",
       "    </tr>\n",
       "  </thead>\n",
       "  <tbody>\n",
       "    <tr>\n",
       "      <th>Topic0</th>\n",
       "      <td>0.050000</td>\n",
       "      <td>13.503234</td>\n",
       "      <td>50.505876</td>\n",
       "      <td>0.05</td>\n",
       "      <td>0.050000</td>\n",
       "      <td>0.050000</td>\n",
       "      <td>0.05</td>\n",
       "      <td>0.050000</td>\n",
       "      <td>0.050000</td>\n",
       "      <td>0.05000</td>\n",
       "      <td>...</td>\n",
       "      <td>0.05</td>\n",
       "      <td>0.05</td>\n",
       "      <td>0.050000</td>\n",
       "      <td>0.05</td>\n",
       "      <td>0.05</td>\n",
       "      <td>0.050000</td>\n",
       "      <td>0.05</td>\n",
       "      <td>0.05</td>\n",
       "      <td>0.050000</td>\n",
       "      <td>0.050000</td>\n",
       "    </tr>\n",
       "    <tr>\n",
       "      <th>Topic1</th>\n",
       "      <td>0.050000</td>\n",
       "      <td>0.050000</td>\n",
       "      <td>0.050000</td>\n",
       "      <td>0.05</td>\n",
       "      <td>0.050000</td>\n",
       "      <td>73.602135</td>\n",
       "      <td>0.05</td>\n",
       "      <td>0.050000</td>\n",
       "      <td>0.050000</td>\n",
       "      <td>0.05000</td>\n",
       "      <td>...</td>\n",
       "      <td>0.05</td>\n",
       "      <td>0.05</td>\n",
       "      <td>0.050000</td>\n",
       "      <td>0.05</td>\n",
       "      <td>0.05</td>\n",
       "      <td>0.050000</td>\n",
       "      <td>0.05</td>\n",
       "      <td>0.05</td>\n",
       "      <td>0.050000</td>\n",
       "      <td>14.943856</td>\n",
       "    </tr>\n",
       "    <tr>\n",
       "      <th>Topic2</th>\n",
       "      <td>3.789155</td>\n",
       "      <td>0.050000</td>\n",
       "      <td>0.050000</td>\n",
       "      <td>0.05</td>\n",
       "      <td>0.050002</td>\n",
       "      <td>97.801028</td>\n",
       "      <td>0.05</td>\n",
       "      <td>42.298396</td>\n",
       "      <td>10.605298</td>\n",
       "      <td>0.05002</td>\n",
       "      <td>...</td>\n",
       "      <td>0.05</td>\n",
       "      <td>0.05</td>\n",
       "      <td>0.050000</td>\n",
       "      <td>0.05</td>\n",
       "      <td>0.05</td>\n",
       "      <td>26.382571</td>\n",
       "      <td>0.05</td>\n",
       "      <td>0.05</td>\n",
       "      <td>0.050000</td>\n",
       "      <td>0.050000</td>\n",
       "    </tr>\n",
       "    <tr>\n",
       "      <th>Topic3</th>\n",
       "      <td>0.050000</td>\n",
       "      <td>0.050000</td>\n",
       "      <td>0.050000</td>\n",
       "      <td>0.05</td>\n",
       "      <td>0.050000</td>\n",
       "      <td>0.050000</td>\n",
       "      <td>0.05</td>\n",
       "      <td>0.050000</td>\n",
       "      <td>0.050000</td>\n",
       "      <td>0.05000</td>\n",
       "      <td>...</td>\n",
       "      <td>0.05</td>\n",
       "      <td>0.05</td>\n",
       "      <td>21.602837</td>\n",
       "      <td>0.05</td>\n",
       "      <td>0.05</td>\n",
       "      <td>0.050000</td>\n",
       "      <td>0.05</td>\n",
       "      <td>0.05</td>\n",
       "      <td>10.519739</td>\n",
       "      <td>0.050000</td>\n",
       "    </tr>\n",
       "    <tr>\n",
       "      <th>Topic4</th>\n",
       "      <td>0.050000</td>\n",
       "      <td>0.050000</td>\n",
       "      <td>0.050000</td>\n",
       "      <td>0.05</td>\n",
       "      <td>0.050000</td>\n",
       "      <td>12.193836</td>\n",
       "      <td>0.05</td>\n",
       "      <td>0.050000</td>\n",
       "      <td>0.050000</td>\n",
       "      <td>0.05000</td>\n",
       "      <td>...</td>\n",
       "      <td>0.05</td>\n",
       "      <td>0.05</td>\n",
       "      <td>0.050000</td>\n",
       "      <td>0.05</td>\n",
       "      <td>0.05</td>\n",
       "      <td>0.050000</td>\n",
       "      <td>0.05</td>\n",
       "      <td>0.05</td>\n",
       "      <td>0.050000</td>\n",
       "      <td>0.050000</td>\n",
       "    </tr>\n",
       "  </tbody>\n",
       "</table>\n",
       "<p>5 rows × 9841 columns</p>\n",
       "</div>\n",
       "      <button class=\"colab-df-convert\" onclick=\"convertToInteractive('df-02e9af4a-9991-491f-b79a-d7c0237ea063')\"\n",
       "              title=\"Convert this dataframe to an interactive table.\"\n",
       "              style=\"display:none;\">\n",
       "        \n",
       "  <svg xmlns=\"http://www.w3.org/2000/svg\" height=\"24px\"viewBox=\"0 0 24 24\"\n",
       "       width=\"24px\">\n",
       "    <path d=\"M0 0h24v24H0V0z\" fill=\"none\"/>\n",
       "    <path d=\"M18.56 5.44l.94 2.06.94-2.06 2.06-.94-2.06-.94-.94-2.06-.94 2.06-2.06.94zm-11 1L8.5 8.5l.94-2.06 2.06-.94-2.06-.94L8.5 2.5l-.94 2.06-2.06.94zm10 10l.94 2.06.94-2.06 2.06-.94-2.06-.94-.94-2.06-.94 2.06-2.06.94z\"/><path d=\"M17.41 7.96l-1.37-1.37c-.4-.4-.92-.59-1.43-.59-.52 0-1.04.2-1.43.59L10.3 9.45l-7.72 7.72c-.78.78-.78 2.05 0 2.83L4 21.41c.39.39.9.59 1.41.59.51 0 1.02-.2 1.41-.59l7.78-7.78 2.81-2.81c.8-.78.8-2.07 0-2.86zM5.41 20L4 18.59l7.72-7.72 1.47 1.35L5.41 20z\"/>\n",
       "  </svg>\n",
       "      </button>\n",
       "      \n",
       "  <style>\n",
       "    .colab-df-container {\n",
       "      display:flex;\n",
       "      flex-wrap:wrap;\n",
       "      gap: 12px;\n",
       "    }\n",
       "\n",
       "    .colab-df-convert {\n",
       "      background-color: #E8F0FE;\n",
       "      border: none;\n",
       "      border-radius: 50%;\n",
       "      cursor: pointer;\n",
       "      display: none;\n",
       "      fill: #1967D2;\n",
       "      height: 32px;\n",
       "      padding: 0 0 0 0;\n",
       "      width: 32px;\n",
       "    }\n",
       "\n",
       "    .colab-df-convert:hover {\n",
       "      background-color: #E2EBFA;\n",
       "      box-shadow: 0px 1px 2px rgba(60, 64, 67, 0.3), 0px 1px 3px 1px rgba(60, 64, 67, 0.15);\n",
       "      fill: #174EA6;\n",
       "    }\n",
       "\n",
       "    [theme=dark] .colab-df-convert {\n",
       "      background-color: #3B4455;\n",
       "      fill: #D2E3FC;\n",
       "    }\n",
       "\n",
       "    [theme=dark] .colab-df-convert:hover {\n",
       "      background-color: #434B5C;\n",
       "      box-shadow: 0px 1px 3px 1px rgba(0, 0, 0, 0.15);\n",
       "      filter: drop-shadow(0px 1px 2px rgba(0, 0, 0, 0.3));\n",
       "      fill: #FFFFFF;\n",
       "    }\n",
       "  </style>\n",
       "\n",
       "      <script>\n",
       "        const buttonEl =\n",
       "          document.querySelector('#df-02e9af4a-9991-491f-b79a-d7c0237ea063 button.colab-df-convert');\n",
       "        buttonEl.style.display =\n",
       "          google.colab.kernel.accessAllowed ? 'block' : 'none';\n",
       "\n",
       "        async function convertToInteractive(key) {\n",
       "          const element = document.querySelector('#df-02e9af4a-9991-491f-b79a-d7c0237ea063');\n",
       "          const dataTable =\n",
       "            await google.colab.kernel.invokeFunction('convertToInteractive',\n",
       "                                                     [key], {});\n",
       "          if (!dataTable) return;\n",
       "\n",
       "          const docLinkHtml = 'Like what you see? Visit the ' +\n",
       "            '<a target=\"_blank\" href=https://colab.research.google.com/notebooks/data_table.ipynb>data table notebook</a>'\n",
       "            + ' to learn more about interactive tables.';\n",
       "          element.innerHTML = '';\n",
       "          dataTable['output_type'] = 'display_data';\n",
       "          await google.colab.output.renderOutput(dataTable, element);\n",
       "          const docLink = document.createElement('div');\n",
       "          docLink.innerHTML = docLinkHtml;\n",
       "          element.appendChild(docLink);\n",
       "        }\n",
       "      </script>\n",
       "    </div>\n",
       "  </div>\n",
       "  "
      ],
      "text/plain": [
       "         abandon  abandonment     abduct  abduction     abide    ability  \\\n",
       "Topic0  0.050000    13.503234  50.505876       0.05  0.050000   0.050000   \n",
       "Topic1  0.050000     0.050000   0.050000       0.05  0.050000  73.602135   \n",
       "Topic2  3.789155     0.050000   0.050000       0.05  0.050002  97.801028   \n",
       "Topic3  0.050000     0.050000   0.050000       0.05  0.050000   0.050000   \n",
       "Topic4  0.050000     0.050000   0.050000       0.05  0.050000  12.193836   \n",
       "\n",
       "        abnormality    abolish  abolition  abolitionist  ...  youtube  zero  \\\n",
       "Topic0         0.05   0.050000   0.050000       0.05000  ...     0.05  0.05   \n",
       "Topic1         0.05   0.050000   0.050000       0.05000  ...     0.05  0.05   \n",
       "Topic2         0.05  42.298396  10.605298       0.05002  ...     0.05  0.05   \n",
       "Topic3         0.05   0.050000   0.050000       0.05000  ...     0.05  0.05   \n",
       "Topic4         0.05   0.050000   0.050000       0.05000  ...     0.05  0.05   \n",
       "\n",
       "             zinc   zip  zombie       zone   zoo  zoom   zucchini     zucker  \n",
       "Topic0   0.050000  0.05    0.05   0.050000  0.05  0.05   0.050000   0.050000  \n",
       "Topic1   0.050000  0.05    0.05   0.050000  0.05  0.05   0.050000  14.943856  \n",
       "Topic2   0.050000  0.05    0.05  26.382571  0.05  0.05   0.050000   0.050000  \n",
       "Topic3  21.602837  0.05    0.05   0.050000  0.05  0.05  10.519739   0.050000  \n",
       "Topic4   0.050000  0.05    0.05   0.050000  0.05  0.05   0.050000   0.050000  \n",
       "\n",
       "[5 rows x 9841 columns]"
      ]
     },
     "execution_count": 35,
     "metadata": {},
     "output_type": "execute_result"
    }
   ],
   "source": [
    "# Topic-Keyword Matrix\n",
    "df_topic_keywords = pd.DataFrame(best_lda_model.components_)\n",
    "# Assign Column and Index\n",
    "df_topic_keywords.columns = vectorizer.get_feature_names()\n",
    "df_topic_keywords.index = topicnames\n",
    "# View\n",
    "df_topic_keywords.head() "
   ]
  },
  {
   "cell_type": "markdown",
   "metadata": {
    "id": "i7IWMNrfgwFa"
   },
   "source": [
    "Get the top 15 keywords each topic"
   ]
  },
  {
   "cell_type": "code",
   "execution_count": null,
   "metadata": {
    "colab": {
     "base_uri": "https://localhost:8080/",
     "height": 1000
    },
    "executionInfo": {
     "elapsed": 540,
     "status": "ok",
     "timestamp": 1649594811033,
     "user": {
      "displayName": "Khaled SAAD",
      "userId": "01813135692060672401"
     },
     "user_tz": -120
    },
    "id": "6umwF0ZPgxGM",
    "outputId": "f1e218d9-f21b-4453-f068-2022b99f1d34"
   },
   "outputs": [
    {
     "name": "stderr",
     "output_type": "stream",
     "text": [
      "/usr/local/lib/python3.7/dist-packages/sklearn/utils/deprecation.py:87: FutureWarning: Function get_feature_names is deprecated; get_feature_names is deprecated in 1.0 and will be removed in 1.2. Please use get_feature_names_out instead.\n",
      "  warnings.warn(msg, category=FutureWarning)\n"
     ]
    },
    {
     "data": {
      "text/html": [
       "\n",
       "  <div id=\"df-e2debd41-0ef1-4d56-baae-b18587d1db12\">\n",
       "    <div class=\"colab-df-container\">\n",
       "      <div>\n",
       "<style scoped>\n",
       "    .dataframe tbody tr th:only-of-type {\n",
       "        vertical-align: middle;\n",
       "    }\n",
       "\n",
       "    .dataframe tbody tr th {\n",
       "        vertical-align: top;\n",
       "    }\n",
       "\n",
       "    .dataframe thead th {\n",
       "        text-align: right;\n",
       "    }\n",
       "</style>\n",
       "<table border=\"1\" class=\"dataframe\">\n",
       "  <thead>\n",
       "    <tr style=\"text-align: right;\">\n",
       "      <th></th>\n",
       "      <th>Word 0</th>\n",
       "      <th>Word 1</th>\n",
       "      <th>Word 2</th>\n",
       "      <th>Word 3</th>\n",
       "      <th>Word 4</th>\n",
       "      <th>Word 5</th>\n",
       "      <th>Word 6</th>\n",
       "      <th>Word 7</th>\n",
       "      <th>Word 8</th>\n",
       "      <th>Word 9</th>\n",
       "      <th>Word 10</th>\n",
       "      <th>Word 11</th>\n",
       "      <th>Word 12</th>\n",
       "      <th>Word 13</th>\n",
       "      <th>Word 14</th>\n",
       "    </tr>\n",
       "  </thead>\n",
       "  <tbody>\n",
       "    <tr>\n",
       "      <th>Topic 0</th>\n",
       "      <td>police</td>\n",
       "      <td>say</td>\n",
       "      <td>attack</td>\n",
       "      <td>report</td>\n",
       "      <td>officer</td>\n",
       "      <td>kill</td>\n",
       "      <td>gun</td>\n",
       "      <td>people</td>\n",
       "      <td>man</td>\n",
       "      <td>shoot</td>\n",
       "      <td>isis</td>\n",
       "      <td>violence</td>\n",
       "      <td>tell</td>\n",
       "      <td>victim</td>\n",
       "      <td>video</td>\n",
       "    </tr>\n",
       "    <tr>\n",
       "      <th>Topic 1</th>\n",
       "      <td>say</td>\n",
       "      <td>report</td>\n",
       "      <td>news</td>\n",
       "      <td>email</td>\n",
       "      <td>tell</td>\n",
       "      <td>trump</td>\n",
       "      <td>campaign</td>\n",
       "      <td>medium</td>\n",
       "      <td>statement</td>\n",
       "      <td>information</td>\n",
       "      <td>question</td>\n",
       "      <td>investigation</td>\n",
       "      <td>ask</td>\n",
       "      <td>post</td>\n",
       "      <td>intelligence</td>\n",
       "    </tr>\n",
       "    <tr>\n",
       "      <th>Topic 2</th>\n",
       "      <td>say</td>\n",
       "      <td>people</td>\n",
       "      <td>country</td>\n",
       "      <td>year</td>\n",
       "      <td>think</td>\n",
       "      <td>make</td>\n",
       "      <td>community</td>\n",
       "      <td>group</td>\n",
       "      <td>come</td>\n",
       "      <td>issue</td>\n",
       "      <td>world</td>\n",
       "      <td>want</td>\n",
       "      <td>support</td>\n",
       "      <td>work</td>\n",
       "      <td>government</td>\n",
       "    </tr>\n",
       "    <tr>\n",
       "      <th>Topic 3</th>\n",
       "      <td>food</td>\n",
       "      <td>eat</td>\n",
       "      <td>say</td>\n",
       "      <td>make</td>\n",
       "      <td>restaurant</td>\n",
       "      <td>farm</td>\n",
       "      <td>grow</td>\n",
       "      <td>farmer</td>\n",
       "      <td>cook</td>\n",
       "      <td>sugar</td>\n",
       "      <td>taste</td>\n",
       "      <td>year</td>\n",
       "      <td>plant</td>\n",
       "      <td>meat</td>\n",
       "      <td>meal</td>\n",
       "    </tr>\n",
       "    <tr>\n",
       "      <th>Topic 4</th>\n",
       "      <td>music</td>\n",
       "      <td>song</td>\n",
       "      <td>album</td>\n",
       "      <td>band</td>\n",
       "      <td>record</td>\n",
       "      <td>sound</td>\n",
       "      <td>hear</td>\n",
       "      <td>artist</td>\n",
       "      <td>dog</td>\n",
       "      <td>sing</td>\n",
       "      <td>play</td>\n",
       "      <td>release</td>\n",
       "      <td>rock</td>\n",
       "      <td>voice</td>\n",
       "      <td>musician</td>\n",
       "    </tr>\n",
       "    <tr>\n",
       "      <th>Topic 5</th>\n",
       "      <td>school</td>\n",
       "      <td>student</td>\n",
       "      <td>child</td>\n",
       "      <td>education</td>\n",
       "      <td>teacher</td>\n",
       "      <td>kid</td>\n",
       "      <td>program</td>\n",
       "      <td>parent</td>\n",
       "      <td>college</td>\n",
       "      <td>say</td>\n",
       "      <td>year</td>\n",
       "      <td>class</td>\n",
       "      <td>learn</td>\n",
       "      <td>teach</td>\n",
       "      <td>study</td>\n",
       "    </tr>\n",
       "    <tr>\n",
       "      <th>Topic 6</th>\n",
       "      <td>make</td>\n",
       "      <td>year</td>\n",
       "      <td>story</td>\n",
       "      <td>write</td>\n",
       "      <td>book</td>\n",
       "      <td>time</td>\n",
       "      <td>film</td>\n",
       "      <td>play</td>\n",
       "      <td>way</td>\n",
       "      <td>movie</td>\n",
       "      <td>world</td>\n",
       "      <td>character</td>\n",
       "      <td>love</td>\n",
       "      <td>video</td>\n",
       "      <td>star</td>\n",
       "    </tr>\n",
       "    <tr>\n",
       "      <th>Topic 7</th>\n",
       "      <td>woman</td>\n",
       "      <td>game</td>\n",
       "      <td>team</td>\n",
       "      <td>man</td>\n",
       "      <td>win</td>\n",
       "      <td>player</td>\n",
       "      <td>sport</td>\n",
       "      <td>athlete</td>\n",
       "      <td>play</td>\n",
       "      <td>event</td>\n",
       "      <td>medal</td>\n",
       "      <td>year</td>\n",
       "      <td>gold</td>\n",
       "      <td>crowd</td>\n",
       "      <td>gender</td>\n",
       "    </tr>\n",
       "    <tr>\n",
       "      <th>Topic 8</th>\n",
       "      <td>say</td>\n",
       "      <td>study</td>\n",
       "      <td>people</td>\n",
       "      <td>health</td>\n",
       "      <td>disease</td>\n",
       "      <td>test</td>\n",
       "      <td>brain</td>\n",
       "      <td>patient</td>\n",
       "      <td>hospital</td>\n",
       "      <td>case</td>\n",
       "      <td>year</td>\n",
       "      <td>percent</td>\n",
       "      <td>researcher</td>\n",
       "      <td>doctor</td>\n",
       "      <td>virus</td>\n",
       "    </tr>\n",
       "    <tr>\n",
       "      <th>Topic 9</th>\n",
       "      <td>say</td>\n",
       "      <td>animal</td>\n",
       "      <td>scientist</td>\n",
       "      <td>science</td>\n",
       "      <td>use</td>\n",
       "      <td>make</td>\n",
       "      <td>planet</td>\n",
       "      <td>look</td>\n",
       "      <td>think</td>\n",
       "      <td>year</td>\n",
       "      <td>earth</td>\n",
       "      <td>world</td>\n",
       "      <td>human</td>\n",
       "      <td>way</td>\n",
       "      <td>know</td>\n",
       "    </tr>\n",
       "    <tr>\n",
       "      <th>Topic 10</th>\n",
       "      <td>say</td>\n",
       "      <td>city</td>\n",
       "      <td>water</td>\n",
       "      <td>year</td>\n",
       "      <td>people</td>\n",
       "      <td>area</td>\n",
       "      <td>day</td>\n",
       "      <td>report</td>\n",
       "      <td>war</td>\n",
       "      <td>time</td>\n",
       "      <td>tell</td>\n",
       "      <td>home</td>\n",
       "      <td>resident</td>\n",
       "      <td>month</td>\n",
       "      <td>come</td>\n",
       "    </tr>\n",
       "    <tr>\n",
       "      <th>Topic 11</th>\n",
       "      <td>trump</td>\n",
       "      <td>president</td>\n",
       "      <td>campaign</td>\n",
       "      <td>state</td>\n",
       "      <td>say</td>\n",
       "      <td>vote</td>\n",
       "      <td>make</td>\n",
       "      <td>year</td>\n",
       "      <td>speech</td>\n",
       "      <td>time</td>\n",
       "      <td>party</td>\n",
       "      <td>election</td>\n",
       "      <td>support</td>\n",
       "      <td>week</td>\n",
       "      <td>come</td>\n",
       "    </tr>\n",
       "    <tr>\n",
       "      <th>Topic 12</th>\n",
       "      <td>say</td>\n",
       "      <td>health</td>\n",
       "      <td>percent</td>\n",
       "      <td>pay</td>\n",
       "      <td>care</td>\n",
       "      <td>year</td>\n",
       "      <td>people</td>\n",
       "      <td>plan</td>\n",
       "      <td>tax</td>\n",
       "      <td>job</td>\n",
       "      <td>insurance</td>\n",
       "      <td>cost</td>\n",
       "      <td>money</td>\n",
       "      <td>state</td>\n",
       "      <td>rate</td>\n",
       "    </tr>\n",
       "    <tr>\n",
       "      <th>Topic 13</th>\n",
       "      <td>drug</td>\n",
       "      <td>say</td>\n",
       "      <td>use</td>\n",
       "      <td>treatment</td>\n",
       "      <td>patient</td>\n",
       "      <td>people</td>\n",
       "      <td>health</td>\n",
       "      <td>doctor</td>\n",
       "      <td>medication</td>\n",
       "      <td>heart</td>\n",
       "      <td>study</td>\n",
       "      <td>pain</td>\n",
       "      <td>addiction</td>\n",
       "      <td>help</td>\n",
       "      <td>treat</td>\n",
       "    </tr>\n",
       "    <tr>\n",
       "      <th>Topic 14</th>\n",
       "      <td>say</td>\n",
       "      <td>company</td>\n",
       "      <td>use</td>\n",
       "      <td>make</td>\n",
       "      <td>work</td>\n",
       "      <td>business</td>\n",
       "      <td>people</td>\n",
       "      <td>year</td>\n",
       "      <td>industry</td>\n",
       "      <td>sell</td>\n",
       "      <td>buy</td>\n",
       "      <td>want</td>\n",
       "      <td>market</td>\n",
       "      <td>technology</td>\n",
       "      <td>help</td>\n",
       "    </tr>\n",
       "    <tr>\n",
       "      <th>Topic 15</th>\n",
       "      <td>oil</td>\n",
       "      <td>climate</td>\n",
       "      <td>say</td>\n",
       "      <td>abortion</td>\n",
       "      <td>change</td>\n",
       "      <td>gas</td>\n",
       "      <td>energy</td>\n",
       "      <td>pipeline</td>\n",
       "      <td>coal</td>\n",
       "      <td>land</td>\n",
       "      <td>plant</td>\n",
       "      <td>power</td>\n",
       "      <td>plan</td>\n",
       "      <td>year</td>\n",
       "      <td>business</td>\n",
       "    </tr>\n",
       "    <tr>\n",
       "      <th>Topic 16</th>\n",
       "      <td>law</td>\n",
       "      <td>state</td>\n",
       "      <td>say</td>\n",
       "      <td>government</td>\n",
       "      <td>report</td>\n",
       "      <td>rule</td>\n",
       "      <td>include</td>\n",
       "      <td>administration</td>\n",
       "      <td>agency</td>\n",
       "      <td>issue</td>\n",
       "      <td>require</td>\n",
       "      <td>statement</td>\n",
       "      <td>decision</td>\n",
       "      <td>policy</td>\n",
       "      <td>process</td>\n",
       "    </tr>\n",
       "    <tr>\n",
       "      <th>Topic 17</th>\n",
       "      <td>vote</td>\n",
       "      <td>voter</td>\n",
       "      <td>election</td>\n",
       "      <td>candidate</td>\n",
       "      <td>win</td>\n",
       "      <td>campaign</td>\n",
       "      <td>state</td>\n",
       "      <td>percent</td>\n",
       "      <td>poll</td>\n",
       "      <td>sander</td>\n",
       "      <td>race</td>\n",
       "      <td>party</td>\n",
       "      <td>nominee</td>\n",
       "      <td>point</td>\n",
       "      <td>voting</td>\n",
       "    </tr>\n",
       "    <tr>\n",
       "      <th>Topic 18</th>\n",
       "      <td>court</td>\n",
       "      <td>case</td>\n",
       "      <td>say</td>\n",
       "      <td>prison</td>\n",
       "      <td>law</td>\n",
       "      <td>year</td>\n",
       "      <td>judge</td>\n",
       "      <td>charge</td>\n",
       "      <td>state</td>\n",
       "      <td>crime</td>\n",
       "      <td>attorney</td>\n",
       "      <td>lawyer</td>\n",
       "      <td>justice</td>\n",
       "      <td>right</td>\n",
       "      <td>trial</td>\n",
       "    </tr>\n",
       "    <tr>\n",
       "      <th>Topic 19</th>\n",
       "      <td>say</td>\n",
       "      <td>think</td>\n",
       "      <td>know</td>\n",
       "      <td>people</td>\n",
       "      <td>want</td>\n",
       "      <td>thing</td>\n",
       "      <td>time</td>\n",
       "      <td>family</td>\n",
       "      <td>make</td>\n",
       "      <td>life</td>\n",
       "      <td>feel</td>\n",
       "      <td>work</td>\n",
       "      <td>come</td>\n",
       "      <td>way</td>\n",
       "      <td>tell</td>\n",
       "    </tr>\n",
       "  </tbody>\n",
       "</table>\n",
       "</div>\n",
       "      <button class=\"colab-df-convert\" onclick=\"convertToInteractive('df-e2debd41-0ef1-4d56-baae-b18587d1db12')\"\n",
       "              title=\"Convert this dataframe to an interactive table.\"\n",
       "              style=\"display:none;\">\n",
       "        \n",
       "  <svg xmlns=\"http://www.w3.org/2000/svg\" height=\"24px\"viewBox=\"0 0 24 24\"\n",
       "       width=\"24px\">\n",
       "    <path d=\"M0 0h24v24H0V0z\" fill=\"none\"/>\n",
       "    <path d=\"M18.56 5.44l.94 2.06.94-2.06 2.06-.94-2.06-.94-.94-2.06-.94 2.06-2.06.94zm-11 1L8.5 8.5l.94-2.06 2.06-.94-2.06-.94L8.5 2.5l-.94 2.06-2.06.94zm10 10l.94 2.06.94-2.06 2.06-.94-2.06-.94-.94-2.06-.94 2.06-2.06.94z\"/><path d=\"M17.41 7.96l-1.37-1.37c-.4-.4-.92-.59-1.43-.59-.52 0-1.04.2-1.43.59L10.3 9.45l-7.72 7.72c-.78.78-.78 2.05 0 2.83L4 21.41c.39.39.9.59 1.41.59.51 0 1.02-.2 1.41-.59l7.78-7.78 2.81-2.81c.8-.78.8-2.07 0-2.86zM5.41 20L4 18.59l7.72-7.72 1.47 1.35L5.41 20z\"/>\n",
       "  </svg>\n",
       "      </button>\n",
       "      \n",
       "  <style>\n",
       "    .colab-df-container {\n",
       "      display:flex;\n",
       "      flex-wrap:wrap;\n",
       "      gap: 12px;\n",
       "    }\n",
       "\n",
       "    .colab-df-convert {\n",
       "      background-color: #E8F0FE;\n",
       "      border: none;\n",
       "      border-radius: 50%;\n",
       "      cursor: pointer;\n",
       "      display: none;\n",
       "      fill: #1967D2;\n",
       "      height: 32px;\n",
       "      padding: 0 0 0 0;\n",
       "      width: 32px;\n",
       "    }\n",
       "\n",
       "    .colab-df-convert:hover {\n",
       "      background-color: #E2EBFA;\n",
       "      box-shadow: 0px 1px 2px rgba(60, 64, 67, 0.3), 0px 1px 3px 1px rgba(60, 64, 67, 0.15);\n",
       "      fill: #174EA6;\n",
       "    }\n",
       "\n",
       "    [theme=dark] .colab-df-convert {\n",
       "      background-color: #3B4455;\n",
       "      fill: #D2E3FC;\n",
       "    }\n",
       "\n",
       "    [theme=dark] .colab-df-convert:hover {\n",
       "      background-color: #434B5C;\n",
       "      box-shadow: 0px 1px 3px 1px rgba(0, 0, 0, 0.15);\n",
       "      filter: drop-shadow(0px 1px 2px rgba(0, 0, 0, 0.3));\n",
       "      fill: #FFFFFF;\n",
       "    }\n",
       "  </style>\n",
       "\n",
       "      <script>\n",
       "        const buttonEl =\n",
       "          document.querySelector('#df-e2debd41-0ef1-4d56-baae-b18587d1db12 button.colab-df-convert');\n",
       "        buttonEl.style.display =\n",
       "          google.colab.kernel.accessAllowed ? 'block' : 'none';\n",
       "\n",
       "        async function convertToInteractive(key) {\n",
       "          const element = document.querySelector('#df-e2debd41-0ef1-4d56-baae-b18587d1db12');\n",
       "          const dataTable =\n",
       "            await google.colab.kernel.invokeFunction('convertToInteractive',\n",
       "                                                     [key], {});\n",
       "          if (!dataTable) return;\n",
       "\n",
       "          const docLinkHtml = 'Like what you see? Visit the ' +\n",
       "            '<a target=\"_blank\" href=https://colab.research.google.com/notebooks/data_table.ipynb>data table notebook</a>'\n",
       "            + ' to learn more about interactive tables.';\n",
       "          element.innerHTML = '';\n",
       "          dataTable['output_type'] = 'display_data';\n",
       "          await google.colab.output.renderOutput(dataTable, element);\n",
       "          const docLink = document.createElement('div');\n",
       "          docLink.innerHTML = docLinkHtml;\n",
       "          element.appendChild(docLink);\n",
       "        }\n",
       "      </script>\n",
       "    </div>\n",
       "  </div>\n",
       "  "
      ],
      "text/plain": [
       "          Word 0     Word 1     Word 2      Word 3      Word 4    Word 5  \\\n",
       "Topic 0   police        say     attack      report     officer      kill   \n",
       "Topic 1      say     report       news       email        tell     trump   \n",
       "Topic 2      say     people    country        year       think      make   \n",
       "Topic 3     food        eat        say        make  restaurant      farm   \n",
       "Topic 4    music       song      album        band      record     sound   \n",
       "Topic 5   school    student      child   education     teacher       kid   \n",
       "Topic 6     make       year      story       write        book      time   \n",
       "Topic 7    woman       game       team         man         win    player   \n",
       "Topic 8      say      study     people      health     disease      test   \n",
       "Topic 9      say     animal  scientist     science         use      make   \n",
       "Topic 10     say       city      water        year      people      area   \n",
       "Topic 11   trump  president   campaign       state         say      vote   \n",
       "Topic 12     say     health    percent         pay        care      year   \n",
       "Topic 13    drug        say        use   treatment     patient    people   \n",
       "Topic 14     say    company        use        make        work  business   \n",
       "Topic 15     oil    climate        say    abortion      change       gas   \n",
       "Topic 16     law      state        say  government      report      rule   \n",
       "Topic 17    vote      voter   election   candidate         win  campaign   \n",
       "Topic 18   court       case        say      prison         law      year   \n",
       "Topic 19     say      think       know      people        want     thing   \n",
       "\n",
       "             Word 6          Word 7      Word 8       Word 9    Word 10  \\\n",
       "Topic 0         gun          people         man        shoot       isis   \n",
       "Topic 1    campaign          medium   statement  information   question   \n",
       "Topic 2   community           group        come        issue      world   \n",
       "Topic 3        grow          farmer        cook        sugar      taste   \n",
       "Topic 4        hear          artist         dog         sing       play   \n",
       "Topic 5     program          parent     college          say       year   \n",
       "Topic 6        film            play         way        movie      world   \n",
       "Topic 7       sport         athlete        play        event      medal   \n",
       "Topic 8       brain         patient    hospital         case       year   \n",
       "Topic 9      planet            look       think         year      earth   \n",
       "Topic 10        day          report         war         time       tell   \n",
       "Topic 11       make            year      speech         time      party   \n",
       "Topic 12     people            plan         tax          job  insurance   \n",
       "Topic 13     health          doctor  medication        heart      study   \n",
       "Topic 14     people            year    industry         sell        buy   \n",
       "Topic 15     energy        pipeline        coal         land      plant   \n",
       "Topic 16    include  administration      agency        issue    require   \n",
       "Topic 17      state         percent        poll       sander       race   \n",
       "Topic 18      judge          charge       state        crime   attorney   \n",
       "Topic 19       time          family        make         life       feel   \n",
       "\n",
       "                Word 11     Word 12     Word 13       Word 14  \n",
       "Topic 0        violence        tell      victim         video  \n",
       "Topic 1   investigation         ask        post  intelligence  \n",
       "Topic 2            want     support        work    government  \n",
       "Topic 3            year       plant        meat          meal  \n",
       "Topic 4         release        rock       voice      musician  \n",
       "Topic 5           class       learn       teach         study  \n",
       "Topic 6       character        love       video          star  \n",
       "Topic 7            year        gold       crowd        gender  \n",
       "Topic 8         percent  researcher      doctor         virus  \n",
       "Topic 9           world       human         way          know  \n",
       "Topic 10           home    resident       month          come  \n",
       "Topic 11       election     support        week          come  \n",
       "Topic 12           cost       money       state          rate  \n",
       "Topic 13           pain   addiction        help         treat  \n",
       "Topic 14           want      market  technology          help  \n",
       "Topic 15          power        plan        year      business  \n",
       "Topic 16      statement    decision      policy       process  \n",
       "Topic 17          party     nominee       point        voting  \n",
       "Topic 18         lawyer     justice       right         trial  \n",
       "Topic 19           work        come         way          tell  "
      ]
     },
     "execution_count": 36,
     "metadata": {},
     "output_type": "execute_result"
    }
   ],
   "source": [
    "# Show top n keywords for each topic\n",
    "def show_topics(vectorizer=vectorizer, lda_model=lda_model, n_words=20):\n",
    "    keywords = np.array(vectorizer.get_feature_names())\n",
    "    topic_keywords = []\n",
    "    for topic_weights in lda_model.components_:\n",
    "        top_keyword_locs = (-topic_weights).argsort()[:n_words]\n",
    "        topic_keywords.append(keywords.take(top_keyword_locs))\n",
    "    return topic_keywords\n",
    "topic_keywords = show_topics(vectorizer=vectorizer, lda_model=best_lda_model, n_words=15)\n",
    "# Topic - Keywords Dataframe\n",
    "df_topic_keywords = pd.DataFrame(topic_keywords)\n",
    "df_topic_keywords.columns = ['Word '+str(i) for i in range(df_topic_keywords.shape[1])]\n",
    "df_topic_keywords.index = ['Topic '+str(i) for i in range(df_topic_keywords.shape[0])]\n",
    "df_topic_keywords"
   ]
  },
  {
   "cell_type": "markdown",
   "metadata": {
    "id": "DgSU4P4yhOGC"
   },
   "source": [
    "### Predict Topics using LDA model"
   ]
  },
  {
   "cell_type": "code",
   "execution_count": null,
   "metadata": {
    "colab": {
     "base_uri": "https://localhost:8080/"
    },
    "executionInfo": {
     "elapsed": 889,
     "status": "ok",
     "timestamp": 1649595089697,
     "user": {
      "displayName": "Khaled SAAD",
      "userId": "01813135692060672401"
     },
     "user_tz": -120
    },
    "id": "YqHqv-FihPEN",
    "outputId": "7dc9d20a-c62a-4b52-dbbc-65d738688c8b"
   },
   "outputs": [
    {
     "name": "stdout",
     "output_type": "stream",
     "text": [
      "['people', 'country', 'year', 'think', 'make', 'community', 'group', 'come', 'issue', 'world', 'want', 'support', 'work']\n",
      "government\n"
     ]
    }
   ],
   "source": [
    "# Define function to predict topic for a given text document.\n",
    "nlp = spacy.load('en', disable=['parser', 'ner'])\n",
    "def predict_topic(text, nlp=nlp):\n",
    "    global sent_to_words\n",
    "    global lemmatization\n",
    "# Step 1: Clean with simple_preprocess\n",
    "    mytext_2 = list(sent_to_words(text))\n",
    "# Step 2: Lemmatize\n",
    "    mytext_3 = lemmatization(mytext_2, allowed_postags=['NOUN', 'ADJ', 'VERB', 'ADV'])\n",
    "# Step 3: Vectorize transform\n",
    "    mytext_4 = vectorizer.transform(mytext_3)\n",
    "# Step 4: LDA Transform\n",
    "    topic_probability_scores = best_lda_model.transform(mytext_4)\n",
    "    topic = df_topic_keywords.iloc[np.argmax(topic_probability_scores), 1:14].values.tolist()\n",
    "    \n",
    "    # Step 5: Infer Topic\n",
    "    infer_topic = df_topic_keywords.iloc[np.argmax(topic_probability_scores), -1]\n",
    "    \n",
    "    #topic_guess = df_topic_keywords.iloc[np.argmax(topic_probability_scores), Topics]\n",
    "    return infer_topic, topic, topic_probability_scores\n",
    "# Predict the topic\n",
    "mytext = [\"Former President Donald Trump expressed admiration for Barack Obama at an event on Saturday night, after years of criticizing and insulting him.Trump made the comments to Bill O'Reilly on the first night of their four-date History Tour in Sunrise, Florida.\"]\n",
    "infer_topic, topic, prob_scores = predict_topic(text = mytext)\n",
    "print(topic)\n",
    "print(infer_topic)"
   ]
  },
  {
   "cell_type": "code",
   "execution_count": null,
   "metadata": {
    "id": "qNvBk4Cgjk5I"
   },
   "outputs": [],
   "source": [
    "def apply_predict_topic(text):\n",
    " text = [text]\n",
    " infer_topic, topic, prob_scores = predict_topic(text = text)\n",
    " return(infer_topic)"
   ]
  },
  {
   "cell_type": "code",
   "execution_count": null,
   "metadata": {
    "colab": {
     "base_uri": "https://localhost:8080/",
     "height": 363
    },
    "executionInfo": {
     "elapsed": 364834,
     "status": "ok",
     "timestamp": 1649596388646,
     "user": {
      "displayName": "Khaled SAAD",
      "userId": "01813135692060672401"
     },
     "user_tz": -120
    },
    "id": "0FL88TMxjnMZ",
    "outputId": "a99d6d76-6cd3-45a0-c07b-920920d3e546"
   },
   "outputs": [
    {
     "data": {
      "text/html": [
       "\n",
       "  <div id=\"df-d214fb77-66a2-4d9f-b683-4c570a467892\">\n",
       "    <div class=\"colab-df-container\">\n",
       "      <div>\n",
       "<style scoped>\n",
       "    .dataframe tbody tr th:only-of-type {\n",
       "        vertical-align: middle;\n",
       "    }\n",
       "\n",
       "    .dataframe tbody tr th {\n",
       "        vertical-align: top;\n",
       "    }\n",
       "\n",
       "    .dataframe thead th {\n",
       "        text-align: right;\n",
       "    }\n",
       "</style>\n",
       "<table border=\"1\" class=\"dataframe\">\n",
       "  <thead>\n",
       "    <tr style=\"text-align: right;\">\n",
       "      <th></th>\n",
       "      <th>Article</th>\n",
       "      <th>Topic_key_word</th>\n",
       "    </tr>\n",
       "  </thead>\n",
       "  <tbody>\n",
       "    <tr>\n",
       "      <th>0</th>\n",
       "      <td>In the Washington of 2016, even when the polic...</td>\n",
       "      <td>intelligence</td>\n",
       "    </tr>\n",
       "    <tr>\n",
       "      <th>1</th>\n",
       "      <td>Donald Trump has used Twitter  —   his prefe...</td>\n",
       "      <td>intelligence</td>\n",
       "    </tr>\n",
       "    <tr>\n",
       "      <th>2</th>\n",
       "      <td>Donald Trump is unabashedly praising Russian...</td>\n",
       "      <td>come</td>\n",
       "    </tr>\n",
       "    <tr>\n",
       "      <th>3</th>\n",
       "      <td>Updated at 2:50 p. m. ET, Russian President Vl...</td>\n",
       "      <td>intelligence</td>\n",
       "    </tr>\n",
       "    <tr>\n",
       "      <th>4</th>\n",
       "      <td>From photography, illustration and video, to d...</td>\n",
       "      <td>star</td>\n",
       "    </tr>\n",
       "    <tr>\n",
       "      <th>5</th>\n",
       "      <td>I did not want to join yoga class. I hated tho...</td>\n",
       "      <td>tell</td>\n",
       "    </tr>\n",
       "    <tr>\n",
       "      <th>6</th>\n",
       "      <td>With a   who has publicly supported the debunk...</td>\n",
       "      <td>virus</td>\n",
       "    </tr>\n",
       "    <tr>\n",
       "      <th>7</th>\n",
       "      <td>I was standing by the airport exit, debating w...</td>\n",
       "      <td>tell</td>\n",
       "    </tr>\n",
       "    <tr>\n",
       "      <th>8</th>\n",
       "      <td>If movies were trying to be more realistic, pe...</td>\n",
       "      <td>know</td>\n",
       "    </tr>\n",
       "    <tr>\n",
       "      <th>9</th>\n",
       "      <td>Eighteen years ago, on New Year’s Eve, David F...</td>\n",
       "      <td>tell</td>\n",
       "    </tr>\n",
       "  </tbody>\n",
       "</table>\n",
       "</div>\n",
       "      <button class=\"colab-df-convert\" onclick=\"convertToInteractive('df-d214fb77-66a2-4d9f-b683-4c570a467892')\"\n",
       "              title=\"Convert this dataframe to an interactive table.\"\n",
       "              style=\"display:none;\">\n",
       "        \n",
       "  <svg xmlns=\"http://www.w3.org/2000/svg\" height=\"24px\"viewBox=\"0 0 24 24\"\n",
       "       width=\"24px\">\n",
       "    <path d=\"M0 0h24v24H0V0z\" fill=\"none\"/>\n",
       "    <path d=\"M18.56 5.44l.94 2.06.94-2.06 2.06-.94-2.06-.94-.94-2.06-.94 2.06-2.06.94zm-11 1L8.5 8.5l.94-2.06 2.06-.94-2.06-.94L8.5 2.5l-.94 2.06-2.06.94zm10 10l.94 2.06.94-2.06 2.06-.94-2.06-.94-.94-2.06-.94 2.06-2.06.94z\"/><path d=\"M17.41 7.96l-1.37-1.37c-.4-.4-.92-.59-1.43-.59-.52 0-1.04.2-1.43.59L10.3 9.45l-7.72 7.72c-.78.78-.78 2.05 0 2.83L4 21.41c.39.39.9.59 1.41.59.51 0 1.02-.2 1.41-.59l7.78-7.78 2.81-2.81c.8-.78.8-2.07 0-2.86zM5.41 20L4 18.59l7.72-7.72 1.47 1.35L5.41 20z\"/>\n",
       "  </svg>\n",
       "      </button>\n",
       "      \n",
       "  <style>\n",
       "    .colab-df-container {\n",
       "      display:flex;\n",
       "      flex-wrap:wrap;\n",
       "      gap: 12px;\n",
       "    }\n",
       "\n",
       "    .colab-df-convert {\n",
       "      background-color: #E8F0FE;\n",
       "      border: none;\n",
       "      border-radius: 50%;\n",
       "      cursor: pointer;\n",
       "      display: none;\n",
       "      fill: #1967D2;\n",
       "      height: 32px;\n",
       "      padding: 0 0 0 0;\n",
       "      width: 32px;\n",
       "    }\n",
       "\n",
       "    .colab-df-convert:hover {\n",
       "      background-color: #E2EBFA;\n",
       "      box-shadow: 0px 1px 2px rgba(60, 64, 67, 0.3), 0px 1px 3px 1px rgba(60, 64, 67, 0.15);\n",
       "      fill: #174EA6;\n",
       "    }\n",
       "\n",
       "    [theme=dark] .colab-df-convert {\n",
       "      background-color: #3B4455;\n",
       "      fill: #D2E3FC;\n",
       "    }\n",
       "\n",
       "    [theme=dark] .colab-df-convert:hover {\n",
       "      background-color: #434B5C;\n",
       "      box-shadow: 0px 1px 3px 1px rgba(0, 0, 0, 0.15);\n",
       "      filter: drop-shadow(0px 1px 2px rgba(0, 0, 0, 0.3));\n",
       "      fill: #FFFFFF;\n",
       "    }\n",
       "  </style>\n",
       "\n",
       "      <script>\n",
       "        const buttonEl =\n",
       "          document.querySelector('#df-d214fb77-66a2-4d9f-b683-4c570a467892 button.colab-df-convert');\n",
       "        buttonEl.style.display =\n",
       "          google.colab.kernel.accessAllowed ? 'block' : 'none';\n",
       "\n",
       "        async function convertToInteractive(key) {\n",
       "          const element = document.querySelector('#df-d214fb77-66a2-4d9f-b683-4c570a467892');\n",
       "          const dataTable =\n",
       "            await google.colab.kernel.invokeFunction('convertToInteractive',\n",
       "                                                     [key], {});\n",
       "          if (!dataTable) return;\n",
       "\n",
       "          const docLinkHtml = 'Like what you see? Visit the ' +\n",
       "            '<a target=\"_blank\" href=https://colab.research.google.com/notebooks/data_table.ipynb>data table notebook</a>'\n",
       "            + ' to learn more about interactive tables.';\n",
       "          element.innerHTML = '';\n",
       "          dataTable['output_type'] = 'display_data';\n",
       "          await google.colab.output.renderOutput(dataTable, element);\n",
       "          const docLink = document.createElement('div');\n",
       "          docLink.innerHTML = docLinkHtml;\n",
       "          element.appendChild(docLink);\n",
       "        }\n",
       "      </script>\n",
       "    </div>\n",
       "  </div>\n",
       "  "
      ],
      "text/plain": [
       "                                             Article Topic_key_word\n",
       "0  In the Washington of 2016, even when the polic...   intelligence\n",
       "1    Donald Trump has used Twitter  —   his prefe...   intelligence\n",
       "2    Donald Trump is unabashedly praising Russian...           come\n",
       "3  Updated at 2:50 p. m. ET, Russian President Vl...   intelligence\n",
       "4  From photography, illustration and video, to d...           star\n",
       "5  I did not want to join yoga class. I hated tho...           tell\n",
       "6  With a   who has publicly supported the debunk...          virus\n",
       "7  I was standing by the airport exit, debating w...           tell\n",
       "8  If movies were trying to be more realistic, pe...           know\n",
       "9  Eighteen years ago, on New Year’s Eve, David F...           tell"
      ]
     },
     "execution_count": 41,
     "metadata": {},
     "output_type": "execute_result"
    }
   ],
   "source": [
    "raw_data[\"Topic_key_word\"]= raw_data['Article'].apply(apply_predict_topic)"
   ]
  },
  {
   "cell_type": "code",
   "execution_count": null,
   "metadata": {
    "colab": {
     "base_uri": "https://localhost:8080/",
     "height": 363
    },
    "executionInfo": {
     "elapsed": 10,
     "status": "ok",
     "timestamp": 1649596388647,
     "user": {
      "displayName": "Khaled SAAD",
      "userId": "01813135692060672401"
     },
     "user_tz": -120
    },
    "id": "drR-3IWDlgiL",
    "outputId": "72442079-162f-4891-a52e-411d8e7ad93d"
   },
   "outputs": [
    {
     "data": {
      "text/html": [
       "\n",
       "  <div id=\"df-5e22fc97-db63-433b-a4d8-4d7577caf994\">\n",
       "    <div class=\"colab-df-container\">\n",
       "      <div>\n",
       "<style scoped>\n",
       "    .dataframe tbody tr th:only-of-type {\n",
       "        vertical-align: middle;\n",
       "    }\n",
       "\n",
       "    .dataframe tbody tr th {\n",
       "        vertical-align: top;\n",
       "    }\n",
       "\n",
       "    .dataframe thead th {\n",
       "        text-align: right;\n",
       "    }\n",
       "</style>\n",
       "<table border=\"1\" class=\"dataframe\">\n",
       "  <thead>\n",
       "    <tr style=\"text-align: right;\">\n",
       "      <th></th>\n",
       "      <th>Article</th>\n",
       "      <th>Topic_key_word</th>\n",
       "    </tr>\n",
       "  </thead>\n",
       "  <tbody>\n",
       "    <tr>\n",
       "      <th>0</th>\n",
       "      <td>In the Washington of 2016, even when the polic...</td>\n",
       "      <td>intelligence</td>\n",
       "    </tr>\n",
       "    <tr>\n",
       "      <th>1</th>\n",
       "      <td>Donald Trump has used Twitter  —   his prefe...</td>\n",
       "      <td>intelligence</td>\n",
       "    </tr>\n",
       "    <tr>\n",
       "      <th>2</th>\n",
       "      <td>Donald Trump is unabashedly praising Russian...</td>\n",
       "      <td>come</td>\n",
       "    </tr>\n",
       "    <tr>\n",
       "      <th>3</th>\n",
       "      <td>Updated at 2:50 p. m. ET, Russian President Vl...</td>\n",
       "      <td>intelligence</td>\n",
       "    </tr>\n",
       "    <tr>\n",
       "      <th>4</th>\n",
       "      <td>From photography, illustration and video, to d...</td>\n",
       "      <td>star</td>\n",
       "    </tr>\n",
       "    <tr>\n",
       "      <th>5</th>\n",
       "      <td>I did not want to join yoga class. I hated tho...</td>\n",
       "      <td>tell</td>\n",
       "    </tr>\n",
       "    <tr>\n",
       "      <th>6</th>\n",
       "      <td>With a   who has publicly supported the debunk...</td>\n",
       "      <td>virus</td>\n",
       "    </tr>\n",
       "    <tr>\n",
       "      <th>7</th>\n",
       "      <td>I was standing by the airport exit, debating w...</td>\n",
       "      <td>tell</td>\n",
       "    </tr>\n",
       "    <tr>\n",
       "      <th>8</th>\n",
       "      <td>If movies were trying to be more realistic, pe...</td>\n",
       "      <td>know</td>\n",
       "    </tr>\n",
       "    <tr>\n",
       "      <th>9</th>\n",
       "      <td>Eighteen years ago, on New Year’s Eve, David F...</td>\n",
       "      <td>tell</td>\n",
       "    </tr>\n",
       "  </tbody>\n",
       "</table>\n",
       "</div>\n",
       "      <button class=\"colab-df-convert\" onclick=\"convertToInteractive('df-5e22fc97-db63-433b-a4d8-4d7577caf994')\"\n",
       "              title=\"Convert this dataframe to an interactive table.\"\n",
       "              style=\"display:none;\">\n",
       "        \n",
       "  <svg xmlns=\"http://www.w3.org/2000/svg\" height=\"24px\"viewBox=\"0 0 24 24\"\n",
       "       width=\"24px\">\n",
       "    <path d=\"M0 0h24v24H0V0z\" fill=\"none\"/>\n",
       "    <path d=\"M18.56 5.44l.94 2.06.94-2.06 2.06-.94-2.06-.94-.94-2.06-.94 2.06-2.06.94zm-11 1L8.5 8.5l.94-2.06 2.06-.94-2.06-.94L8.5 2.5l-.94 2.06-2.06.94zm10 10l.94 2.06.94-2.06 2.06-.94-2.06-.94-.94-2.06-.94 2.06-2.06.94z\"/><path d=\"M17.41 7.96l-1.37-1.37c-.4-.4-.92-.59-1.43-.59-.52 0-1.04.2-1.43.59L10.3 9.45l-7.72 7.72c-.78.78-.78 2.05 0 2.83L4 21.41c.39.39.9.59 1.41.59.51 0 1.02-.2 1.41-.59l7.78-7.78 2.81-2.81c.8-.78.8-2.07 0-2.86zM5.41 20L4 18.59l7.72-7.72 1.47 1.35L5.41 20z\"/>\n",
       "  </svg>\n",
       "      </button>\n",
       "      \n",
       "  <style>\n",
       "    .colab-df-container {\n",
       "      display:flex;\n",
       "      flex-wrap:wrap;\n",
       "      gap: 12px;\n",
       "    }\n",
       "\n",
       "    .colab-df-convert {\n",
       "      background-color: #E8F0FE;\n",
       "      border: none;\n",
       "      border-radius: 50%;\n",
       "      cursor: pointer;\n",
       "      display: none;\n",
       "      fill: #1967D2;\n",
       "      height: 32px;\n",
       "      padding: 0 0 0 0;\n",
       "      width: 32px;\n",
       "    }\n",
       "\n",
       "    .colab-df-convert:hover {\n",
       "      background-color: #E2EBFA;\n",
       "      box-shadow: 0px 1px 2px rgba(60, 64, 67, 0.3), 0px 1px 3px 1px rgba(60, 64, 67, 0.15);\n",
       "      fill: #174EA6;\n",
       "    }\n",
       "\n",
       "    [theme=dark] .colab-df-convert {\n",
       "      background-color: #3B4455;\n",
       "      fill: #D2E3FC;\n",
       "    }\n",
       "\n",
       "    [theme=dark] .colab-df-convert:hover {\n",
       "      background-color: #434B5C;\n",
       "      box-shadow: 0px 1px 3px 1px rgba(0, 0, 0, 0.15);\n",
       "      filter: drop-shadow(0px 1px 2px rgba(0, 0, 0, 0.3));\n",
       "      fill: #FFFFFF;\n",
       "    }\n",
       "  </style>\n",
       "\n",
       "      <script>\n",
       "        const buttonEl =\n",
       "          document.querySelector('#df-5e22fc97-db63-433b-a4d8-4d7577caf994 button.colab-df-convert');\n",
       "        buttonEl.style.display =\n",
       "          google.colab.kernel.accessAllowed ? 'block' : 'none';\n",
       "\n",
       "        async function convertToInteractive(key) {\n",
       "          const element = document.querySelector('#df-5e22fc97-db63-433b-a4d8-4d7577caf994');\n",
       "          const dataTable =\n",
       "            await google.colab.kernel.invokeFunction('convertToInteractive',\n",
       "                                                     [key], {});\n",
       "          if (!dataTable) return;\n",
       "\n",
       "          const docLinkHtml = 'Like what you see? Visit the ' +\n",
       "            '<a target=\"_blank\" href=https://colab.research.google.com/notebooks/data_table.ipynb>data table notebook</a>'\n",
       "            + ' to learn more about interactive tables.';\n",
       "          element.innerHTML = '';\n",
       "          dataTable['output_type'] = 'display_data';\n",
       "          await google.colab.output.renderOutput(dataTable, element);\n",
       "          const docLink = document.createElement('div');\n",
       "          docLink.innerHTML = docLinkHtml;\n",
       "          element.appendChild(docLink);\n",
       "        }\n",
       "      </script>\n",
       "    </div>\n",
       "  </div>\n",
       "  "
      ],
      "text/plain": [
       "                                             Article Topic_key_word\n",
       "0  In the Washington of 2016, even when the polic...   intelligence\n",
       "1    Donald Trump has used Twitter  —   his prefe...   intelligence\n",
       "2    Donald Trump is unabashedly praising Russian...           come\n",
       "3  Updated at 2:50 p. m. ET, Russian President Vl...   intelligence\n",
       "4  From photography, illustration and video, to d...           star\n",
       "5  I did not want to join yoga class. I hated tho...           tell\n",
       "6  With a   who has publicly supported the debunk...          virus\n",
       "7  I was standing by the airport exit, debating w...           tell\n",
       "8  If movies were trying to be more realistic, pe...           know\n",
       "9  Eighteen years ago, on New Year’s Eve, David F...           tell"
      ]
     },
     "execution_count": 42,
     "metadata": {},
     "output_type": "execute_result"
    }
   ],
   "source": [
    "raw_data.head(10)"
   ]
  },
  {
   "cell_type": "code",
   "execution_count": null,
   "metadata": {
    "colab": {
     "base_uri": "https://localhost:8080/",
     "height": 676
    },
    "executionInfo": {
     "elapsed": 364,
     "status": "ok",
     "timestamp": 1649596510601,
     "user": {
      "displayName": "Khaled SAAD",
      "userId": "01813135692060672401"
     },
     "user_tz": -120
    },
    "id": "DGbFchWPkDUx",
    "outputId": "f3cad95e-5bb2-4e51-a9e2-71336ec1eb6d"
   },
   "outputs": [
    {
     "data": {
      "text/html": [
       "\n",
       "  <div id=\"df-93750fe8-a16c-40b8-b6bb-b0abffaa750a\">\n",
       "    <div class=\"colab-df-container\">\n",
       "      <div>\n",
       "<style scoped>\n",
       "    .dataframe tbody tr th:only-of-type {\n",
       "        vertical-align: middle;\n",
       "    }\n",
       "\n",
       "    .dataframe tbody tr th {\n",
       "        vertical-align: top;\n",
       "    }\n",
       "\n",
       "    .dataframe thead th {\n",
       "        text-align: right;\n",
       "    }\n",
       "</style>\n",
       "<table border=\"1\" class=\"dataframe\">\n",
       "  <thead>\n",
       "    <tr style=\"text-align: right;\">\n",
       "      <th></th>\n",
       "      <th>Article</th>\n",
       "    </tr>\n",
       "    <tr>\n",
       "      <th>Topic_key_word</th>\n",
       "      <th></th>\n",
       "    </tr>\n",
       "  </thead>\n",
       "  <tbody>\n",
       "    <tr>\n",
       "      <th>business</th>\n",
       "      <td>79</td>\n",
       "    </tr>\n",
       "    <tr>\n",
       "      <th>come</th>\n",
       "      <td>1905</td>\n",
       "    </tr>\n",
       "    <tr>\n",
       "      <th>gender</th>\n",
       "      <td>95</td>\n",
       "    </tr>\n",
       "    <tr>\n",
       "      <th>government</th>\n",
       "      <td>1373</td>\n",
       "    </tr>\n",
       "    <tr>\n",
       "      <th>help</th>\n",
       "      <td>657</td>\n",
       "    </tr>\n",
       "    <tr>\n",
       "      <th>intelligence</th>\n",
       "      <td>527</td>\n",
       "    </tr>\n",
       "    <tr>\n",
       "      <th>know</th>\n",
       "      <td>428</td>\n",
       "    </tr>\n",
       "    <tr>\n",
       "      <th>meal</th>\n",
       "      <td>393</td>\n",
       "    </tr>\n",
       "    <tr>\n",
       "      <th>musician</th>\n",
       "      <td>139</td>\n",
       "    </tr>\n",
       "    <tr>\n",
       "      <th>process</th>\n",
       "      <td>432</td>\n",
       "    </tr>\n",
       "    <tr>\n",
       "      <th>rate</th>\n",
       "      <td>507</td>\n",
       "    </tr>\n",
       "    <tr>\n",
       "      <th>star</th>\n",
       "      <td>1618</td>\n",
       "    </tr>\n",
       "    <tr>\n",
       "      <th>study</th>\n",
       "      <td>220</td>\n",
       "    </tr>\n",
       "    <tr>\n",
       "      <th>tell</th>\n",
       "      <td>1712</td>\n",
       "    </tr>\n",
       "    <tr>\n",
       "      <th>treat</th>\n",
       "      <td>155</td>\n",
       "    </tr>\n",
       "    <tr>\n",
       "      <th>trial</th>\n",
       "      <td>385</td>\n",
       "    </tr>\n",
       "    <tr>\n",
       "      <th>video</th>\n",
       "      <td>431</td>\n",
       "    </tr>\n",
       "    <tr>\n",
       "      <th>virus</th>\n",
       "      <td>772</td>\n",
       "    </tr>\n",
       "    <tr>\n",
       "      <th>voting</th>\n",
       "      <td>163</td>\n",
       "    </tr>\n",
       "  </tbody>\n",
       "</table>\n",
       "</div>\n",
       "      <button class=\"colab-df-convert\" onclick=\"convertToInteractive('df-93750fe8-a16c-40b8-b6bb-b0abffaa750a')\"\n",
       "              title=\"Convert this dataframe to an interactive table.\"\n",
       "              style=\"display:none;\">\n",
       "        \n",
       "  <svg xmlns=\"http://www.w3.org/2000/svg\" height=\"24px\"viewBox=\"0 0 24 24\"\n",
       "       width=\"24px\">\n",
       "    <path d=\"M0 0h24v24H0V0z\" fill=\"none\"/>\n",
       "    <path d=\"M18.56 5.44l.94 2.06.94-2.06 2.06-.94-2.06-.94-.94-2.06-.94 2.06-2.06.94zm-11 1L8.5 8.5l.94-2.06 2.06-.94-2.06-.94L8.5 2.5l-.94 2.06-2.06.94zm10 10l.94 2.06.94-2.06 2.06-.94-2.06-.94-.94-2.06-.94 2.06-2.06.94z\"/><path d=\"M17.41 7.96l-1.37-1.37c-.4-.4-.92-.59-1.43-.59-.52 0-1.04.2-1.43.59L10.3 9.45l-7.72 7.72c-.78.78-.78 2.05 0 2.83L4 21.41c.39.39.9.59 1.41.59.51 0 1.02-.2 1.41-.59l7.78-7.78 2.81-2.81c.8-.78.8-2.07 0-2.86zM5.41 20L4 18.59l7.72-7.72 1.47 1.35L5.41 20z\"/>\n",
       "  </svg>\n",
       "      </button>\n",
       "      \n",
       "  <style>\n",
       "    .colab-df-container {\n",
       "      display:flex;\n",
       "      flex-wrap:wrap;\n",
       "      gap: 12px;\n",
       "    }\n",
       "\n",
       "    .colab-df-convert {\n",
       "      background-color: #E8F0FE;\n",
       "      border: none;\n",
       "      border-radius: 50%;\n",
       "      cursor: pointer;\n",
       "      display: none;\n",
       "      fill: #1967D2;\n",
       "      height: 32px;\n",
       "      padding: 0 0 0 0;\n",
       "      width: 32px;\n",
       "    }\n",
       "\n",
       "    .colab-df-convert:hover {\n",
       "      background-color: #E2EBFA;\n",
       "      box-shadow: 0px 1px 2px rgba(60, 64, 67, 0.3), 0px 1px 3px 1px rgba(60, 64, 67, 0.15);\n",
       "      fill: #174EA6;\n",
       "    }\n",
       "\n",
       "    [theme=dark] .colab-df-convert {\n",
       "      background-color: #3B4455;\n",
       "      fill: #D2E3FC;\n",
       "    }\n",
       "\n",
       "    [theme=dark] .colab-df-convert:hover {\n",
       "      background-color: #434B5C;\n",
       "      box-shadow: 0px 1px 3px 1px rgba(0, 0, 0, 0.15);\n",
       "      filter: drop-shadow(0px 1px 2px rgba(0, 0, 0, 0.3));\n",
       "      fill: #FFFFFF;\n",
       "    }\n",
       "  </style>\n",
       "\n",
       "      <script>\n",
       "        const buttonEl =\n",
       "          document.querySelector('#df-93750fe8-a16c-40b8-b6bb-b0abffaa750a button.colab-df-convert');\n",
       "        buttonEl.style.display =\n",
       "          google.colab.kernel.accessAllowed ? 'block' : 'none';\n",
       "\n",
       "        async function convertToInteractive(key) {\n",
       "          const element = document.querySelector('#df-93750fe8-a16c-40b8-b6bb-b0abffaa750a');\n",
       "          const dataTable =\n",
       "            await google.colab.kernel.invokeFunction('convertToInteractive',\n",
       "                                                     [key], {});\n",
       "          if (!dataTable) return;\n",
       "\n",
       "          const docLinkHtml = 'Like what you see? Visit the ' +\n",
       "            '<a target=\"_blank\" href=https://colab.research.google.com/notebooks/data_table.ipynb>data table notebook</a>'\n",
       "            + ' to learn more about interactive tables.';\n",
       "          element.innerHTML = '';\n",
       "          dataTable['output_type'] = 'display_data';\n",
       "          await google.colab.output.renderOutput(dataTable, element);\n",
       "          const docLink = document.createElement('div');\n",
       "          docLink.innerHTML = docLinkHtml;\n",
       "          element.appendChild(docLink);\n",
       "        }\n",
       "      </script>\n",
       "    </div>\n",
       "  </div>\n",
       "  "
      ],
      "text/plain": [
       "                Article\n",
       "Topic_key_word         \n",
       "business             79\n",
       "come               1905\n",
       "gender               95\n",
       "government         1373\n",
       "help                657\n",
       "intelligence        527\n",
       "know                428\n",
       "meal                393\n",
       "musician            139\n",
       "process             432\n",
       "rate                507\n",
       "star               1618\n",
       "study               220\n",
       "tell               1712\n",
       "treat               155\n",
       "trial               385\n",
       "video               431\n",
       "virus               772\n",
       "voting              163"
      ]
     },
     "execution_count": 44,
     "metadata": {},
     "output_type": "execute_result"
    }
   ],
   "source": [
    "raw_data.groupby('Topic_key_word').nunique() "
   ]
  },
  {
   "cell_type": "code",
   "execution_count": null,
   "metadata": {
    "id": "r6FT4tfMnTME"
   },
   "outputs": [],
   "source": [
    "from sklearn.metrics.pairwise import euclidean_distances\n",
    "nlp = spacy.load('en', disable=['parser', 'ner'])\n",
    "def similar_documents(text, doc_topic_probs, documents = data, nlp=nlp, top_n=5, verbose=False):\n",
    "    _, topic, x  = predict_topic(text)\n",
    "    dists = euclidean_distances(x.reshape(1, -1), doc_topic_probs)[0]\n",
    "    doc_ids = np.argsort(dists)[:top_n]\n",
    "    if verbose:        \n",
    "        print(\"Topic KeyWords: \", topic)\n",
    "        print(\"Topic Prob Scores of text: \", np.round(x, 1))\n",
    "        print(\"Most Similar Doc's Probs:  \", np.round(doc_topic_probs[doc_ids], 1))\n",
    "    return doc_ids, np.take(documents, doc_ids)"
   ]
  },
  {
   "cell_type": "code",
   "execution_count": null,
   "metadata": {
    "colab": {
     "base_uri": "https://localhost:8080/"
    },
    "executionInfo": {
     "elapsed": 3674,
     "status": "ok",
     "timestamp": 1649596782216,
     "user": {
      "displayName": "Khaled SAAD",
      "userId": "01813135692060672401"
     },
     "user_tz": -120
    },
    "id": "YsOoNV8onW4w",
    "outputId": "e2e1da15-1fdb-4cb5-f61b-a93fa4e81850"
   },
   "outputs": [
    {
     "name": "stdout",
     "output_type": "stream",
     "text": [
      "Topic KeyWords:  ['people', 'country', 'year', 'think', 'make', 'community', 'group', 'come', 'issue', 'world', 'want', 'support', 'work']\n",
      "Topic Prob Scores of text:  [[0.  0.  0.4 0.  0.  0.  0.3 0.  0.  0.  0.  0.3 0.  0.  0.  0.  0.  0.\n",
      "  0.  0. ]]\n",
      "Most Similar Doc's Probs:   [[0.  0.1 0.3 0.  0.  0.  0.3 0.  0.  0.  0.  0.2 0.  0.  0.  0.  0.  0.\n",
      "  0.  0.1]]\n",
      "\n",
      " On Monday night’s Late Show, host Stephen Colbert \n",
      "\n"
     ]
    }
   ],
   "source": [
    "mytext = [\"Former President Donald Trump expressed admiration for Barack Obama at an event on Saturday night, after years of criticizing and insulting him.Trump made the comments to Bill O'Reilly on the first night of their four-date History Tour in Sunrise, Florida.\"]\n",
    "doc_ids, docs = similar_documents(text=mytext, doc_topic_probs=lda_output, documents = data, top_n=1, verbose=True)\n",
    "print('\\n', docs[0][:50])\n",
    "print()"
   ]
  },
  {
   "cell_type": "markdown",
   "metadata": {
    "id": "8pAElmtKo1mp"
   },
   "source": [
    "https://yanlinc.medium.com/how-to-build-a-lda-topic-model-using-from-text-601cdcbfd3a6"
   ]
  }
 ],
 "metadata": {
  "accelerator": "GPU",
  "colab": {
   "collapsed_sections": [],
   "name": "GridSearchCV_LDA.ipynb",
   "provenance": []
  },
  "kernelspec": {
   "display_name": "Python 3",
   "language": "python",
   "name": "python3"
  },
  "language_info": {
   "codemirror_mode": {
    "name": "ipython",
    "version": 3
   },
   "file_extension": ".py",
   "mimetype": "text/x-python",
   "name": "python",
   "nbconvert_exporter": "python",
   "pygments_lexer": "ipython3",
   "version": "3.8.5"
  }
 },
 "nbformat": 4,
 "nbformat_minor": 1
}
