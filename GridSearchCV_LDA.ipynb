{
 "cells": [
  {
   "cell_type": "code",
   "execution_count": null,
   "metadata": {
    "id": "3HtT7phMbNZD"
   },
   "outputs": [],
   "source": [
    "# Run in terminal or command prompt\n",
    "# ! python -m spacy download en ## spacy.load('en_core_web_sm')"
   ]
  },
  {
   "cell_type": "code",
   "execution_count": 1,
   "metadata": {
    "executionInfo": {
     "elapsed": 1739,
     "status": "ok",
     "timestamp": 1651146128140,
     "user": {
      "displayName": "Rim EL CHAMI",
      "userId": "00253556728687326190"
     },
     "user_tz": -120
    },
    "id": "3fxjeA1jbLOo"
   },
   "outputs": [
    {
     "name": "stderr",
     "output_type": "stream",
     "text": [
      "[nltk_data] Downloading package punkt to\n",
      "[nltk_data]     C:\\Users\\khale\\AppData\\Roaming\\nltk_data...\n",
      "[nltk_data]   Package punkt is already up-to-date!\n",
      "[nltk_data] Downloading package wordnet to\n",
      "[nltk_data]     C:\\Users\\khale\\AppData\\Roaming\\nltk_data...\n",
      "[nltk_data]   Package wordnet is already up-to-date!\n",
      "[nltk_data] Downloading package averaged_perceptron_tagger to\n",
      "[nltk_data]     C:\\Users\\khale\\AppData\\Roaming\\nltk_data...\n",
      "[nltk_data]   Package averaged_perceptron_tagger is already up-to-\n",
      "[nltk_data]       date!\n"
     ]
    }
   ],
   "source": [
    "import numpy as np\n",
    "import pandas as pd\n",
    "import re, nltk, spacy, gensim\n",
    "import joblib  \n",
    "\n",
    "from spacy.lang.en.stop_words import STOP_WORDS as en_stop\n",
    "import en_core_web_sm\n",
    "\n",
    "import nltk\n",
    "from nltk.corpus import wordnet\n",
    "from nltk.stem import WordNetLemmatizer\n",
    "nltk.download('punkt')\n",
    "nltk.download('wordnet')\n",
    "nltk.download('averaged_perceptron_tagger')\n",
    "\n",
    "# Sklearn\n",
    "from sklearn.decomposition import LatentDirichletAllocation, TruncatedSVD\n",
    "from sklearn.feature_extraction.text import CountVectorizer, TfidfVectorizer\n",
    "from sklearn.metrics.pairwise import euclidean_distances\n",
    "from sklearn.model_selection import GridSearchCV\n",
    "\n",
    "from pprint import pprint\n",
    "from bokeh.models import Label\n",
    "from bokeh.plotting import figure, show\n",
    "\n",
    "from sklearn.manifold import TSNE\n",
    "\n",
    "# Plotting tools\n",
    "import matplotlib.pyplot as plt\n",
    "\n",
    "%matplotlib inline"
   ]
  },
  {
   "cell_type": "markdown",
   "metadata": {},
   "source": [
    "## Data cleaned"
   ]
  },
  {
   "cell_type": "code",
   "execution_count": 2,
   "metadata": {},
   "outputs": [],
   "source": [
    "def clean_txt(txt: str) -> str:\n",
    "    txt = re.sub(r'[^\\w]', ' ', txt)\n",
    "    return txt"
   ]
  },
  {
   "cell_type": "code",
   "execution_count": 3,
   "metadata": {},
   "outputs": [],
   "source": [
    "def remove_digit(txt: str) -> str:\n",
    "    result = ''.join([i for i in txt if not i.isdigit()])\n",
    "    return result"
   ]
  },
  {
   "cell_type": "code",
   "execution_count": 4,
   "metadata": {},
   "outputs": [],
   "source": [
    "list_stopWords = list(en_stop)\n",
    "\n",
    "def remove_stop_words(txt: str):\n",
    "    \n",
    "    string_txt = \" \" \n",
    "    list_words = []\n",
    "    \n",
    "    sentence = txt.split()\n",
    "\n",
    "    for val in sentence:\n",
    "        if val not in list_stopWords:\n",
    "            list_words.append(val)\n",
    "\n",
    "    return string_txt.join(list_words)"
   ]
  },
  {
   "cell_type": "code",
   "execution_count": 5,
   "metadata": {},
   "outputs": [],
   "source": [
    "lemmatizer = WordNetLemmatizer()\n",
    " \n",
    "def nltk2wn_tag(nltk_tag):\n",
    "    if nltk_tag.startswith('J'):\n",
    "        return wordnet.ADJ\n",
    "    elif nltk_tag.startswith('V'):\n",
    "        return wordnet.VERB\n",
    "    elif nltk_tag.startswith('N'):\n",
    "        return wordnet.NOUN\n",
    "    elif nltk_tag.startswith('R'):\n",
    "        return wordnet.ADV\n",
    "    else:                    \n",
    "        return None\n",
    "\n",
    "def lemmatization(sentence):\n",
    "    nltk_tagged = nltk.pos_tag(nltk.word_tokenize(sentence))    \n",
    "    wn_tagged = map(lambda x: (x[0], nltk2wn_tag(x[1])), nltk_tagged)\n",
    "    res_words = []\n",
    "    for word, tag in wn_tagged:\n",
    "        if tag is None:                        \n",
    "          res_words.append(word)\n",
    "        else:\n",
    "          res_words.append(lemmatizer.lemmatize(word, tag))\n",
    "      \n",
    "    return \" \".join(res_words)"
   ]
  },
  {
   "cell_type": "code",
   "execution_count": 6,
   "metadata": {
    "executionInfo": {
     "elapsed": 3,
     "status": "ok",
     "timestamp": 1651146141651,
     "user": {
      "displayName": "Rim EL CHAMI",
      "userId": "00253556728687326190"
     },
     "user_tz": -120
    },
    "id": "K47rDEqXwMbf"
   },
   "outputs": [],
   "source": [
    "# English stop words\n",
    "list_stopWords = ['year', 'time', 'know', 'come', 'use', 'tell', 'want', 'day', 'say', 'says', 'ha', 'wa', 'like', 'think', 'make', 'new', 'song', 'time', 'i', 'me', 'my', 'myself', 'we', 'our', 'ours', 'ourselves', 'you', \"you're\", \"you've\", \"you'll\", \"you'd\", 'your', 'yours', 'yourself', 'yourselves', 'he', 'him', 'his', 'himself', 'she', \"she's\", 'her', 'hers', 'herself', 'it', \"it's\", 'its', 'itself', 'they', 'them', 'their', 'theirs', 'themselves', 'what', 'which', 'who', 'whom', 'this', 'that', \"that'll\", 'these', 'those', 'am', 'is', 'are', 'was', 'were', 'be', 'been', 'being', 'have', 'has', 'had', 'having', 'do', 'does', 'did', 'doing', 'a', 'an', 'the', 'and', 'but', 'if', 'or', 'because', 'as', 'until', 'while', 'of', 'at', 'by', 'for', 'with', 'about', 'against', 'between', 'into', 'through', 'during', 'before', 'after', 'above', 'below', 'to', 'from', 'up', 'down', 'in', 'out', 'on', 'off', 'over', 'under', 'again', 'further', 'then', 'once', 'here', 'there', 'when', 'where', 'why', 'how', 'all', 'any', 'both', 'each', 'few', 'more', 'most', 'other', 'some', 'such', 'no', 'nor', 'not', 'only', 'own', 'same', 'so', 'than', 'too', 'very', 's', 't', 'can', 'will', 'just', 'don', \"don't\", 'should', \"should've\", 'now', 'd', 'll', 'm', 'o', 're', 've', 'y', 'ain', 'aren', \"aren't\", 'couldn', \"couldn't\", 'didn', \"didn't\", 'doesn', \"doesn't\", 'hadn', \"hadn't\", 'hasn', \"hasn't\", 'haven', \"haven't\", 'isn', \"isn't\", 'ma', 'mightn', \"mightn't\", 'mustn', \"mustn't\", 'needn', \"needn't\", 'shan', \"shan't\", 'shouldn', \"shouldn't\", 'wasn', \"wasn't\", 'weren', \"weren't\", 'won', \"won't\", 'wouldn', \"wouldn't\", 'A', 'a', 'B', 'b', 'C', 'c', 'D', 'd', 'E', 'e', 'F', 'f', 'G', 'g', 'H', 'h', 'I', 'i', 'J', 'j', 'K', 'k', 'L', 'l', 'M', 'm', 'N', 'n', 'O', 'o', 'P', 'p', 'Q', 'q', 'R', 'r', 'S', 's', 'T', 't', 'U', 'u', 'V', 'v', 'W', 'w', 'X', 'x', 'Y', 'y', 'Z', 'z']"
   ]
  },
  {
   "cell_type": "code",
   "execution_count": 7,
   "metadata": {
    "executionInfo": {
     "elapsed": 2,
     "status": "ok",
     "timestamp": 1651146143410,
     "user": {
      "displayName": "Rim EL CHAMI",
      "userId": "00253556728687326190"
     },
     "user_tz": -120
    },
    "id": "QgGi-8tpwT3K"
   },
   "outputs": [],
   "source": [
    "def stop_words(txt: str):\n",
    "    \n",
    "    string_txt = \" \" \n",
    "    list_words = []\n",
    "    \n",
    "    sentence = txt.split()\n",
    "\n",
    "    for val in sentence:\n",
    "        if val not in list_stopWords:\n",
    "            list_words.append(val)\n",
    "\n",
    "    return string_txt.join(list_words)"
   ]
  },
  {
   "cell_type": "markdown",
   "metadata": {
    "id": "Lix7SFeLblPT"
   },
   "source": [
    "### Read data"
   ]
  },
  {
   "cell_type": "code",
   "execution_count": 2,
   "metadata": {
    "executionInfo": {
     "elapsed": 1477,
     "status": "ok",
     "timestamp": 1651146148356,
     "user": {
      "displayName": "Rim EL CHAMI",
      "userId": "00253556728687326190"
     },
     "user_tz": -120
    },
    "id": "4GA23XRxv3yS"
   },
   "outputs": [],
   "source": [
    "data_cleaned = pd.read_csv('../Topic modeling/data_npr_cleaning.csv', parse_dates=[0], infer_datetime_format=True)"
   ]
  },
  {
   "cell_type": "code",
   "execution_count": 3,
   "metadata": {},
   "outputs": [
    {
     "data": {
      "text/plain": [
       "'Being overweight raise blood pressure cholesterol risk develop diabetes It bad brain A diet high saturated fat sugar Western diet actually affect brain important memory people likely crave unhealthful food psychologist Terry Davidson director Center Behavioral Neuroscience American University Washington D C He didn t start study people eat Instead interested learn hippocampus brain s heavily involve memory He try figure hippocampus He study rat specific type hippocampal damage happen In process Davidson notice strange The rat hippocampal damage pick food rat eat little bit drop Davidson realize rat didn t know He similar happen human brain people eat diet high fat sugar Davidson s vicious cycle bad diet brain change He point study Journal Pediatrics find obese child perform poorly memory task test hippocampus compare kid weren t overweight He brain system impair kind diet difficult stop eating diet I think evidence fairly substantial effect diet obesity brain function cognitive function The evidence grow Research Cambridge Centre Ageing Neuroscience publish July find obese people white matter brain lean peer brain year old A recent study researcher University Arizona support lead theory high body mass link inflammation affect brain But understand obesity affect brain memory maybe use relationship prevent people obese place Lucy Cheke psychologist University Cambridge study The Quarterly Journal Experimental Psychology November idea Her researcher ask obese lean people memory task s virtual treasure hunt The subject hide scene computer session ask hide hide session The obese people percent bad lean aspect experiment The finding confirm researcher rodent This pick apart spatial item temporal memory crucially ability integrate Cheke fundamental aspect memory If obese percent likely remember key Diet isn t necessarily destiny People compensate As American University s Davidson Let s I kid I diet hippocampal dysfunction That kid bad school But Davidson add process help kid school impair When happen kid work harder motivated tough Cheke link obesity brain growing field research way target obesity For example issue diet obese people degrade memory likely overeat maybe meal memorable help eat bad stuff Cheke s research watch TV eat lunch ll eat likely hungry afternoon later eat dinner She watch TV eat small easy change people don t involve lot don t involve lot sacrifice significant difference eat However begin understand obesity affect brain don t exactly know John Gunstad professor director Applied Psychology Center Kent State University Ohio He point obesity change lot body blood sugar level cardiovascular system inflammation level body Any thing affect brain Most likely effect obesity brain relate cause combination cause Gunstad Davidson forward study break vicious cycle Western diet obesity brain change But underlie idea obesity affect brain clear It s surprising people question obesity negative effect brain negative effect bodily system add brain spar Alan Yu freelance reporter contribute South China Morning Post Hong Kong You follow Twitter Alan_Yu'"
      ]
     },
     "execution_count": 3,
     "metadata": {},
     "output_type": "execute_result"
    }
   ],
   "source": [
    "data_cleaned.loc[14, 'Article']"
   ]
  },
  {
   "cell_type": "code",
   "execution_count": 9,
   "metadata": {
    "executionInfo": {
     "elapsed": 276,
     "status": "ok",
     "timestamp": 1651146151687,
     "user": {
      "displayName": "Rim EL CHAMI",
      "userId": "00253556728687326190"
     },
     "user_tz": -120
    },
    "id": "DuVOUPz2fY-O"
   },
   "outputs": [],
   "source": [
    "data_cleaned = data_cleaned.loc[:, ~data_cleaned.columns.str.contains('^Unnamed')]"
   ]
  },
  {
   "cell_type": "code",
   "execution_count": 10,
   "metadata": {
    "executionInfo": {
     "elapsed": 17142,
     "status": "ok",
     "timestamp": 1651146171730,
     "user": {
      "displayName": "Rim EL CHAMI",
      "userId": "00253556728687326190"
     },
     "user_tz": -120
    },
    "id": "xDHq9Ljowapw"
   },
   "outputs": [],
   "source": [
    "data_cleaned['Article'] = data_cleaned['Article'].apply(lambda x: stop_words(x))   "
   ]
  },
  {
   "cell_type": "code",
   "execution_count": 11,
   "metadata": {
    "colab": {
     "base_uri": "https://localhost:8080/",
     "height": 206
    },
    "executionInfo": {
     "elapsed": 17,
     "status": "ok",
     "timestamp": 1651146171731,
     "user": {
      "displayName": "Rim EL CHAMI",
      "userId": "00253556728687326190"
     },
     "user_tz": -120
    },
    "id": "vUJliY-SfmKs",
    "outputId": "adc66c7d-cee3-4572-e0d0-e6bfe94783a6"
   },
   "outputs": [
    {
     "data": {
      "text/html": [
       "<div>\n",
       "<style scoped>\n",
       "    .dataframe tbody tr th:only-of-type {\n",
       "        vertical-align: middle;\n",
       "    }\n",
       "\n",
       "    .dataframe tbody tr th {\n",
       "        vertical-align: top;\n",
       "    }\n",
       "\n",
       "    .dataframe thead th {\n",
       "        text-align: right;\n",
       "    }\n",
       "</style>\n",
       "<table border=\"1\" class=\"dataframe\">\n",
       "  <thead>\n",
       "    <tr style=\"text-align: right;\">\n",
       "      <th></th>\n",
       "      <th>Article</th>\n",
       "    </tr>\n",
       "  </thead>\n",
       "  <tbody>\n",
       "    <tr>\n",
       "      <th>0</th>\n",
       "      <td>In Washington policy bipartisan politics And s...</td>\n",
       "    </tr>\n",
       "    <tr>\n",
       "      <th>1</th>\n",
       "      <td>Donald Trump Twitter preferred mean communicat...</td>\n",
       "    </tr>\n",
       "    <tr>\n",
       "      <th>2</th>\n",
       "      <td>Donald Trump unabashedly praising Russian Pres...</td>\n",
       "    </tr>\n",
       "    <tr>\n",
       "      <th>3</th>\n",
       "      <td>Updated ET Russian President Vladimir Putin Ru...</td>\n",
       "    </tr>\n",
       "    <tr>\n",
       "      <th>4</th>\n",
       "      <td>From photography illustration video data visua...</td>\n",
       "    </tr>\n",
       "  </tbody>\n",
       "</table>\n",
       "</div>"
      ],
      "text/plain": [
       "                                             Article\n",
       "0  In Washington policy bipartisan politics And s...\n",
       "1  Donald Trump Twitter preferred mean communicat...\n",
       "2  Donald Trump unabashedly praising Russian Pres...\n",
       "3  Updated ET Russian President Vladimir Putin Ru...\n",
       "4  From photography illustration video data visua..."
      ]
     },
     "execution_count": 11,
     "metadata": {},
     "output_type": "execute_result"
    }
   ],
   "source": [
    "data_cleaned.head()"
   ]
  },
  {
   "cell_type": "code",
   "execution_count": 13,
   "metadata": {},
   "outputs": [
    {
     "name": "stdout",
     "output_type": "stream",
     "text": [
      "<class 'pandas.core.frame.DataFrame'>\n",
      "RangeIndex: 11992 entries, 0 to 11991\n",
      "Data columns (total 1 columns):\n",
      " #   Column   Non-Null Count  Dtype \n",
      "---  ------   --------------  ----- \n",
      " 0   Article  11992 non-null  object\n",
      "dtypes: object(1)\n",
      "memory usage: 93.8+ KB\n"
     ]
    }
   ],
   "source": [
    "data_cleaned.info()"
   ]
  },
  {
   "cell_type": "markdown",
   "metadata": {
    "id": "uoVd7oIHf4LY"
   },
   "source": [
    "### Create the Document-Word matrix"
   ]
  },
  {
   "cell_type": "code",
   "execution_count": 12,
   "metadata": {
    "executionInfo": {
     "elapsed": 5645,
     "status": "ok",
     "timestamp": 1651146194796,
     "user": {
      "displayName": "Rim EL CHAMI",
      "userId": "00253556728687326190"
     },
     "user_tz": -120
    },
    "id": "T3Gj4FNLf5Ob"
   },
   "outputs": [],
   "source": [
    "vectorizer = CountVectorizer(analyzer='word', min_df=10, stop_words='english',             \n",
    "                             lowercase=True, token_pattern='[a-zA-Z0-9]{3,}',\n",
    "                             max_features=50000,)\n",
    "\n",
    "data_vectorized = vectorizer.fit_transform(data_cleaned['Article'])"
   ]
  },
  {
   "cell_type": "markdown",
   "metadata": {
    "id": "4VP2QaBsgPy0"
   },
   "source": [
    "### Build LDA model with sklearn"
   ]
  },
  {
   "cell_type": "code",
   "execution_count": 13,
   "metadata": {
    "executionInfo": {
     "elapsed": 129909,
     "status": "ok",
     "timestamp": 1651146324699,
     "user": {
      "displayName": "Rim EL CHAMI",
      "userId": "00253556728687326190"
     },
     "user_tz": -120
    },
    "id": "FNvOFDTEgO3Q"
   },
   "outputs": [],
   "source": [
    "# Build LDA Model\n",
    "lda_model = LatentDirichletAllocation(n_components=10, max_iter=10, \n",
    "                                      learning_method='online', random_state=100,\n",
    "                                      batch_size=128, evaluate_every = -1,\n",
    "                                      n_jobs = -1,)\n",
    "\n",
    "lda_output = lda_model.fit_transform(data_vectorized)"
   ]
  },
  {
   "cell_type": "code",
   "execution_count": 17,
   "metadata": {
    "colab": {
     "base_uri": "https://localhost:8080/"
    },
    "executionInfo": {
     "elapsed": 20,
     "status": "ok",
     "timestamp": 1651146324699,
     "user": {
      "displayName": "Rim EL CHAMI",
      "userId": "00253556728687326190"
     },
     "user_tz": -120
    },
    "id": "mwzNEUTNgqVU",
    "outputId": "279409e8-0241-40ef-d21e-84930a48f946"
   },
   "outputs": [
    {
     "data": {
      "text/plain": [
       "LatentDirichletAllocation(learning_method='online', n_jobs=-1, random_state=100)"
      ]
     },
     "execution_count": 17,
     "metadata": {},
     "output_type": "execute_result"
    }
   ],
   "source": [
    "LatentDirichletAllocation(batch_size=128, doc_topic_prior=None,\n",
    " evaluate_every=-1, learning_decay=0.7,\n",
    " learning_method='online', learning_offset=10.0,\n",
    " max_doc_update_iter=100, max_iter=10, mean_change_tol=0.001,\n",
    " n_components=10, n_jobs=-1, perp_tol=0.1,\n",
    " random_state=100, topic_word_prior=None,\n",
    " total_samples=1000000.0, verbose=0)"
   ]
  },
  {
   "cell_type": "markdown",
   "metadata": {
    "id": "FZ0jryyWhdNr"
   },
   "source": [
    "### Diagnose model performance with perplexity and log-likelihood"
   ]
  },
  {
   "cell_type": "code",
   "execution_count": 18,
   "metadata": {
    "colab": {
     "base_uri": "https://localhost:8080/"
    },
    "executionInfo": {
     "elapsed": 25168,
     "status": "ok",
     "timestamp": 1651146349857,
     "user": {
      "displayName": "Rim EL CHAMI",
      "userId": "00253556728687326190"
     },
     "user_tz": -120
    },
    "id": "bFJkbeeTheXK",
    "outputId": "736f17f0-978e-471d-d5bd-703f71cf4c37"
   },
   "outputs": [
    {
     "name": "stdout",
     "output_type": "stream",
     "text": [
      "Log Likelihood:  -30675969.612783805\n",
      "Perplexity:  3097.8000839116776\n",
      "{'batch_size': 128,\n",
      " 'doc_topic_prior': None,\n",
      " 'evaluate_every': -1,\n",
      " 'learning_decay': 0.7,\n",
      " 'learning_method': 'online',\n",
      " 'learning_offset': 10.0,\n",
      " 'max_doc_update_iter': 100,\n",
      " 'max_iter': 10,\n",
      " 'mean_change_tol': 0.001,\n",
      " 'n_components': 10,\n",
      " 'n_jobs': -1,\n",
      " 'perp_tol': 0.1,\n",
      " 'random_state': 100,\n",
      " 'topic_word_prior': None,\n",
      " 'total_samples': 1000000.0,\n",
      " 'verbose': 0}\n"
     ]
    }
   ],
   "source": [
    "# Log Likelyhood: Higher the better\n",
    "print(\"Log Likelihood: \", lda_model.score(data_vectorized))\n",
    "# Perplexity: Lower the better. Perplexity = exp(-1. * log-likelihood per word)\n",
    "print(\"Perplexity: \", lda_model.perplexity(data_vectorized))\n",
    "# See model parameters\n",
    "pprint(lda_model.get_params())"
   ]
  },
  {
   "cell_type": "code",
   "execution_count": null,
   "metadata": {},
   "outputs": [],
   "source": [
    "from datetime import datetime"
   ]
  },
  {
   "cell_type": "markdown",
   "metadata": {
    "id": "WOr_1QYnhrBa"
   },
   "source": [
    "### Use GridSearch to determine the best LDA model"
   ]
  },
  {
   "cell_type": "code",
   "execution_count": null,
   "metadata": {
    "colab": {
     "base_uri": "https://localhost:8080/"
    },
    "executionInfo": {
     "elapsed": 15697901,
     "status": "ok",
     "timestamp": 1651162059890,
     "user": {
      "displayName": "Rim EL CHAMI",
      "userId": "00253556728687326190"
     },
     "user_tz": -120
    },
    "id": "2VzdARx-h0WK",
    "outputId": "3e82707f-8d27-4a73-d71e-62f38ab99838"
   },
   "outputs": [],
   "source": [
    "start_time = datetime.now()\n",
    "\n",
    "# Define Search Param\n",
    "search_params = {'n_components': [4, 6, 8, 10, 12, 14, 16, 18, 20, 22, 24, 26,\n",
    "                                  28, 30], \n",
    "                 'learning_decay': [.5, .7, .9]}\n",
    "\n",
    "# Init the Model\n",
    "lda = LatentDirichletAllocation(max_iter=5, learning_method='online', \n",
    "                                learning_offset=50.,random_state=0)\n",
    "\n",
    "# Init Grid Search Class\n",
    "model = GridSearchCV(lda, param_grid=search_params)\n",
    "\n",
    "# Do the Grid Search\n",
    "model.fit(data_vectorized)\n",
    "\n",
    "GridSearchCV(cv=None, error_score='raise',\n",
    "    estimator=LatentDirichletAllocation(batch_size=128, doc_topic_prior=None,\n",
    "          evaluate_every=-1, learning_decay=0.7, learning_method=None,\n",
    "          learning_offset=10.0, max_doc_update_iter=100, max_iter=10,\n",
    "          mean_change_tol=0.001, n_components=10, n_jobs=1, perp_tol=0.1, \n",
    "          random_state=None,\n",
    "          topic_word_prior=None, total_samples=1000000.0, verbose=0), n_jobs=1,\n",
    "    param_grid={'n_topics': [4, 6, 8, 10, 12, 14, 16, 18, 20, 22, 24, 26,\n",
    "                                  28, 30], \n",
    "                'learning_decay': [0.5, 0.7, 0.9]},\n",
    "    pre_dispatch='2*n_jobs', refit=True, return_train_score='warn', \n",
    "    scoring=None, verbose=0)\n",
    "\n",
    "end_time = datetime.now()\n",
    "print('Duration: {}'.format(end_time - start_time))"
   ]
  },
  {
   "cell_type": "code",
   "execution_count": null,
   "metadata": {
    "colab": {
     "base_uri": "https://localhost:8080/",
     "height": 304
    },
    "executionInfo": {
     "elapsed": 1700,
     "status": "error",
     "timestamp": 1651162061575,
     "user": {
      "displayName": "Rim EL CHAMI",
      "userId": "00253556728687326190"
     },
     "user_tz": -120
    },
    "id": "KAOuQO-IjPQk",
    "outputId": "af959fd2-0503-43ac-d23e-363d4e99b15a"
   },
   "outputs": [],
   "source": [
    "# joblib.dump(model, '../Topic modeling/best_model_lda_BOW_GSCV.pkl') "
   ]
  },
  {
   "cell_type": "code",
   "execution_count": 14,
   "metadata": {
    "id": "55Um6aOXo_oN"
   },
   "outputs": [],
   "source": [
    "BOW_model = joblib.load(\"../Topic modeling/best_model_lda_BOW_GSCV.pkl\")  "
   ]
  },
  {
   "cell_type": "code",
   "execution_count": 15,
   "metadata": {
    "id": "nkMaMYuB5ese"
   },
   "outputs": [],
   "source": [
    "# Best Model\n",
    "best_lda_model = BOW_model.best_estimator_"
   ]
  },
  {
   "cell_type": "code",
   "execution_count": 16,
   "metadata": {
    "colab": {
     "base_uri": "https://localhost:8080/"
    },
    "executionInfo": {
     "elapsed": 553,
     "status": "ok",
     "timestamp": 1649605758407,
     "user": {
      "displayName": "Khaled SAAD",
      "userId": "01813135692060672401"
     },
     "user_tz": -120
    },
    "id": "lz_2XPE6fcFd",
    "outputId": "b39f3f37-206b-4440-ae97-42f3cc63f0ff"
   },
   "outputs": [
    {
     "name": "stdout",
     "output_type": "stream",
     "text": [
      "Best Model's Params:  {'learning_decay': 0.5, 'n_components': 10}\n"
     ]
    }
   ],
   "source": [
    "# Model Parameters\n",
    "print(\"Best Model's Params: \", BOW_model.best_params_)"
   ]
  },
  {
   "cell_type": "code",
   "execution_count": 23,
   "metadata": {
    "colab": {
     "base_uri": "https://localhost:8080/"
    },
    "executionInfo": {
     "elapsed": 516,
     "status": "ok",
     "timestamp": 1649594583967,
     "user": {
      "displayName": "Khaled SAAD",
      "userId": "01813135692060672401"
     },
     "user_tz": -120
    },
    "id": "DDM-KkdvfkoS",
    "outputId": "2b972776-7328-46ca-8941-2799fb583139"
   },
   "outputs": [
    {
     "name": "stdout",
     "output_type": "stream",
     "text": [
      "Best Log Likelihood Score:  -6342709.322640083\n"
     ]
    }
   ],
   "source": [
    "# Log Likelihood Score\n",
    "print(\"Best Log Likelihood Score: \", BOW_model.best_score_)"
   ]
  },
  {
   "cell_type": "code",
   "execution_count": 24,
   "metadata": {
    "colab": {
     "base_uri": "https://localhost:8080/"
    },
    "executionInfo": {
     "elapsed": 11235,
     "status": "ok",
     "timestamp": 1649594606741,
     "user": {
      "displayName": "Khaled SAAD",
      "userId": "01813135692060672401"
     },
     "user_tz": -120
    },
    "id": "zZkXYaqEf-2s",
    "outputId": "f0926e54-9b31-4d7a-a667-20e265e1e8fc"
   },
   "outputs": [
    {
     "name": "stdout",
     "output_type": "stream",
     "text": [
      "Model Perplexity:  3113.7697882766774\n"
     ]
    }
   ],
   "source": [
    "# Perplexity\n",
    "print(\"Model Perplexity: \", best_lda_model.perplexity(data_vectorized))"
   ]
  },
  {
   "cell_type": "code",
   "execution_count": 26,
   "metadata": {
    "id": "24EiBNWcp3Bg"
   },
   "outputs": [],
   "source": [
    "# BOW_model.cv_results_"
   ]
  },
  {
   "cell_type": "code",
   "execution_count": 27,
   "metadata": {
    "colab": {
     "base_uri": "https://localhost:8080/",
     "height": 513
    },
    "executionInfo": {
     "elapsed": 947,
     "status": "ok",
     "timestamp": 1649597630425,
     "user": {
      "displayName": "Khaled SAAD",
      "userId": "01813135692060672401"
     },
     "user_tz": -120
    },
    "id": "pxW9UqFpqHHx",
    "outputId": "a3f2557b-af18-43ea-c07b-cd057b425320"
   },
   "outputs": [
    {
     "data": {
      "image/png": "[encoded data removed]",
      "text/plain": [
       "<Figure size 864x576 with 1 Axes>"
      ]
     },
     "metadata": {
      "needs_background": "light"
     },
     "output_type": "display_data"
    }
   ],
   "source": [
    "# Get Log Likelyhoods from Grid Search Output\n",
    "nub_topics = [4, 6, 8, 10, 12, 14, 16, 18, 20, 22, 24, 26, 28, 30]\n",
    "mean = 'mean_test_score'\n",
    "log_likelyhoods_5 = [round(BOW_model.cv_results_[mean][i]) for i, gscore in enumerate(BOW_model.cv_results_['params']) if gscore['learning_decay']==0.5]\n",
    "log_likelyhoods_7 = [round(BOW_model.cv_results_[mean][i]) for i, gscore in enumerate(BOW_model.cv_results_['params']) if gscore['learning_decay']==0.7]\n",
    "log_likelyhoods_9 = [round(BOW_model.cv_results_[mean][i]) for i, gscore in enumerate(BOW_model.cv_results_['params']) if gscore['learning_decay']==0.9]\n",
    "\n",
    "# Show graph\n",
    "plt.figure(figsize=(12, 8))\n",
    "plt.plot(nub_topics, log_likelyhoods_5, label='0.5')\n",
    "plt.plot(nub_topics, log_likelyhoods_7, label='0.7')\n",
    "plt.plot(nub_topics, log_likelyhoods_9, label='0.9')\n",
    "plt.title(\"Choosing Optimal LDA Model\")\n",
    "plt.xlabel(\"Num Topics\")\n",
    "plt.ylabel(\"Log Likelyhood Scores\")\n",
    "plt.legend(title='Learning decay', loc='best')\n",
    "plt.show()"
   ]
  },
  {
   "cell_type": "code",
   "execution_count": 17,
   "metadata": {
    "id": "NE-l8p96tTh_"
   },
   "outputs": [],
   "source": [
    "def get_keys(topic_matrix):\n",
    "    '''\n",
    "    returns an integer list of predicted topic \n",
    "    categories for a given topic matrix\n",
    "    '''\n",
    "    keys = topic_matrix.argmax(axis=1).tolist()\n",
    "    return keys"
   ]
  },
  {
   "cell_type": "code",
   "execution_count": 18,
   "metadata": {
    "id": "8nBhGhdUwwU_"
   },
   "outputs": [],
   "source": [
    "lda_output_GSCV = best_lda_model.transform(data_vectorized)"
   ]
  },
  {
   "cell_type": "code",
   "execution_count": 19,
   "metadata": {
    "id": "yEzzjRmzuhXf"
   },
   "outputs": [],
   "source": [
    "lda_keys = get_keys(lda_output_GSCV)"
   ]
  },
  {
   "cell_type": "code",
   "execution_count": 20,
   "metadata": {
    "id": "3UEDU_nz2Pn7"
   },
   "outputs": [],
   "source": [
    "n__topics = 10"
   ]
  },
  {
   "cell_type": "code",
   "execution_count": 21,
   "metadata": {
    "id": "FmY8yn2tupCH"
   },
   "outputs": [],
   "source": [
    "def get_top_n_words(n, keys, document_term_matrix, count_vectorizer):\n",
    "    '''\n",
    "    returns a list of n_topic strings, where each string contains the n most common \n",
    "    words in a predicted category, in order\n",
    "    '''\n",
    "    top_word_indices = []\n",
    "    for topic in range(n__topics):\n",
    "        temp_vector_sum = 0\n",
    "        for i in range(len(keys)):\n",
    "            if keys[i] == topic:\n",
    "                temp_vector_sum += document_term_matrix[i]\n",
    "        temp_vector_sum = temp_vector_sum.toarray()\n",
    "        top_n_word_indices = np.flip(np.argsort(temp_vector_sum)[0][-n:],0)\n",
    "        top_word_indices.append(top_n_word_indices)   \n",
    "    top_words = []\n",
    "    for topic in top_word_indices:\n",
    "        topic_words = []\n",
    "        for index in topic:\n",
    "            temp_word_vector = np.zeros((1,document_term_matrix.shape[1]))\n",
    "            temp_word_vector[:,index] = 1\n",
    "            the_word = count_vectorizer.inverse_transform(temp_word_vector)[0][0]\n",
    "            topic_words.append(the_word.encode('ascii').decode('utf-8'))\n",
    "        top_words.append(\" \".join(topic_words))         \n",
    "    return top_words"
   ]
  },
  {
   "cell_type": "code",
   "execution_count": 33,
   "metadata": {
    "colab": {
     "base_uri": "https://localhost:8080/"
    },
    "executionInfo": {
     "elapsed": 4933,
     "status": "ok",
     "timestamp": 1649631189964,
     "user": {
      "displayName": "Rim EL CHAMI",
      "userId": "00253556728687326190"
     },
     "user_tz": -120
    },
    "id": "VNs-j_6fuyu4",
    "outputId": "b9f401b2-6084-4a08-ead6-2944458bf388",
    "scrolled": true
   },
   "outputs": [
    {
     "name": "stdout",
     "output_type": "stream",
     "text": [
      "Topic 1:  trump president clinton campaign house people white report russia obama\n",
      "Topic 2:  people police report attack city kill officer force group state\n",
      "Topic 3:  music people play album work world way win record band\n",
      "Topic 4:  people health care percent tax trump company state pay plan\n",
      "Topic 5:  trump clinton state vote win voter party campaign sanders candidate\n",
      "Topic 6:  people way thing work woman life story look write book\n",
      "Topic 7:  food water people work eat way look world state big\n",
      "Topic 8:  state school court law student case federal report people trump\n",
      "Topic 9:  people health study patient disease drug woman work doctor percent\n",
      "Topic 10:  country trump people president china north government report world korea\n"
     ]
    }
   ],
   "source": [
    "top_n_words_lda = get_top_n_words(10, lda_keys, data_vectorized, vectorizer)\n",
    "\n",
    "for i in range(len(top_n_words_lda)):\n",
    "    print(\"Topic {}: \".format(i+1), top_n_words_lda[i])"
   ]
  },
  {
   "cell_type": "code",
   "execution_count": null,
   "metadata": {},
   "outputs": [],
   "source": [
    "# dict_topics = {'Topic 1': 'USA politic', 'Topic 2':'security', 'Topic 3': 'entraitement', 'Topic 4': 'health care', \n",
    "#                'Topic 5': 'elections', 'Topic 6': 'women rights', 'Topic 7': 'wellbeing', 'Topic 8': 'education',\n",
    "#               'Topic 9': 'social security', 'Topic 10': 'World politics'}"
   ]
  },
  {
   "cell_type": "code",
   "execution_count": null,
   "metadata": {},
   "outputs": [],
   "source": [
    "# import re\n",
    "\n",
    "# s = \"[[0.  0.3 0.7 0.  0.  0.  0.  0.  0.  0. ]]\"\n",
    "\n",
    "# def add_comma(match):\n",
    "#     return match.group(0) + ','\n",
    "\n",
    "# s = re.sub(r'\\[[0-9\\.\\s]+\\]', add_comma, s)\n",
    "# s = re.sub(r'([0-9\\.]+)', add_comma, s)\n",
    "# mylist = eval(s)"
   ]
  },
  {
   "cell_type": "code",
   "execution_count": 34,
   "metadata": {
    "colab": {
     "base_uri": "https://localhost:8080/"
    },
    "executionInfo": {
     "elapsed": 171929,
     "status": "ok",
     "timestamp": 1649631364914,
     "user": {
      "displayName": "Rim EL CHAMI",
      "userId": "00253556728687326190"
     },
     "user_tz": -120
    },
    "id": "EKs-I0VlyR-A",
    "outputId": "17b5c051-aa93-4050-b383-73a10289dedf"
   },
   "outputs": [
    {
     "name": "stdout",
     "output_type": "stream",
     "text": [
      "[t-SNE] Computing 151 nearest neighbors...\n",
      "[t-SNE] Indexed 11992 samples in 0.027s...\n",
      "[t-SNE] Computed neighbors for 11992 samples in 1.598s...\n",
      "[t-SNE] Computed conditional probabilities for sample 1000 / 11992\n",
      "[t-SNE] Computed conditional probabilities for sample 2000 / 11992\n",
      "[t-SNE] Computed conditional probabilities for sample 3000 / 11992\n",
      "[t-SNE] Computed conditional probabilities for sample 4000 / 11992\n",
      "[t-SNE] Computed conditional probabilities for sample 5000 / 11992\n",
      "[t-SNE] Computed conditional probabilities for sample 6000 / 11992\n",
      "[t-SNE] Computed conditional probabilities for sample 7000 / 11992\n",
      "[t-SNE] Computed conditional probabilities for sample 8000 / 11992\n",
      "[t-SNE] Computed conditional probabilities for sample 9000 / 11992\n",
      "[t-SNE] Computed conditional probabilities for sample 10000 / 11992\n",
      "[t-SNE] Computed conditional probabilities for sample 11000 / 11992\n",
      "[t-SNE] Computed conditional probabilities for sample 11992 / 11992\n",
      "[t-SNE] Mean sigma: 0.071187\n",
      "[t-SNE] KL divergence after 250 iterations with early exaggeration: 80.509254\n",
      "[t-SNE] KL divergence after 2000 iterations: 1.471989\n"
     ]
    }
   ],
   "source": [
    "tsne_lda_model = TSNE(n_components=2, perplexity=50, learning_rate=100, \n",
    "                        n_iter=2000, verbose=1, random_state=0, angle=0.75)\n",
    "tsne_lda_vectors = tsne_lda_model.fit_transform(lda_output_GSCV)"
   ]
  },
  {
   "cell_type": "code",
   "execution_count": 22,
   "metadata": {
    "id": "zw3vmfNvyzuQ"
   },
   "outputs": [],
   "source": [
    "def get_mean_topic_vectors(keys, two_dim_vectors):\n",
    "    '''\n",
    "    returns a list of centroid vectors from each predicted topic category\n",
    "    '''\n",
    "    mean_topic_vectors = []\n",
    "    for t in range(n__topics):\n",
    "        articles_in_that_topic = []\n",
    "        for i in range(len(keys)):\n",
    "            if keys[i] == t:\n",
    "                articles_in_that_topic.append(two_dim_vectors[i])    \n",
    "        \n",
    "        articles_in_that_topic = np.vstack(articles_in_that_topic)\n",
    "        mean_article_in_that_topic = np.mean(articles_in_that_topic, axis=0)\n",
    "        mean_topic_vectors.append(mean_article_in_that_topic)\n",
    "    return mean_topic_vectors"
   ]
  },
  {
   "cell_type": "code",
   "execution_count": 23,
   "metadata": {
    "id": "4BtY2kOBy2ro"
   },
   "outputs": [],
   "source": [
    "colormap = np.array([\n",
    "    \"#1f77b4\", \"#aec7e8\", \"#ff7f0e\", \"#ffbb78\", \"#2ca02c\",\n",
    "    \"#98df8a\", \"#d62728\", \"#ff9896\", \"#9467bd\", \"#c5b0d5\",\n",
    "    \"#8c564b\", \"#c49c94\", \"#e377c2\", \"#f7b6d2\", \"#7f7f7f\",\n",
    "    \"#c7c7c7\", \"#bcbd22\", \"#dbdb8d\", \"#17becf\", \"#9edae5\",])\n",
    "colormap = colormap[:n__topics]"
   ]
  },
  {
   "cell_type": "code",
   "execution_count": null,
   "metadata": {
    "id": "Zf9f-Ny_pcyv"
   },
   "outputs": [],
   "source": [
    "# !pip install bokeh"
   ]
  },
  {
   "cell_type": "code",
   "execution_count": 25,
   "metadata": {
    "id": "sJ1DiHqzMT1_"
   },
   "outputs": [],
   "source": [
    "top_3_words_lda = get_top_n_words(3, lda_keys, data_vectorized, vectorizer)\n",
    "lda_mean_topic_vectors = get_mean_topic_vectors(lda_keys, tsne_lda_vectors)\n",
    "\n",
    "plot = figure(title=\"t-SNE Clustering of LDA Topics\".format(20), plot_width=700, plot_height=700)\n",
    "plot.scatter(x=tsne_lda_vectors[:,0].tolist(), y=tsne_lda_vectors[:,1].tolist(), color=colormap[lda_keys])\n",
    "\n",
    "for t in range(10):\n",
    "    label = Label(x=lda_mean_topic_vectors[t][0], y=lda_mean_topic_vectors[t][1], \n",
    "                  text=top_3_words_lda[t], text_color=colormap[t])\n",
    "    plot.add_layout(label)\n",
    "    \n",
    "show(plot) "
   ]
  },
  {
   "cell_type": "markdown",
   "metadata": {
    "id": "P2Rm6HZpgD8Y"
   },
   "source": [
    "### Dominant topic"
   ]
  },
  {
   "cell_type": "code",
   "execution_count": 26,
   "metadata": {
    "colab": {
     "base_uri": "https://localhost:8080/",
     "height": 540
    },
    "executionInfo": {
     "elapsed": 10045,
     "status": "ok",
     "timestamp": 1649599119441,
     "user": {
      "displayName": "Khaled SAAD",
      "userId": "01813135692060672401"
     },
     "user_tz": -120
    },
    "id": "cEDse91ugGzp",
    "outputId": "2806147b-1c1e-47eb-e261-12d66107bb59"
   },
   "outputs": [
    {
     "data": {
      "text/html": [
       "<style type=\"text/css\">\n",
       "#T_67e59_row0_col0, #T_67e59_row1_col0, #T_67e59_row1_col9, #T_67e59_row2_col0, #T_67e59_row3_col0, #T_67e59_row3_col9, #T_67e59_row4_col1, #T_67e59_row4_col2, #T_67e59_row4_col3, #T_67e59_row4_col5, #T_67e59_row4_col7, #T_67e59_row4_col9, #T_67e59_row4_col10, #T_67e59_row5_col5, #T_67e59_row5_col8, #T_67e59_row5_col10, #T_67e59_row6_col8, #T_67e59_row6_col10, #T_67e59_row7_col5, #T_67e59_row7_col6, #T_67e59_row7_col9, #T_67e59_row7_col10, #T_67e59_row8_col5, #T_67e59_row8_col6, #T_67e59_row8_col8, #T_67e59_row8_col10, #T_67e59_row9_col2, #T_67e59_row9_col5, #T_67e59_row9_col6, #T_67e59_row9_col10, #T_67e59_row10_col5, #T_67e59_row10_col10, #T_67e59_row11_col2, #T_67e59_row11_col5, #T_67e59_row11_col6, #T_67e59_row11_col10, #T_67e59_row12_col3, #T_67e59_row12_col6, #T_67e59_row12_col7, #T_67e59_row12_col10, #T_67e59_row13_col2, #T_67e59_row13_col6, #T_67e59_row13_col10, #T_67e59_row14_col5, #T_67e59_row14_col8, #T_67e59_row14_col10 {\n",
       "  color: red;\n",
       "  font-weight: 700;\n",
       "}\n",
       "#T_67e59_row0_col1, #T_67e59_row0_col2, #T_67e59_row0_col3, #T_67e59_row0_col4, #T_67e59_row0_col5, #T_67e59_row0_col6, #T_67e59_row0_col7, #T_67e59_row0_col8, #T_67e59_row0_col9, #T_67e59_row0_col10, #T_67e59_row1_col1, #T_67e59_row1_col2, #T_67e59_row1_col3, #T_67e59_row1_col4, #T_67e59_row1_col5, #T_67e59_row1_col6, #T_67e59_row1_col7, #T_67e59_row1_col8, #T_67e59_row1_col10, #T_67e59_row2_col1, #T_67e59_row2_col2, #T_67e59_row2_col3, #T_67e59_row2_col4, #T_67e59_row2_col5, #T_67e59_row2_col6, #T_67e59_row2_col7, #T_67e59_row2_col8, #T_67e59_row2_col9, #T_67e59_row2_col10, #T_67e59_row3_col1, #T_67e59_row3_col2, #T_67e59_row3_col3, #T_67e59_row3_col4, #T_67e59_row3_col5, #T_67e59_row3_col6, #T_67e59_row3_col7, #T_67e59_row3_col8, #T_67e59_row3_col10, #T_67e59_row4_col0, #T_67e59_row4_col4, #T_67e59_row4_col6, #T_67e59_row4_col8, #T_67e59_row5_col0, #T_67e59_row5_col1, #T_67e59_row5_col2, #T_67e59_row5_col3, #T_67e59_row5_col4, #T_67e59_row5_col6, #T_67e59_row5_col7, #T_67e59_row5_col9, #T_67e59_row6_col0, #T_67e59_row6_col1, #T_67e59_row6_col2, #T_67e59_row6_col3, #T_67e59_row6_col4, #T_67e59_row6_col5, #T_67e59_row6_col6, #T_67e59_row6_col7, #T_67e59_row6_col9, #T_67e59_row7_col0, #T_67e59_row7_col1, #T_67e59_row7_col2, #T_67e59_row7_col3, #T_67e59_row7_col4, #T_67e59_row7_col7, #T_67e59_row7_col8, #T_67e59_row8_col0, #T_67e59_row8_col1, #T_67e59_row8_col2, #T_67e59_row8_col3, #T_67e59_row8_col4, #T_67e59_row8_col7, #T_67e59_row8_col9, #T_67e59_row9_col0, #T_67e59_row9_col1, #T_67e59_row9_col3, #T_67e59_row9_col4, #T_67e59_row9_col7, #T_67e59_row9_col8, #T_67e59_row9_col9, #T_67e59_row10_col0, #T_67e59_row10_col1, #T_67e59_row10_col2, #T_67e59_row10_col3, #T_67e59_row10_col4, #T_67e59_row10_col6, #T_67e59_row10_col7, #T_67e59_row10_col8, #T_67e59_row10_col9, #T_67e59_row11_col0, #T_67e59_row11_col1, #T_67e59_row11_col3, #T_67e59_row11_col4, #T_67e59_row11_col7, #T_67e59_row11_col8, #T_67e59_row11_col9, #T_67e59_row12_col0, #T_67e59_row12_col1, #T_67e59_row12_col2, #T_67e59_row12_col4, #T_67e59_row12_col5, #T_67e59_row12_col8, #T_67e59_row12_col9, #T_67e59_row13_col0, #T_67e59_row13_col1, #T_67e59_row13_col3, #T_67e59_row13_col4, #T_67e59_row13_col5, #T_67e59_row13_col7, #T_67e59_row13_col8, #T_67e59_row13_col9, #T_67e59_row14_col0, #T_67e59_row14_col1, #T_67e59_row14_col2, #T_67e59_row14_col3, #T_67e59_row14_col4, #T_67e59_row14_col6, #T_67e59_row14_col7, #T_67e59_row14_col9 {\n",
       "  color: black;\n",
       "  font-weight: 400;\n",
       "}\n",
       "</style>\n",
       "<table id=\"T_67e59_\">\n",
       "  <thead>\n",
       "    <tr>\n",
       "      <th class=\"blank level0\" >&nbsp;</th>\n",
       "      <th class=\"col_heading level0 col0\" >Topic0</th>\n",
       "      <th class=\"col_heading level0 col1\" >Topic1</th>\n",
       "      <th class=\"col_heading level0 col2\" >Topic2</th>\n",
       "      <th class=\"col_heading level0 col3\" >Topic3</th>\n",
       "      <th class=\"col_heading level0 col4\" >Topic4</th>\n",
       "      <th class=\"col_heading level0 col5\" >Topic5</th>\n",
       "      <th class=\"col_heading level0 col6\" >Topic6</th>\n",
       "      <th class=\"col_heading level0 col7\" >Topic7</th>\n",
       "      <th class=\"col_heading level0 col8\" >Topic8</th>\n",
       "      <th class=\"col_heading level0 col9\" >Topic9</th>\n",
       "      <th class=\"col_heading level0 col10\" >dominant_topic</th>\n",
       "    </tr>\n",
       "  </thead>\n",
       "  <tbody>\n",
       "    <tr>\n",
       "      <th id=\"T_67e59_level0_row0\" class=\"row_heading level0 row0\" >Doc0</th>\n",
       "      <td id=\"T_67e59_row0_col0\" class=\"data row0 col0\" >0.670000</td>\n",
       "      <td id=\"T_67e59_row0_col1\" class=\"data row0 col1\" >0.040000</td>\n",
       "      <td id=\"T_67e59_row0_col2\" class=\"data row0 col2\" >0.000000</td>\n",
       "      <td id=\"T_67e59_row0_col3\" class=\"data row0 col3\" >0.020000</td>\n",
       "      <td id=\"T_67e59_row0_col4\" class=\"data row0 col4\" >0.100000</td>\n",
       "      <td id=\"T_67e59_row0_col5\" class=\"data row0 col5\" >0.060000</td>\n",
       "      <td id=\"T_67e59_row0_col6\" class=\"data row0 col6\" >0.000000</td>\n",
       "      <td id=\"T_67e59_row0_col7\" class=\"data row0 col7\" >0.000000</td>\n",
       "      <td id=\"T_67e59_row0_col8\" class=\"data row0 col8\" >0.000000</td>\n",
       "      <td id=\"T_67e59_row0_col9\" class=\"data row0 col9\" >0.100000</td>\n",
       "      <td id=\"T_67e59_row0_col10\" class=\"data row0 col10\" >0</td>\n",
       "    </tr>\n",
       "    <tr>\n",
       "      <th id=\"T_67e59_level0_row1\" class=\"row_heading level0 row1\" >Doc1</th>\n",
       "      <td id=\"T_67e59_row1_col0\" class=\"data row1 col0\" >0.480000</td>\n",
       "      <td id=\"T_67e59_row1_col1\" class=\"data row1 col1\" >0.060000</td>\n",
       "      <td id=\"T_67e59_row1_col2\" class=\"data row1 col2\" >0.000000</td>\n",
       "      <td id=\"T_67e59_row1_col3\" class=\"data row1 col3\" >0.000000</td>\n",
       "      <td id=\"T_67e59_row1_col4\" class=\"data row1 col4\" >0.040000</td>\n",
       "      <td id=\"T_67e59_row1_col5\" class=\"data row1 col5\" >0.030000</td>\n",
       "      <td id=\"T_67e59_row1_col6\" class=\"data row1 col6\" >0.000000</td>\n",
       "      <td id=\"T_67e59_row1_col7\" class=\"data row1 col7\" >0.000000</td>\n",
       "      <td id=\"T_67e59_row1_col8\" class=\"data row1 col8\" >0.000000</td>\n",
       "      <td id=\"T_67e59_row1_col9\" class=\"data row1 col9\" >0.380000</td>\n",
       "      <td id=\"T_67e59_row1_col10\" class=\"data row1 col10\" >0</td>\n",
       "    </tr>\n",
       "    <tr>\n",
       "      <th id=\"T_67e59_level0_row2\" class=\"row_heading level0 row2\" >Doc2</th>\n",
       "      <td id=\"T_67e59_row2_col0\" class=\"data row2 col0\" >0.750000</td>\n",
       "      <td id=\"T_67e59_row2_col1\" class=\"data row2 col1\" >0.020000</td>\n",
       "      <td id=\"T_67e59_row2_col2\" class=\"data row2 col2\" >0.000000</td>\n",
       "      <td id=\"T_67e59_row2_col3\" class=\"data row2 col3\" >0.000000</td>\n",
       "      <td id=\"T_67e59_row2_col4\" class=\"data row2 col4\" >0.090000</td>\n",
       "      <td id=\"T_67e59_row2_col5\" class=\"data row2 col5\" >0.040000</td>\n",
       "      <td id=\"T_67e59_row2_col6\" class=\"data row2 col6\" >0.000000</td>\n",
       "      <td id=\"T_67e59_row2_col7\" class=\"data row2 col7\" >0.000000</td>\n",
       "      <td id=\"T_67e59_row2_col8\" class=\"data row2 col8\" >0.000000</td>\n",
       "      <td id=\"T_67e59_row2_col9\" class=\"data row2 col9\" >0.100000</td>\n",
       "      <td id=\"T_67e59_row2_col10\" class=\"data row2 col10\" >0</td>\n",
       "    </tr>\n",
       "    <tr>\n",
       "      <th id=\"T_67e59_level0_row3\" class=\"row_heading level0 row3\" >Doc3</th>\n",
       "      <td id=\"T_67e59_row3_col0\" class=\"data row3 col0\" >0.790000</td>\n",
       "      <td id=\"T_67e59_row3_col1\" class=\"data row3 col1\" >0.000000</td>\n",
       "      <td id=\"T_67e59_row3_col2\" class=\"data row3 col2\" >0.030000</td>\n",
       "      <td id=\"T_67e59_row3_col3\" class=\"data row3 col3\" >0.000000</td>\n",
       "      <td id=\"T_67e59_row3_col4\" class=\"data row3 col4\" >0.000000</td>\n",
       "      <td id=\"T_67e59_row3_col5\" class=\"data row3 col5\" >0.030000</td>\n",
       "      <td id=\"T_67e59_row3_col6\" class=\"data row3 col6\" >0.000000</td>\n",
       "      <td id=\"T_67e59_row3_col7\" class=\"data row3 col7\" >0.000000</td>\n",
       "      <td id=\"T_67e59_row3_col8\" class=\"data row3 col8\" >0.000000</td>\n",
       "      <td id=\"T_67e59_row3_col9\" class=\"data row3 col9\" >0.160000</td>\n",
       "      <td id=\"T_67e59_row3_col10\" class=\"data row3 col10\" >0</td>\n",
       "    </tr>\n",
       "    <tr>\n",
       "      <th id=\"T_67e59_level0_row4\" class=\"row_heading level0 row4\" >Doc4</th>\n",
       "      <td id=\"T_67e59_row4_col0\" class=\"data row4 col0\" >0.060000</td>\n",
       "      <td id=\"T_67e59_row4_col1\" class=\"data row4 col1\" >0.110000</td>\n",
       "      <td id=\"T_67e59_row4_col2\" class=\"data row4 col2\" >0.190000</td>\n",
       "      <td id=\"T_67e59_row4_col3\" class=\"data row4 col3\" >0.110000</td>\n",
       "      <td id=\"T_67e59_row4_col4\" class=\"data row4 col4\" >0.030000</td>\n",
       "      <td id=\"T_67e59_row4_col5\" class=\"data row4 col5\" >0.120000</td>\n",
       "      <td id=\"T_67e59_row4_col6\" class=\"data row4 col6\" >0.080000</td>\n",
       "      <td id=\"T_67e59_row4_col7\" class=\"data row4 col7\" >0.120000</td>\n",
       "      <td id=\"T_67e59_row4_col8\" class=\"data row4 col8\" >0.030000</td>\n",
       "      <td id=\"T_67e59_row4_col9\" class=\"data row4 col9\" >0.140000</td>\n",
       "      <td id=\"T_67e59_row4_col10\" class=\"data row4 col10\" >2</td>\n",
       "    </tr>\n",
       "    <tr>\n",
       "      <th id=\"T_67e59_level0_row5\" class=\"row_heading level0 row5\" >Doc5</th>\n",
       "      <td id=\"T_67e59_row5_col0\" class=\"data row5 col0\" >0.020000</td>\n",
       "      <td id=\"T_67e59_row5_col1\" class=\"data row5 col1\" >0.000000</td>\n",
       "      <td id=\"T_67e59_row5_col2\" class=\"data row5 col2\" >0.090000</td>\n",
       "      <td id=\"T_67e59_row5_col3\" class=\"data row5 col3\" >0.000000</td>\n",
       "      <td id=\"T_67e59_row5_col4\" class=\"data row5 col4\" >0.000000</td>\n",
       "      <td id=\"T_67e59_row5_col5\" class=\"data row5 col5\" >0.330000</td>\n",
       "      <td id=\"T_67e59_row5_col6\" class=\"data row5 col6\" >0.070000</td>\n",
       "      <td id=\"T_67e59_row5_col7\" class=\"data row5 col7\" >0.040000</td>\n",
       "      <td id=\"T_67e59_row5_col8\" class=\"data row5 col8\" >0.450000</td>\n",
       "      <td id=\"T_67e59_row5_col9\" class=\"data row5 col9\" >0.000000</td>\n",
       "      <td id=\"T_67e59_row5_col10\" class=\"data row5 col10\" >8</td>\n",
       "    </tr>\n",
       "    <tr>\n",
       "      <th id=\"T_67e59_level0_row6\" class=\"row_heading level0 row6\" >Doc6</th>\n",
       "      <td id=\"T_67e59_row6_col0\" class=\"data row6 col0\" >0.030000</td>\n",
       "      <td id=\"T_67e59_row6_col1\" class=\"data row6 col1\" >0.010000</td>\n",
       "      <td id=\"T_67e59_row6_col2\" class=\"data row6 col2\" >0.090000</td>\n",
       "      <td id=\"T_67e59_row6_col3\" class=\"data row6 col3\" >0.000000</td>\n",
       "      <td id=\"T_67e59_row6_col4\" class=\"data row6 col4\" >0.020000</td>\n",
       "      <td id=\"T_67e59_row6_col5\" class=\"data row6 col5\" >0.100000</td>\n",
       "      <td id=\"T_67e59_row6_col6\" class=\"data row6 col6\" >0.030000</td>\n",
       "      <td id=\"T_67e59_row6_col7\" class=\"data row6 col7\" >0.000000</td>\n",
       "      <td id=\"T_67e59_row6_col8\" class=\"data row6 col8\" >0.700000</td>\n",
       "      <td id=\"T_67e59_row6_col9\" class=\"data row6 col9\" >0.020000</td>\n",
       "      <td id=\"T_67e59_row6_col10\" class=\"data row6 col10\" >8</td>\n",
       "    </tr>\n",
       "    <tr>\n",
       "      <th id=\"T_67e59_level0_row7\" class=\"row_heading level0 row7\" >Doc7</th>\n",
       "      <td id=\"T_67e59_row7_col0\" class=\"data row7 col0\" >0.000000</td>\n",
       "      <td id=\"T_67e59_row7_col1\" class=\"data row7 col1\" >0.000000</td>\n",
       "      <td id=\"T_67e59_row7_col2\" class=\"data row7 col2\" >0.030000</td>\n",
       "      <td id=\"T_67e59_row7_col3\" class=\"data row7 col3\" >0.060000</td>\n",
       "      <td id=\"T_67e59_row7_col4\" class=\"data row7 col4\" >0.010000</td>\n",
       "      <td id=\"T_67e59_row7_col5\" class=\"data row7 col5\" >0.480000</td>\n",
       "      <td id=\"T_67e59_row7_col6\" class=\"data row7 col6\" >0.160000</td>\n",
       "      <td id=\"T_67e59_row7_col7\" class=\"data row7 col7\" >0.000000</td>\n",
       "      <td id=\"T_67e59_row7_col8\" class=\"data row7 col8\" >0.010000</td>\n",
       "      <td id=\"T_67e59_row7_col9\" class=\"data row7 col9\" >0.250000</td>\n",
       "      <td id=\"T_67e59_row7_col10\" class=\"data row7 col10\" >5</td>\n",
       "    </tr>\n",
       "    <tr>\n",
       "      <th id=\"T_67e59_level0_row8\" class=\"row_heading level0 row8\" >Doc8</th>\n",
       "      <td id=\"T_67e59_row8_col0\" class=\"data row8 col0\" >0.050000</td>\n",
       "      <td id=\"T_67e59_row8_col1\" class=\"data row8 col1\" >0.030000</td>\n",
       "      <td id=\"T_67e59_row8_col2\" class=\"data row8 col2\" >0.000000</td>\n",
       "      <td id=\"T_67e59_row8_col3\" class=\"data row8 col3\" >0.000000</td>\n",
       "      <td id=\"T_67e59_row8_col4\" class=\"data row8 col4\" >0.000000</td>\n",
       "      <td id=\"T_67e59_row8_col5\" class=\"data row8 col5\" >0.370000</td>\n",
       "      <td id=\"T_67e59_row8_col6\" class=\"data row8 col6\" >0.120000</td>\n",
       "      <td id=\"T_67e59_row8_col7\" class=\"data row8 col7\" >0.020000</td>\n",
       "      <td id=\"T_67e59_row8_col8\" class=\"data row8 col8\" >0.370000</td>\n",
       "      <td id=\"T_67e59_row8_col9\" class=\"data row8 col9\" >0.040000</td>\n",
       "      <td id=\"T_67e59_row8_col10\" class=\"data row8 col10\" >5</td>\n",
       "    </tr>\n",
       "    <tr>\n",
       "      <th id=\"T_67e59_level0_row9\" class=\"row_heading level0 row9\" >Doc9</th>\n",
       "      <td id=\"T_67e59_row9_col0\" class=\"data row9 col0\" >0.020000</td>\n",
       "      <td id=\"T_67e59_row9_col1\" class=\"data row9 col1\" >0.010000</td>\n",
       "      <td id=\"T_67e59_row9_col2\" class=\"data row9 col2\" >0.280000</td>\n",
       "      <td id=\"T_67e59_row9_col3\" class=\"data row9 col3\" >0.010000</td>\n",
       "      <td id=\"T_67e59_row9_col4\" class=\"data row9 col4\" >0.000000</td>\n",
       "      <td id=\"T_67e59_row9_col5\" class=\"data row9 col5\" >0.310000</td>\n",
       "      <td id=\"T_67e59_row9_col6\" class=\"data row9 col6\" >0.360000</td>\n",
       "      <td id=\"T_67e59_row9_col7\" class=\"data row9 col7\" >0.000000</td>\n",
       "      <td id=\"T_67e59_row9_col8\" class=\"data row9 col8\" >0.000000</td>\n",
       "      <td id=\"T_67e59_row9_col9\" class=\"data row9 col9\" >0.000000</td>\n",
       "      <td id=\"T_67e59_row9_col10\" class=\"data row9 col10\" >6</td>\n",
       "    </tr>\n",
       "    <tr>\n",
       "      <th id=\"T_67e59_level0_row10\" class=\"row_heading level0 row10\" >Doc10</th>\n",
       "      <td id=\"T_67e59_row10_col0\" class=\"data row10 col0\" >0.020000</td>\n",
       "      <td id=\"T_67e59_row10_col1\" class=\"data row10 col1\" >0.070000</td>\n",
       "      <td id=\"T_67e59_row10_col2\" class=\"data row10 col2\" >0.060000</td>\n",
       "      <td id=\"T_67e59_row10_col3\" class=\"data row10 col3\" >0.010000</td>\n",
       "      <td id=\"T_67e59_row10_col4\" class=\"data row10 col4\" >0.000000</td>\n",
       "      <td id=\"T_67e59_row10_col5\" class=\"data row10 col5\" >0.770000</td>\n",
       "      <td id=\"T_67e59_row10_col6\" class=\"data row10 col6\" >0.050000</td>\n",
       "      <td id=\"T_67e59_row10_col7\" class=\"data row10 col7\" >0.000000</td>\n",
       "      <td id=\"T_67e59_row10_col8\" class=\"data row10 col8\" >0.020000</td>\n",
       "      <td id=\"T_67e59_row10_col9\" class=\"data row10 col9\" >0.000000</td>\n",
       "      <td id=\"T_67e59_row10_col10\" class=\"data row10 col10\" >5</td>\n",
       "    </tr>\n",
       "    <tr>\n",
       "      <th id=\"T_67e59_level0_row11\" class=\"row_heading level0 row11\" >Doc11</th>\n",
       "      <td id=\"T_67e59_row11_col0\" class=\"data row11 col0\" >0.000000</td>\n",
       "      <td id=\"T_67e59_row11_col1\" class=\"data row11 col1\" >0.020000</td>\n",
       "      <td id=\"T_67e59_row11_col2\" class=\"data row11 col2\" >0.150000</td>\n",
       "      <td id=\"T_67e59_row11_col3\" class=\"data row11 col3\" >0.010000</td>\n",
       "      <td id=\"T_67e59_row11_col4\" class=\"data row11 col4\" >0.000000</td>\n",
       "      <td id=\"T_67e59_row11_col5\" class=\"data row11 col5\" >0.660000</td>\n",
       "      <td id=\"T_67e59_row11_col6\" class=\"data row11 col6\" >0.140000</td>\n",
       "      <td id=\"T_67e59_row11_col7\" class=\"data row11 col7\" >0.000000</td>\n",
       "      <td id=\"T_67e59_row11_col8\" class=\"data row11 col8\" >0.000000</td>\n",
       "      <td id=\"T_67e59_row11_col9\" class=\"data row11 col9\" >0.010000</td>\n",
       "      <td id=\"T_67e59_row11_col10\" class=\"data row11 col10\" >5</td>\n",
       "    </tr>\n",
       "    <tr>\n",
       "      <th id=\"T_67e59_level0_row12\" class=\"row_heading level0 row12\" >Doc12</th>\n",
       "      <td id=\"T_67e59_row12_col0\" class=\"data row12 col0\" >0.000000</td>\n",
       "      <td id=\"T_67e59_row12_col1\" class=\"data row12 col1\" >0.000000</td>\n",
       "      <td id=\"T_67e59_row12_col2\" class=\"data row12 col2\" >0.040000</td>\n",
       "      <td id=\"T_67e59_row12_col3\" class=\"data row12 col3\" >0.130000</td>\n",
       "      <td id=\"T_67e59_row12_col4\" class=\"data row12 col4\" >0.020000</td>\n",
       "      <td id=\"T_67e59_row12_col5\" class=\"data row12 col5\" >0.100000</td>\n",
       "      <td id=\"T_67e59_row12_col6\" class=\"data row12 col6\" >0.500000</td>\n",
       "      <td id=\"T_67e59_row12_col7\" class=\"data row12 col7\" >0.170000</td>\n",
       "      <td id=\"T_67e59_row12_col8\" class=\"data row12 col8\" >0.020000</td>\n",
       "      <td id=\"T_67e59_row12_col9\" class=\"data row12 col9\" >0.010000</td>\n",
       "      <td id=\"T_67e59_row12_col10\" class=\"data row12 col10\" >6</td>\n",
       "    </tr>\n",
       "    <tr>\n",
       "      <th id=\"T_67e59_level0_row13\" class=\"row_heading level0 row13\" >Doc13</th>\n",
       "      <td id=\"T_67e59_row13_col0\" class=\"data row13 col0\" >0.000000</td>\n",
       "      <td id=\"T_67e59_row13_col1\" class=\"data row13 col1\" >0.000000</td>\n",
       "      <td id=\"T_67e59_row13_col2\" class=\"data row13 col2\" >0.280000</td>\n",
       "      <td id=\"T_67e59_row13_col3\" class=\"data row13 col3\" >0.000000</td>\n",
       "      <td id=\"T_67e59_row13_col4\" class=\"data row13 col4\" >0.000000</td>\n",
       "      <td id=\"T_67e59_row13_col5\" class=\"data row13 col5\" >0.000000</td>\n",
       "      <td id=\"T_67e59_row13_col6\" class=\"data row13 col6\" >0.710000</td>\n",
       "      <td id=\"T_67e59_row13_col7\" class=\"data row13 col7\" >0.000000</td>\n",
       "      <td id=\"T_67e59_row13_col8\" class=\"data row13 col8\" >0.000000</td>\n",
       "      <td id=\"T_67e59_row13_col9\" class=\"data row13 col9\" >0.000000</td>\n",
       "      <td id=\"T_67e59_row13_col10\" class=\"data row13 col10\" >6</td>\n",
       "    </tr>\n",
       "    <tr>\n",
       "      <th id=\"T_67e59_level0_row14\" class=\"row_heading level0 row14\" >Doc14</th>\n",
       "      <td id=\"T_67e59_row14_col0\" class=\"data row14 col0\" >0.000000</td>\n",
       "      <td id=\"T_67e59_row14_col1\" class=\"data row14 col1\" >0.000000</td>\n",
       "      <td id=\"T_67e59_row14_col2\" class=\"data row14 col2\" >0.000000</td>\n",
       "      <td id=\"T_67e59_row14_col3\" class=\"data row14 col3\" >0.000000</td>\n",
       "      <td id=\"T_67e59_row14_col4\" class=\"data row14 col4\" >0.020000</td>\n",
       "      <td id=\"T_67e59_row14_col5\" class=\"data row14 col5\" >0.250000</td>\n",
       "      <td id=\"T_67e59_row14_col6\" class=\"data row14 col6\" >0.060000</td>\n",
       "      <td id=\"T_67e59_row14_col7\" class=\"data row14 col7\" >0.000000</td>\n",
       "      <td id=\"T_67e59_row14_col8\" class=\"data row14 col8\" >0.660000</td>\n",
       "      <td id=\"T_67e59_row14_col9\" class=\"data row14 col9\" >0.000000</td>\n",
       "      <td id=\"T_67e59_row14_col10\" class=\"data row14 col10\" >8</td>\n",
       "    </tr>\n",
       "  </tbody>\n",
       "</table>\n"
      ],
      "text/plain": [
       "<pandas.io.formats.style.Styler at 0x27e9f92f850>"
      ]
     },
     "execution_count": 26,
     "metadata": {},
     "output_type": "execute_result"
    }
   ],
   "source": [
    "# Create Document — Topic Matrix\n",
    "lda_output_GS = best_lda_model.transform(data_vectorized)\n",
    "# column names\n",
    "topicnames = ['Topic' + str(i) for i in range(best_lda_model.n_components)]\n",
    "# index names\n",
    "docnames = ['Doc' + str(i) for i in range(len(data_cleaned))]\n",
    "# Make the pandas dataframe\n",
    "df_document_topic = pd.DataFrame(np.round(lda_output_GS, 2), columns=topicnames, index=docnames)\n",
    "# Get dominant topic for each document\n",
    "dominant_topic = np.argmax(df_document_topic.values, axis=1)\n",
    "df_document_topic['dominant_topic'] = dominant_topic\n",
    "# Styling\n",
    "def color_green(val):\n",
    " color = 'red' if val > .1 else 'black'\n",
    " return 'color: {col}'.format(col=color)\n",
    "def make_bold(val):\n",
    " weight = 700 if val > .1 else 400\n",
    " return 'font-weight: {weight}'.format(weight=weight)\n",
    "# Apply Style\n",
    "df_document_topics = df_document_topic.head(15).style.applymap(color_green).applymap(make_bold)\n",
    "df_document_topics"
   ]
  },
  {
   "cell_type": "code",
   "execution_count": 32,
   "metadata": {
    "colab": {
     "base_uri": "https://localhost:8080/",
     "height": 334
    },
    "executionInfo": {
     "elapsed": 372,
     "status": "ok",
     "timestamp": 1649594765113,
     "user": {
      "displayName": "Khaled SAAD",
      "userId": "01813135692060672401"
     },
     "user_tz": -120
    },
    "id": "2WcR_THzgnpJ",
    "outputId": "8a789438-902c-4ab4-c35b-e7db649939ec"
   },
   "outputs": [
    {
     "data": {
      "text/html": [
       "<div>\n",
       "<style scoped>\n",
       "    .dataframe tbody tr th:only-of-type {\n",
       "        vertical-align: middle;\n",
       "    }\n",
       "\n",
       "    .dataframe tbody tr th {\n",
       "        vertical-align: top;\n",
       "    }\n",
       "\n",
       "    .dataframe thead th {\n",
       "        text-align: right;\n",
       "    }\n",
       "</style>\n",
       "<table border=\"1\" class=\"dataframe\">\n",
       "  <thead>\n",
       "    <tr style=\"text-align: right;\">\n",
       "      <th></th>\n",
       "      <th>aaa</th>\n",
       "      <th>aap</th>\n",
       "      <th>aaron</th>\n",
       "      <th>aarp</th>\n",
       "      <th>aarti</th>\n",
       "      <th>aback</th>\n",
       "      <th>abandon</th>\n",
       "      <th>abandoned</th>\n",
       "      <th>abandonment</th>\n",
       "      <th>abbas</th>\n",
       "      <th>...</th>\n",
       "      <th>zinke</th>\n",
       "      <th>zip</th>\n",
       "      <th>zoe</th>\n",
       "      <th>zombie</th>\n",
       "      <th>zone</th>\n",
       "      <th>zoo</th>\n",
       "      <th>zoom</th>\n",
       "      <th>zucchini</th>\n",
       "      <th>zucker</th>\n",
       "      <th>zuckerberg</th>\n",
       "    </tr>\n",
       "  </thead>\n",
       "  <tbody>\n",
       "    <tr>\n",
       "      <th>Topic0</th>\n",
       "      <td>0.100011</td>\n",
       "      <td>0.100011</td>\n",
       "      <td>0.100044</td>\n",
       "      <td>0.100004</td>\n",
       "      <td>0.100137</td>\n",
       "      <td>0.100021</td>\n",
       "      <td>2.058065</td>\n",
       "      <td>0.100020</td>\n",
       "      <td>0.100174</td>\n",
       "      <td>0.100034</td>\n",
       "      <td>...</td>\n",
       "      <td>0.100004</td>\n",
       "      <td>0.100037</td>\n",
       "      <td>0.100001</td>\n",
       "      <td>0.100031</td>\n",
       "      <td>0.100028</td>\n",
       "      <td>0.100004</td>\n",
       "      <td>0.100008</td>\n",
       "      <td>0.100002</td>\n",
       "      <td>25.515694</td>\n",
       "      <td>0.100083</td>\n",
       "    </tr>\n",
       "    <tr>\n",
       "      <th>Topic1</th>\n",
       "      <td>18.725984</td>\n",
       "      <td>0.100003</td>\n",
       "      <td>0.100032</td>\n",
       "      <td>0.100004</td>\n",
       "      <td>0.100042</td>\n",
       "      <td>0.100048</td>\n",
       "      <td>43.278902</td>\n",
       "      <td>0.100200</td>\n",
       "      <td>0.100034</td>\n",
       "      <td>59.359370</td>\n",
       "      <td>...</td>\n",
       "      <td>0.100001</td>\n",
       "      <td>0.100072</td>\n",
       "      <td>0.100010</td>\n",
       "      <td>0.100045</td>\n",
       "      <td>166.636968</td>\n",
       "      <td>0.100009</td>\n",
       "      <td>0.100025</td>\n",
       "      <td>0.100003</td>\n",
       "      <td>0.100005</td>\n",
       "      <td>0.100048</td>\n",
       "    </tr>\n",
       "    <tr>\n",
       "      <th>Topic2</th>\n",
       "      <td>0.100014</td>\n",
       "      <td>0.100006</td>\n",
       "      <td>39.564724</td>\n",
       "      <td>0.100012</td>\n",
       "      <td>0.100013</td>\n",
       "      <td>20.330915</td>\n",
       "      <td>3.679522</td>\n",
       "      <td>3.149781</td>\n",
       "      <td>13.552318</td>\n",
       "      <td>0.100007</td>\n",
       "      <td>...</td>\n",
       "      <td>0.100001</td>\n",
       "      <td>0.100034</td>\n",
       "      <td>0.100017</td>\n",
       "      <td>0.100031</td>\n",
       "      <td>12.043164</td>\n",
       "      <td>0.100013</td>\n",
       "      <td>18.277126</td>\n",
       "      <td>0.100006</td>\n",
       "      <td>0.100033</td>\n",
       "      <td>0.100014</td>\n",
       "    </tr>\n",
       "    <tr>\n",
       "      <th>Topic3</th>\n",
       "      <td>0.100261</td>\n",
       "      <td>0.100027</td>\n",
       "      <td>0.100170</td>\n",
       "      <td>7.825536</td>\n",
       "      <td>0.100047</td>\n",
       "      <td>0.100045</td>\n",
       "      <td>11.752389</td>\n",
       "      <td>0.100409</td>\n",
       "      <td>0.100134</td>\n",
       "      <td>0.100006</td>\n",
       "      <td>...</td>\n",
       "      <td>0.100005</td>\n",
       "      <td>19.689154</td>\n",
       "      <td>0.100007</td>\n",
       "      <td>0.100023</td>\n",
       "      <td>0.100027</td>\n",
       "      <td>0.100021</td>\n",
       "      <td>0.100043</td>\n",
       "      <td>0.100002</td>\n",
       "      <td>0.100037</td>\n",
       "      <td>0.100174</td>\n",
       "    </tr>\n",
       "    <tr>\n",
       "      <th>Topic4</th>\n",
       "      <td>0.100012</td>\n",
       "      <td>0.100001</td>\n",
       "      <td>0.100031</td>\n",
       "      <td>0.100012</td>\n",
       "      <td>0.100009</td>\n",
       "      <td>0.100030</td>\n",
       "      <td>27.504479</td>\n",
       "      <td>0.100107</td>\n",
       "      <td>0.100324</td>\n",
       "      <td>0.100020</td>\n",
       "      <td>...</td>\n",
       "      <td>0.100011</td>\n",
       "      <td>0.100017</td>\n",
       "      <td>0.100002</td>\n",
       "      <td>0.100050</td>\n",
       "      <td>0.100019</td>\n",
       "      <td>0.100001</td>\n",
       "      <td>0.100009</td>\n",
       "      <td>0.100001</td>\n",
       "      <td>0.100032</td>\n",
       "      <td>0.100058</td>\n",
       "    </tr>\n",
       "  </tbody>\n",
       "</table>\n",
       "<p>5 rows × 17664 columns</p>\n",
       "</div>"
      ],
      "text/plain": [
       "              aaa       aap      aaron      aarp     aarti      aback  \\\n",
       "Topic0   0.100011  0.100011   0.100044  0.100004  0.100137   0.100021   \n",
       "Topic1  18.725984  0.100003   0.100032  0.100004  0.100042   0.100048   \n",
       "Topic2   0.100014  0.100006  39.564724  0.100012  0.100013  20.330915   \n",
       "Topic3   0.100261  0.100027   0.100170  7.825536  0.100047   0.100045   \n",
       "Topic4   0.100012  0.100001   0.100031  0.100012  0.100009   0.100030   \n",
       "\n",
       "          abandon  abandoned  abandonment      abbas  ...     zinke  \\\n",
       "Topic0   2.058065   0.100020     0.100174   0.100034  ...  0.100004   \n",
       "Topic1  43.278902   0.100200     0.100034  59.359370  ...  0.100001   \n",
       "Topic2   3.679522   3.149781    13.552318   0.100007  ...  0.100001   \n",
       "Topic3  11.752389   0.100409     0.100134   0.100006  ...  0.100005   \n",
       "Topic4  27.504479   0.100107     0.100324   0.100020  ...  0.100011   \n",
       "\n",
       "              zip       zoe    zombie        zone       zoo       zoom  \\\n",
       "Topic0   0.100037  0.100001  0.100031    0.100028  0.100004   0.100008   \n",
       "Topic1   0.100072  0.100010  0.100045  166.636968  0.100009   0.100025   \n",
       "Topic2   0.100034  0.100017  0.100031   12.043164  0.100013  18.277126   \n",
       "Topic3  19.689154  0.100007  0.100023    0.100027  0.100021   0.100043   \n",
       "Topic4   0.100017  0.100002  0.100050    0.100019  0.100001   0.100009   \n",
       "\n",
       "        zucchini     zucker  zuckerberg  \n",
       "Topic0  0.100002  25.515694    0.100083  \n",
       "Topic1  0.100003   0.100005    0.100048  \n",
       "Topic2  0.100006   0.100033    0.100014  \n",
       "Topic3  0.100002   0.100037    0.100174  \n",
       "Topic4  0.100001   0.100032    0.100058  \n",
       "\n",
       "[5 rows x 17664 columns]"
      ]
     },
     "execution_count": 32,
     "metadata": {},
     "output_type": "execute_result"
    }
   ],
   "source": [
    "# Topic-Keyword Matrix\n",
    "df_topic_keywords = pd.DataFrame(best_lda_model.components_)\n",
    "# Assign Column and Index\n",
    "df_topic_keywords.columns = vectorizer.get_feature_names()\n",
    "df_topic_keywords.index = topicnames\n",
    "# View\n",
    "df_topic_keywords.head() "
   ]
  },
  {
   "cell_type": "markdown",
   "metadata": {
    "id": "i7IWMNrfgwFa"
   },
   "source": [
    "Get the top 15 keywords each topic"
   ]
  },
  {
   "cell_type": "code",
   "execution_count": 44,
   "metadata": {
    "colab": {
     "base_uri": "https://localhost:8080/",
     "height": 1000
    },
    "executionInfo": {
     "elapsed": 540,
     "status": "ok",
     "timestamp": 1649594811033,
     "user": {
      "displayName": "Khaled SAAD",
      "userId": "01813135692060672401"
     },
     "user_tz": -120
    },
    "id": "6umwF0ZPgxGM",
    "outputId": "f1e218d9-f21b-4453-f068-2022b99f1d34"
   },
   "outputs": [
    {
     "data": {
      "text/html": [
       "<div>\n",
       "<style scoped>\n",
       "    .dataframe tbody tr th:only-of-type {\n",
       "        vertical-align: middle;\n",
       "    }\n",
       "\n",
       "    .dataframe tbody tr th {\n",
       "        vertical-align: top;\n",
       "    }\n",
       "\n",
       "    .dataframe thead th {\n",
       "        text-align: right;\n",
       "    }\n",
       "</style>\n",
       "<table border=\"1\" class=\"dataframe\">\n",
       "  <thead>\n",
       "    <tr style=\"text-align: right;\">\n",
       "      <th></th>\n",
       "      <th>Word 0</th>\n",
       "      <th>Word 1</th>\n",
       "      <th>Word 2</th>\n",
       "      <th>Word 3</th>\n",
       "      <th>Word 4</th>\n",
       "      <th>Word 5</th>\n",
       "      <th>Word 6</th>\n",
       "      <th>Word 7</th>\n",
       "      <th>Word 8</th>\n",
       "      <th>Word 9</th>\n",
       "      <th>Word 10</th>\n",
       "      <th>Word 11</th>\n",
       "      <th>Word 12</th>\n",
       "      <th>Word 13</th>\n",
       "      <th>Word 14</th>\n",
       "    </tr>\n",
       "  </thead>\n",
       "  <tbody>\n",
       "    <tr>\n",
       "      <th>Topic 0</th>\n",
       "      <td>trump</td>\n",
       "      <td>president</td>\n",
       "      <td>clinton</td>\n",
       "      <td>campaign</td>\n",
       "      <td>obama</td>\n",
       "      <td>news</td>\n",
       "      <td>donald</td>\n",
       "      <td>house</td>\n",
       "      <td>white</td>\n",
       "      <td>email</td>\n",
       "      <td>russia</td>\n",
       "      <td>election</td>\n",
       "      <td>report</td>\n",
       "      <td>statement</td>\n",
       "      <td>national</td>\n",
       "    </tr>\n",
       "    <tr>\n",
       "      <th>Topic 1</th>\n",
       "      <td>police</td>\n",
       "      <td>people</td>\n",
       "      <td>report</td>\n",
       "      <td>city</td>\n",
       "      <td>attack</td>\n",
       "      <td>kill</td>\n",
       "      <td>officer</td>\n",
       "      <td>force</td>\n",
       "      <td>family</td>\n",
       "      <td>group</td>\n",
       "      <td>war</td>\n",
       "      <td>military</td>\n",
       "      <td>gun</td>\n",
       "      <td>npr</td>\n",
       "      <td>death</td>\n",
       "    </tr>\n",
       "    <tr>\n",
       "      <th>Topic 2</th>\n",
       "      <td>music</td>\n",
       "      <td>play</td>\n",
       "      <td>new</td>\n",
       "      <td>record</td>\n",
       "      <td>album</td>\n",
       "      <td>team</td>\n",
       "      <td>win</td>\n",
       "      <td>film</td>\n",
       "      <td>world</td>\n",
       "      <td>game</td>\n",
       "      <td>love</td>\n",
       "      <td>artist</td>\n",
       "      <td>band</td>\n",
       "      <td>include</td>\n",
       "      <td>sound</td>\n",
       "    </tr>\n",
       "    <tr>\n",
       "      <th>Topic 3</th>\n",
       "      <td>people</td>\n",
       "      <td>company</td>\n",
       "      <td>percent</td>\n",
       "      <td>pay</td>\n",
       "      <td>health</td>\n",
       "      <td>million</td>\n",
       "      <td>care</td>\n",
       "      <td>job</td>\n",
       "      <td>work</td>\n",
       "      <td>money</td>\n",
       "      <td>tax</td>\n",
       "      <td>plan</td>\n",
       "      <td>cost</td>\n",
       "      <td>business</td>\n",
       "      <td>program</td>\n",
       "    </tr>\n",
       "    <tr>\n",
       "      <th>Topic 4</th>\n",
       "      <td>trump</td>\n",
       "      <td>clinton</td>\n",
       "      <td>vote</td>\n",
       "      <td>state</td>\n",
       "      <td>election</td>\n",
       "      <td>voter</td>\n",
       "      <td>win</td>\n",
       "      <td>campaign</td>\n",
       "      <td>republican</td>\n",
       "      <td>candidate</td>\n",
       "      <td>party</td>\n",
       "      <td>republicans</td>\n",
       "      <td>democratic</td>\n",
       "      <td>democrats</td>\n",
       "      <td>poll</td>\n",
       "    </tr>\n",
       "    <tr>\n",
       "      <th>Topic 5</th>\n",
       "      <td>people</td>\n",
       "      <td>thing</td>\n",
       "      <td>way</td>\n",
       "      <td>woman</td>\n",
       "      <td>work</td>\n",
       "      <td>life</td>\n",
       "      <td>story</td>\n",
       "      <td>look</td>\n",
       "      <td>good</td>\n",
       "      <td>lot</td>\n",
       "      <td>feel</td>\n",
       "      <td>book</td>\n",
       "      <td>kind</td>\n",
       "      <td>family</td>\n",
       "      <td>talk</td>\n",
       "    </tr>\n",
       "    <tr>\n",
       "      <th>Topic 6</th>\n",
       "      <td>food</td>\n",
       "      <td>water</td>\n",
       "      <td>eat</td>\n",
       "      <td>animal</td>\n",
       "      <td>plant</td>\n",
       "      <td>restaurant</td>\n",
       "      <td>small</td>\n",
       "      <td>grow</td>\n",
       "      <td>farm</td>\n",
       "      <td>cook</td>\n",
       "      <td>land</td>\n",
       "      <td>place</td>\n",
       "      <td>area</td>\n",
       "      <td>home</td>\n",
       "      <td>farmer</td>\n",
       "    </tr>\n",
       "    <tr>\n",
       "      <th>Topic 7</th>\n",
       "      <td>school</td>\n",
       "      <td>state</td>\n",
       "      <td>law</td>\n",
       "      <td>student</td>\n",
       "      <td>court</td>\n",
       "      <td>case</td>\n",
       "      <td>federal</td>\n",
       "      <td>public</td>\n",
       "      <td>report</td>\n",
       "      <td>right</td>\n",
       "      <td>justice</td>\n",
       "      <td>department</td>\n",
       "      <td>rule</td>\n",
       "      <td>education</td>\n",
       "      <td>judge</td>\n",
       "    </tr>\n",
       "    <tr>\n",
       "      <th>Topic 8</th>\n",
       "      <td>study</td>\n",
       "      <td>health</td>\n",
       "      <td>people</td>\n",
       "      <td>patient</td>\n",
       "      <td>disease</td>\n",
       "      <td>drug</td>\n",
       "      <td>medical</td>\n",
       "      <td>research</td>\n",
       "      <td>test</td>\n",
       "      <td>doctor</td>\n",
       "      <td>hospital</td>\n",
       "      <td>researcher</td>\n",
       "      <td>brain</td>\n",
       "      <td>child</td>\n",
       "      <td>university</td>\n",
       "    </tr>\n",
       "    <tr>\n",
       "      <th>Topic 9</th>\n",
       "      <td>country</td>\n",
       "      <td>china</td>\n",
       "      <td>world</td>\n",
       "      <td>government</td>\n",
       "      <td>united</td>\n",
       "      <td>international</td>\n",
       "      <td>refugee</td>\n",
       "      <td>north</td>\n",
       "      <td>south</td>\n",
       "      <td>american</td>\n",
       "      <td>states</td>\n",
       "      <td>war</td>\n",
       "      <td>president</td>\n",
       "      <td>chinese</td>\n",
       "      <td>foreign</td>\n",
       "    </tr>\n",
       "  </tbody>\n",
       "</table>\n",
       "</div>"
      ],
      "text/plain": [
       "          Word 0     Word 1   Word 2      Word 3    Word 4         Word 5  \\\n",
       "Topic 0    trump  president  clinton    campaign     obama           news   \n",
       "Topic 1   police     people   report        city    attack           kill   \n",
       "Topic 2    music       play      new      record     album           team   \n",
       "Topic 3   people    company  percent         pay    health        million   \n",
       "Topic 4    trump    clinton     vote       state  election          voter   \n",
       "Topic 5   people      thing      way       woman      work           life   \n",
       "Topic 6     food      water      eat      animal     plant     restaurant   \n",
       "Topic 7   school      state      law     student     court           case   \n",
       "Topic 8    study     health   people     patient   disease           drug   \n",
       "Topic 9  country      china    world  government    united  international   \n",
       "\n",
       "          Word 6    Word 7      Word 8     Word 9   Word 10      Word 11  \\\n",
       "Topic 0   donald     house       white      email    russia     election   \n",
       "Topic 1  officer     force      family      group       war     military   \n",
       "Topic 2      win      film       world       game      love       artist   \n",
       "Topic 3     care       job        work      money       tax         plan   \n",
       "Topic 4      win  campaign  republican  candidate     party  republicans   \n",
       "Topic 5    story      look        good        lot      feel         book   \n",
       "Topic 6    small      grow        farm       cook      land        place   \n",
       "Topic 7  federal    public      report      right   justice   department   \n",
       "Topic 8  medical  research        test     doctor  hospital   researcher   \n",
       "Topic 9  refugee     north       south   american    states          war   \n",
       "\n",
       "            Word 12    Word 13     Word 14  \n",
       "Topic 0      report  statement    national  \n",
       "Topic 1         gun        npr       death  \n",
       "Topic 2        band    include       sound  \n",
       "Topic 3        cost   business     program  \n",
       "Topic 4  democratic  democrats        poll  \n",
       "Topic 5        kind     family        talk  \n",
       "Topic 6        area       home      farmer  \n",
       "Topic 7        rule  education       judge  \n",
       "Topic 8       brain      child  university  \n",
       "Topic 9   president    chinese     foreign  "
      ]
     },
     "execution_count": 44,
     "metadata": {},
     "output_type": "execute_result"
    }
   ],
   "source": [
    "# Show top n keywords for each topic\n",
    "def show_topics(vectorizer=vectorizer, lda_model=best_lda_model, n_words=20):\n",
    "    keywords = np.array(vectorizer.get_feature_names())\n",
    "    topic_keywords = []\n",
    "    for topic_weights in lda_model.components_:\n",
    "        top_keyword_locs = (-topic_weights).argsort()[:n_words]\n",
    "        topic_keywords.append(keywords.take(top_keyword_locs))\n",
    "    return topic_keywords\n",
    "topic_keywords = show_topics(vectorizer=vectorizer, lda_model=best_lda_model, n_words=15)\n",
    "# Topic - Keywords Dataframe\n",
    "df_topic_keywords = pd.DataFrame(topic_keywords)\n",
    "df_topic_keywords.columns = ['Word '+str(i) for i in range(df_topic_keywords.shape[1])]\n",
    "df_topic_keywords.index = ['Topic '+str(i) for i in range(df_topic_keywords.shape[0])]\n",
    "df_topic_keywords"
   ]
  },
  {
   "cell_type": "markdown",
   "metadata": {
    "id": "DgSU4P4yhOGC"
   },
   "source": [
    "### Predict Topics using LDA model"
   ]
  },
  {
   "cell_type": "code",
   "execution_count": 80,
   "metadata": {
    "colab": {
     "base_uri": "https://localhost:8080/"
    },
    "executionInfo": {
     "elapsed": 889,
     "status": "ok",
     "timestamp": 1649595089697,
     "user": {
      "displayName": "Khaled SAAD",
      "userId": "01813135692060672401"
     },
     "user_tz": -120
    },
    "id": "YqHqv-FihPEN",
    "outputId": "7dc9d20a-c62a-4b52-dbbc-65d738688c8b"
   },
   "outputs": [],
   "source": [
    "nlp = spacy.blank(\"en\")\n",
    "\n",
    "def predict_topic(text, nlp=nlp):\n",
    "\n",
    "    # Step 1: Clean with simple_preprocess\n",
    "    mytext_1 = clean_txt(text[0])\n",
    "    \n",
    "    # Step 2: Remove digit\n",
    "    mytext_2 = remove_digit(mytext_1)\n",
    "    \n",
    "    # Step 3: Remove specific words\n",
    "    mytext_3 = stop_words(mytext_2)\n",
    "    \n",
    "    # Step 4: Remove stop words\n",
    "    mytext_4 = remove_stop_words(mytext_3)\n",
    "    \n",
    "    # Step 5: Lemmatize\n",
    "    mytext_5 = lemmatization(mytext_4)\n",
    "    \n",
    "    # Step 6: Vectorize transform\n",
    "    mytext_6 = vectorizer.transform([mytext_5])\n",
    "    \n",
    "    # Step 7: LDA Transform\n",
    "    topic_probability_scores = best_lda_model.transform(mytext_6)\n",
    "    topic = df_topic_keywords.iloc[np.argmax(topic_probability_scores), 1:14].values.tolist()\n",
    "    \n",
    "    return topic, topic_probability_scores"
   ]
  },
  {
   "cell_type": "code",
   "execution_count": 81,
   "metadata": {},
   "outputs": [
    {
     "name": "stdout",
     "output_type": "stream",
     "text": [
      "['president', 'clinton', 'campaign', 'obama', 'news', 'donald', 'house', 'white', 'email', 'russia', 'election', 'report', 'statement']\n"
     ]
    }
   ],
   "source": [
    "# Predict the topic\n",
    "mytext = [\"Former President Donald Trump expressed admiration for Barack Obama at an event on Saturday night, after years of criticizing and insulting him.Trump made the comments to Bill O'Reilly on the first night of their four-date History Tour in Sunrise, Florida.\"]\n",
    "topic, prob_scores = predict_topic(text = mytext)\n",
    "print(topic)"
   ]
  },
  {
   "cell_type": "code",
   "execution_count": 82,
   "metadata": {
    "id": "qNvBk4Cgjk5I"
   },
   "outputs": [],
   "source": [
    "def apply_predict_topic(text):\n",
    "    text = [text]\n",
    "    topic, prob_scores = predict_topic(text = text)\n",
    "    return(infer_topic)"
   ]
  },
  {
   "cell_type": "code",
   "execution_count": 95,
   "metadata": {
    "id": "r6FT4tfMnTME"
   },
   "outputs": [],
   "source": [
    "nlp = spacy.blank(\"en\")\n",
    "\n",
    "def similar_documents(text, doc_topic_probs, documents = data_cleaned, nlp=nlp, top_n=5, verbose=False):\n",
    "    topic, x  = predict_topic(text)\n",
    "    dists = euclidean_distances(x.reshape(1, -1), doc_topic_probs)[0]\n",
    "    doc_ids = np.argsort(dists)[:top_n]\n",
    "    if verbose:        \n",
    "#         print(\"Topic KeyWords: \", topic)\n",
    "#         print(\"Topic Prob Scores of text: \", np.round(x, 3))\n",
    "#         print(\"Most Similar Doc's Probs:  \", np.round(doc_topic_probs[doc_ids], 1))\n",
    "        return topic, np.round(doc_topic_probs[doc_ids], 1)"
   ]
  },
  {
   "cell_type": "code",
   "execution_count": 97,
   "metadata": {
    "colab": {
     "base_uri": "https://localhost:8080/"
    },
    "executionInfo": {
     "elapsed": 3674,
     "status": "ok",
     "timestamp": 1649596782216,
     "user": {
      "displayName": "Khaled SAAD",
      "userId": "01813135692060672401"
     },
     "user_tz": -120
    },
    "id": "YsOoNV8onW4w",
    "outputId": "e2e1da15-1fdb-4cb5-f61b-a93fa4e81850"
   },
   "outputs": [],
   "source": [
    "mytext = [\"Former President Donald Trump expressed admiration for Barack Obama at an event on Saturday night, after years of criticizing and insulting him.Trump made the comments to Bill O'Reilly on the first night of their four-date History Tour in Sunrise, Florida.\"]\n",
    "# mytext = [\"Team BS est un groupe de hip-hop et de pop français, originaire de la banlieue parisienne, se composant de La Fouine, Sultan, Fababy et Sindy.\"]\n",
    "topic, score = similar_documents(text=mytext, doc_topic_probs=lda_output_GS, documents = data_cleaned['Article'].tolist(), top_n=1, verbose=True)"
   ]
  },
  {
   "cell_type": "code",
   "execution_count": 98,
   "metadata": {},
   "outputs": [
    {
     "name": "stdout",
     "output_type": "stream",
     "text": [
      "Topic : ['president', 'clinton', 'campaign', 'obama', 'news', 'donald', 'house', 'white', 'email', 'russia', 'election', 'report', 'statement']\n",
      "\n",
      "Score : [[0.7 0.  0.1 0.  0.1 0.1 0.  0.  0.  0. ]]\n"
     ]
    }
   ],
   "source": [
    "print('Topic :', topic)\n",
    "print()\n",
    "print('Score :', score)"
   ]
  },
  {
   "cell_type": "markdown",
   "metadata": {
    "id": "8pAElmtKo1mp"
   },
   "source": [
    "https://yanlinc.medium.com/how-to-build-a-lda-topic-model-using-from-text-601cdcbfd3a6\n",
    "\n",
    "https://www.machinelearningplus.com/nlp/topic-modeling-python-sklearn-examples/#5tokenizeandcleanupusinggensimssimple_preprocess"
   ]
  }
 ],
 "metadata": {
  "accelerator": "GPU",
  "colab": {
   "collapsed_sections": [],
   "name": "GridSearchCV_LDA.ipynb",
   "provenance": []
  },
  "kernelspec": {
   "display_name": "Python 3",
   "language": "python",
   "name": "python3"
  },
  "language_info": {
   "codemirror_mode": {
    "name": "ipython",
    "version": 3
   },
   "file_extension": ".py",
   "mimetype": "text/x-python",
   "name": "python",
   "nbconvert_exporter": "python",
   "pygments_lexer": "ipython3",
   "version": "3.8.5"
  }
 },
 "nbformat": 4,
 "nbformat_minor": 1
}
